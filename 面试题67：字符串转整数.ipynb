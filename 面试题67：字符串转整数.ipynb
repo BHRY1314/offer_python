{
 "cells": [
  {
   "cell_type": "code",
   "execution_count": 2,
   "metadata": {},
   "outputs": [],
   "source": [
    "def StrToInt(s):\n",
    "    if not s:\n",
    "        return 0\n",
    "    res=0\n",
    "    mult=1\n",
    "    flag=1\n",
    "    if s[0]=='-' or s[0]=='+':\n",
    "        if s[0]=='-':\n",
    "            flag=-1\n",
    "        s=s[1:]\n",
    "    for i in range(len(s)-1,-1,-1):\n",
    "        if '9'>=s[i]>='0':\n",
    "            res+=(ord(s[i])-48)*mult\n",
    "            print(\"mult:\",mult)\n",
    "        else:\n",
    "            return 0\n",
    "    return res*flag"
   ]
  },
  {
   "cell_type": "code",
   "execution_count": null,
   "metadata": {},
   "outputs": [],
   "source": [
    "'''\n",
    "利用正则表达式\n",
    "'''\n",
    "def StrToInt(s):\n",
    "    if not s:\n",
    "        return 0\n",
    "    pattern = r'^[-+]{0,1}[0-9]{1,}$'\n",
    "    if re.match(pattern,s):\n",
    "        return int(s)\n",
    "    else:\n",
    "        return 0"
   ]
  }
 ],
 "metadata": {
  "kernelspec": {
   "display_name": "Python 3",
   "language": "python",
   "name": "python3"
  },
  "language_info": {
   "codemirror_mode": {
    "name": "ipython",
    "version": 3
   },
   "file_extension": ".py",
   "mimetype": "text/x-python",
   "name": "python",
   "nbconvert_exporter": "python",
   "pygments_lexer": "ipython3",
   "version": "3.6.6"
  }
 },
 "nbformat": 4,
 "nbformat_minor": 2
}
