{
 "cells": [
  {
   "cell_type": "markdown",
   "metadata": {},
   "source": [
    "# 题目一：数组中只出现一次的两个数字\n",
    "\n",
    "### 一个整型数组里除两个数字之外，其他数字都出现了两次。请写程序找出这两个只出现一次的数字。要求时间复杂度是O（n）,空间复杂度是O（1），例如，输入数组{2,4,3,6,3,2,5,5}，因为只有4和6这两个数字出现了一次，其他数字都出现了两次，所以输出4和6\n"
   ]
  },
  {
   "cell_type": "code",
   "execution_count": null,
   "metadata": {},
   "outputs": [],
   "source": [
    "'''\n",
    "思路：\n",
    "\n",
    "我们可以使用异或运算的一个性质：任何一个数字异或它自己都等于0.也就是说，如果我们从头到尾以此异或数组的每个数字，那么最终的结果刚好是那个只出现一次的数字，因为那些成对出现两次的数字全部在异或中抵消了。\n",
    "\n",
    "我们试着把原数组分为两个子数组，使得每个子数组包含一个只出现一次的数字，而其他数字都成对出现两次。如果能够这样拆分成两个数组，那么我们就可以按照前面的方法分别找出两个只出现一次的数字了。\n",
    "\n",
    "我们还是从头到尾以此异或数组中的每个数字，那么最终得到的结果就是两个只出现一次的数字的异或结果，因为其他数字都出现了两次，在异或中全部抵消了。由于这两个数字肯定不一样，那么异或的结果肯定不为0，也就是说，在这个结果数字的二进制表示中至少有一位为1.我们在结果数字中找到第一个为1的位的位置，记为第n位。现在我们以第n位是不是1位标准把原数组中的数字分为两个子数组，第一个子数组中每个数字的第n位都是1，而第二个子数组中每个数字的第n位都是0.由于我们分组的标准是数字中的某一位是1还是0，那么出现了两次的数字肯定被分配到同一个子数组。因为两个相同的数字的任意一位都是相同的，我们不可能把两个相同的数字分配到两个子数组中去，于是我们已经把原数组分成了两个子数组，每个子数组都包含一个只出现一次的数字，而其他数字都出现了两次。我们已经知道如何在数组中找出唯一一个只出现一次的数字，因此，到此为止所有的问题都已经解决了。\n",
    "\n",
    "'''\n",
    "def IsBit1(num,indexBit):\n",
    "    num=num>>indexBit\n",
    "    return num&1\n",
    "def FindNumsAppearOnce(data):\n",
    "    if not data:\n",
    "        return data\n",
    "    temp=0\n",
    "    for i in data:\n",
    "        temp^=i\n",
    "    #获取temp中最低位1的位置\n",
    "    index=0\n",
    "    while temp&1==0:\n",
    "        temp>>=1\n",
    "        index+=1\n",
    "    num1=num2=0\n",
    "    for i in data:\n",
    "        if IsBit1(i,index):\n",
    "            num1^=i\n",
    "        else:\n",
    "            num2^=i\n",
    "    return [num1,num2]"
   ]
  },
  {
   "cell_type": "code",
   "execution_count": null,
   "metadata": {},
   "outputs": [],
   "source": [
    "'''\n",
    "大神的一行代码\n",
    "'''\n",
    "from collections import Counter\n",
    "def FindNumsAppearOnce(data):\n",
    "    return list(map(lambda c:c[0],Counter(data).most_common()[-2:]))"
   ]
  },
  {
   "cell_type": "markdown",
   "metadata": {},
   "source": [
    "# 题目二：数组中唯一只出现一次的数字\n",
    "\n",
    "### 在一个数组中除一个数字只出现一次之外，其他数字都出现了三次，请找出那个只出现一次的数字"
   ]
  },
  {
   "cell_type": "code",
   "execution_count": null,
   "metadata": {},
   "outputs": [],
   "source": [
    "'''\n",
    "思路：\n",
    "\n",
    "我们可以沿用位运算的思路。如果一个数字出现三次，那么它的二进制表示的每一位（0或者1）也出现三次。如果把所有出现三次的数字的二进制表示的每一位都分别加起来，那么每一位的和都能被3整除。\n",
    "\n",
    "我们把数组中所有数字的二进制表示的每一位都加起来。如果某一位的和能被3整除，那么那个只出现一次的数字二进制表示中对应的那一位就是0，否则就是1\n",
    "'''\n",
    "def FindNumberAppearingOnce(numbers):\n",
    "    if not numbers:\n",
    "        return None\n",
    "    bitSum=[0]*32\n",
    "    length=len(numbers)\n",
    "    for i in range(length):\n",
    "        bitMask=1\n",
    "        for j in range(31,-1,-1):\n",
    "            bit=numbers[i]&bitMask\n",
    "            if bit!=0:\n",
    "                bitSum[j]+=1\n",
    "            bitMask=bitMask<<1\n",
    "    result=0\n",
    "    for i in range(32):\n",
    "        result=result<<1\n",
    "        result+=bitSum[i]%3\n",
    "    return result"
   ]
  },
  {
   "cell_type": "code",
   "execution_count": null,
   "metadata": {},
   "outputs": [],
   "source": [
    "'''\n",
    "更简洁的写法\n",
    "'''\n",
    "def FindNUmberAppearingOnce(nums):\n",
    "    count=[0]*32\n",
    "    for i in nums:\n",
    "        temp=0\n",
    "        while temp<32:\n",
    "            count[temp]+=num>>temp&1\n",
    "            temp+=1\n",
    "    res=0\n",
    "    for i in range(32):\n",
    "        # 因为其他数字都出现了三次，只有一个数字出现了一次\n",
    "        # 也就说明count[i]%3等于0或1\n",
    "        res+=count[i]%3*2**i\n",
    "    return res"
   ]
  }
 ],
 "metadata": {
  "kernelspec": {
   "display_name": "Python 3",
   "language": "python",
   "name": "python3"
  },
  "language_info": {
   "codemirror_mode": {
    "name": "ipython",
    "version": 3
   },
   "file_extension": ".py",
   "mimetype": "text/x-python",
   "name": "python",
   "nbconvert_exporter": "python",
   "pygments_lexer": "ipython3",
   "version": "3.6.6"
  }
 },
 "nbformat": 4,
 "nbformat_minor": 2
}
