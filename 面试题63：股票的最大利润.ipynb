{
 "cells": [
  {
   "cell_type": "markdown",
   "metadata": {},
   "source": [
    "# 题目\n",
    "\n",
    "### 假设把某股票价格按照时间先后顺序存储在数组中，请问买卖该股票一次可能获得的最大利润是多少？例如，一只股票在某些时间节点的价格为{9、11、8、5、7、12、16、14}。如果我们能在价格为5的时候买入在价格为16时卖出，则能收获最大的利润11。"
   ]
  },
  {
   "cell_type": "code",
   "execution_count": 4,
   "metadata": {},
   "outputs": [
    {
     "data": {
      "text/plain": [
       "0"
      ]
     },
     "execution_count": 4,
     "metadata": {},
     "output_type": "execute_result"
    }
   ],
   "source": [
    "'''\n",
    "思路：\n",
    "\n",
    "我们先定义函数diff(i)为当卖出价为数组中第i个数字时可能获得的最大利润。显然，在卖出价固定时，买入价越低获得的利润越大。也就是说，如果扫描到数组中的第i个数字时，只要我们能够记住之前的i-1个数字中的最小值，就能算出在当前价位卖出时可能得到的最大利润。\n",
    "'''\n",
    "def MaxDiff(numbers):\n",
    "    if not numbers:\n",
    "        return 0\n",
    "    min_num=numbers[0]\n",
    "    maxDiff=numbers[1]-min_num\n",
    "    if maxDiff<0:\n",
    "        maxDiff=0\n",
    "    length=len(numbers)\n",
    "    for i in range(2,length):\n",
    "        if numbers[i-1]<min_num:\n",
    "            min_num=numbers[i-1]\n",
    "        currentDiff=numbers[i]-min_num\n",
    "        if currentDiff>maxDiff:\n",
    "            maxDiff=currentDiff\n",
    "    return maxDiff\n",
    "\n",
    "MaxDiff([7,6,5,4,3,2,1])"
   ]
  },
  {
   "cell_type": "code",
   "execution_count": 6,
   "metadata": {},
   "outputs": [
    {
     "data": {
      "text/plain": [
       "0"
      ]
     },
     "execution_count": 6,
     "metadata": {},
     "output_type": "execute_result"
    }
   ],
   "source": [
    "'''\n",
    "更简洁的方法\n",
    "'''\n",
    "def MaxDiff(prices):\n",
    "    if not prices:\n",
    "        return 0\n",
    "    res=0\n",
    "    min_num=prices[0]\n",
    "    for i in prices[1:]:\n",
    "        min_num=min(min_num,i)\n",
    "        if res<i-min_num:\n",
    "            res=i-min_num\n",
    "    return res\n",
    "MaxDiff([7,6,5,4,3,2,1])"
   ]
  },
  {
   "cell_type": "code",
   "execution_count": null,
   "metadata": {},
   "outputs": [],
   "source": []
  }
 ],
 "metadata": {
  "kernelspec": {
   "display_name": "Python 3",
   "language": "python",
   "name": "python3"
  },
  "language_info": {
   "codemirror_mode": {
    "name": "ipython",
    "version": 3
   },
   "file_extension": ".py",
   "mimetype": "text/x-python",
   "name": "python",
   "nbconvert_exporter": "python",
   "pygments_lexer": "ipython3",
   "version": "3.6.6"
  }
 },
 "nbformat": 4,
 "nbformat_minor": 2
}
