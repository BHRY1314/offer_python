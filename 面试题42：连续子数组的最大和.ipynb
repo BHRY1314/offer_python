{
 "cells": [
  {
   "cell_type": "markdown",
   "metadata": {},
   "source": [
    "# 题目\n",
    "\n",
    "### 输入一个整型数组，数组里有正数也有负数。数组中的一个或者连续多个整数组成一个子数组。求所有子数组的和的最大值。要求时间复杂度为O(n)。例如，输入的数组为{1，-2,3,10，-4,7,2，-5}和最大的子数组为{3,10，-4,7,2}，因此输出为该子数组的和18"
   ]
  },
  {
   "cell_type": "code",
   "execution_count": null,
   "metadata": {},
   "outputs": [],
   "source": [
    "'''\n",
    "思路：\n",
    "\n",
    "我们试着从头到尾逐个累加示例数组中的每个数字。初始化为0。第一步加上第一个数字1，此时和为1.第二步加上数字-2，和就变成了-1，第三步加上数字3.我们注意到由于此前累加的和是-1，小于0，那如果用-1加上3，得到的和是2，比3本身还小。也就是说，从第一个数字开始的子数组的和会小于从第三个数字开始的子数组的和。因此，我们不用考虑从第一个数字开始的子数组，之前累加的和也被抛弃。\n",
    "\n",
    "我们从第三个数字重新开始累加，此时得到的和是3。第四步加10，得到的和为13.第五步加上-4，和为9。我们发现，由于-4是一个负数，因此累加-4之后得到的和比原来的和还要小。因此，我们要把之前得到的和13保存下来，因为它有可能是最大的子数组的和。第六步加上数字7,9加7的结果是16，此时的和比之前最大的和13还要大，把最大的子数组的和由13更新为16,。第七步加上2，累加得到的和为18，同时更新最大子数组的和。第八步加上最后一个数字-5，由于得到的和为13，小于此前最大的和18，因此，最终最大的子数组的和为18，对应的子数组是{3,10，-4,7,2}。\n",
    "'''\n",
    "g_InvalidInput=False\n",
    "def FindGreatesSumOfSubArray(pData):\n",
    "    if not pData:\n",
    "        g_InvalidInput=True\n",
    "        return 0\n",
    "    l=len(pData)\n",
    "    g_InvalidInput=False\n",
    "    nCurSum=0\n",
    "    nGreatestSum=-2**31\n",
    "    for i in range(l):\n",
    "        if nCurSum<=0:\n",
    "            nCurSum=pData[i]\n",
    "        else:\n",
    "            nCurSum+=pData[i]\n",
    "        if nCurSum>nGreatestSum:\n",
    "            nGreatestSum=nCurSum\n",
    "    return nGreatestSum"
   ]
  },
  {
   "cell_type": "code",
   "execution_count": null,
   "metadata": {},
   "outputs": [],
   "source": [
    "'''\n",
    "使用动态规划来解答\n",
    "\n",
    "借用一下别人的解析：\n",
    "  dp[i]表示以元素array[i]结尾的最大连续子数组和.\n",
    "  以[-2,-3,4,-1,-2,1,5,-3]为例\n",
    "  可以发现,\n",
    "  dp[0] = -2\n",
    "  dp[1] = -3\n",
    "  dp[2] = 4\n",
    "  dp[3] = 3\n",
    "  以此类推,会发现\n",
    "  dp[i] = max{dp[i-1]+array[i],array[i]}.\n",
    "'''\n",
    "def FindGreatesSumOfSubArray(pData):\n",
    "    if not pData:\n",
    "        return 0\n",
    "    l=len(pData)\n",
    "    dp=[i for i in pData]\n",
    "    for i in range(1,l):\n",
    "        dp[i]=max(dp[i-1]+pData[i],pData[i])\n",
    "    return max(dp)"
   ]
  },
  {
   "cell_type": "markdown",
   "metadata": {},
   "source": [
    "#### 动态规划的具体思路\n",
    "\n",
    "#### 如果用函数f(i)表示以第i个数字结尾的子数组的最大和，那么我们需要求出max[f(i)]，其中0≤i≤n。我们可以用如下递归公式求f(i) \n",
    "![title](42.png)\n",
    "#### 这个公式的意义：当以第i-1个数字结尾的子数组中所有数字的和小于0时，如果把这个负数与第i个数累加，则得到的结果比第i个数字本身还要小，所以这种情况下以第i个数字结尾的子数组中所有数字的和大于0，则与第i个数字累加就得到以第i个数字结尾的子数组中所有数字的和"
   ]
  },
  {
   "cell_type": "code",
   "execution_count": null,
   "metadata": {},
   "outputs": [],
   "source": []
  }
 ],
 "metadata": {
  "kernelspec": {
   "display_name": "Python 3",
   "language": "python",
   "name": "python3"
  },
  "language_info": {
   "codemirror_mode": {
    "name": "ipython",
    "version": 3
   },
   "file_extension": ".py",
   "mimetype": "text/x-python",
   "name": "python",
   "nbconvert_exporter": "python",
   "pygments_lexer": "ipython3",
   "version": "3.6.6"
  }
 },
 "nbformat": 4,
 "nbformat_minor": 2
}
