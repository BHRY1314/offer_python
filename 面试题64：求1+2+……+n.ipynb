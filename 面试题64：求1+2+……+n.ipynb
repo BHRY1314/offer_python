{
 "cells": [
  {
   "cell_type": "markdown",
   "metadata": {},
   "source": [
    "# 题目\n",
    "\n",
    "### 求1+2+3+……+n,要求不能使用乘除法、for、while、if else、switch case等关键字以及条件判断语句（A？B：C）"
   ]
  },
  {
   "cell_type": "code",
   "execution_count": null,
   "metadata": {},
   "outputs": [],
   "source": [
    "'''\n",
    "Python利用内置函数\n",
    "'''\n",
    "def Sum_solution(n):\n",
    "    n=range(1,n+1)\n",
    "    return sum(n)"
   ]
  },
  {
   "cell_type": "code",
   "execution_count": null,
   "metadata": {},
   "outputs": [],
   "source": [
    "'''\n",
    "利用短路求值原理\n",
    "利用短路 && 来实现 if的功能\n",
    "'''\n",
    "def Sum_solution(n):\n",
    "    res=n\n",
    "    temp=res and Sum_soluton(n-1)\n",
    "    res=res+temp\n",
    "    return res"
   ]
  }
 ],
 "metadata": {
  "kernelspec": {
   "display_name": "Python 3",
   "language": "python",
   "name": "python3"
  },
  "language_info": {
   "codemirror_mode": {
    "name": "ipython",
    "version": 3
   },
   "file_extension": ".py",
   "mimetype": "text/x-python",
   "name": "python",
   "nbconvert_exporter": "python",
   "pygments_lexer": "ipython3",
   "version": "3.6.6"
  }
 },
 "nbformat": 4,
 "nbformat_minor": 2
}
