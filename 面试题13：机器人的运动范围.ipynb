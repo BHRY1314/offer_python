{
 "cells": [
  {
   "cell_type": "markdown",
   "metadata": {},
   "source": [
    "# 题目\n",
    "\n",
    "#### 地上有一个m行n列的方格。一个机器人从坐标（0,0）的格子开始移动，它每次可以向左，右，上，下移动一格，但不能进入行坐标和列坐标的数位之和大于k的格子。例如，当k为18时，机器人能够进入方格（35,37），因为3+5+3+7=18,。但它不能进入方格（35,38），因为3+5+3+8=10.请问机器人能够达到多少个格子"
   ]
  },
  {
   "cell_type": "code",
   "execution_count": 4,
   "metadata": {},
   "outputs": [
    {
     "data": {
      "text/plain": [
       "1340"
      ]
     },
     "execution_count": 4,
     "metadata": {},
     "output_type": "execute_result"
    }
   ],
   "source": [
    "'''\n",
    "思路：\n",
    "\n",
    "这道题目和之前的类似，同样可以使用回溯法来解决。这个方格可以看做一个mxn的矩阵。同样，\n",
    "在这个矩阵中，除边界上的格子之外，其他格子都有4个相邻的格子\n",
    "\n",
    "机器人从坐标（0,0）开始移动。当它进入坐标为（i,j）的格子时，通过检查坐标的数位和来判\n",
    "断机器人是否能够进入。如果机器人能够进入坐标为（i,j）的格子，则再判断它能够进入4个相\n",
    "邻的格子(i,j-1)、(i-1,j)、(i,j+1)和(i+1,j)。\n",
    "'''\n",
    "\n",
    "'''\n",
    "check用来判断机器人能够进入坐标为(row,col)的方格，而函数getDigitSum用来得到一个数字\n",
    "的数位之和\n",
    "'''\n",
    "def getDigitSum(number):\n",
    "    sum=0\n",
    "    while number>0:\n",
    "        sum+=number%10\n",
    "        number/=10\n",
    "    return sum\n",
    "\n",
    "def check(threshold,rows,cols,row,col,visited):\n",
    "    if row>=0 and row<rows and col>=0 and col<cols and getDigitSum(row)+getDigitSum(col)<=threshold and visited[row*cols+col]==False:\n",
    "        return True\n",
    "    return False\n",
    "\n",
    "'''\n",
    "实现回溯法\n",
    "'''\n",
    "def movingCountCore(threshold,rows,cols,row,col,visited):\n",
    "    count=0\n",
    "    if check(threshold,rows,cols,row,col,visited):\n",
    "        visited[row*cols+col]=True\n",
    "        count=1+movingCountCore(threshold,rows,cols,row-1,col,visited)+movingCountCore(threshold,rows,cols,row,col-1,visited)+movingCountCore(threshold,rows,cols,row+1,col,visited)+movingCountCore(threshold,rows,cols,row,col+1,visited)\n",
    "    return count\n",
    "\n",
    "def movingCount(threshold,rows,cols):\n",
    "    if threshold<=0 or rows<=0 or cols<=0:\n",
    "        return 0\n",
    "    visited=[False for i in range(rows*cols)]\n",
    "    count=movingCountCore(threshold,rows,cols,0,0,visited)\n",
    "    del visited\n",
    "    return count\n",
    "\n",
    "movingCount(18,40,40)"
   ]
  },
  {
   "cell_type": "code",
   "execution_count": null,
   "metadata": {},
   "outputs": [],
   "source": []
  }
 ],
 "metadata": {
  "celltoolbar": "Raw Cell Format",
  "kernelspec": {
   "display_name": "Python 3",
   "language": "python",
   "name": "python3"
  },
  "language_info": {
   "codemirror_mode": {
    "name": "ipython",
    "version": 3
   },
   "file_extension": ".py",
   "mimetype": "text/x-python",
   "name": "python",
   "nbconvert_exporter": "python",
   "pygments_lexer": "ipython3",
   "version": "3.6.6"
  }
 },
 "nbformat": 4,
 "nbformat_minor": 2
}
