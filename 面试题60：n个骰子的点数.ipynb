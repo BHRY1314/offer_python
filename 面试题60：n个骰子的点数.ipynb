{
 "cells": [
  {
   "cell_type": "markdown",
   "metadata": {},
   "source": [
    "# 题目\n",
    "\n",
    "### 把n个骰子扔在地上，所有骰子朝上一面的点数之和为s。输入n,打印出s的所有可能的值出现的概率"
   ]
  },
  {
   "cell_type": "code",
   "execution_count": 16,
   "metadata": {},
   "outputs": [
    {
     "name": "stdout",
     "output_type": "stream",
     "text": [
      "3:4.629630e-03\n",
      "\n",
      "4:1.388889e-02\n",
      "\n",
      "5:2.777778e-02\n",
      "\n",
      "6:4.629630e-02\n",
      "\n",
      "7:6.944444e-02\n",
      "\n",
      "8:9.722222e-02\n",
      "\n",
      "9:1.157407e-01\n",
      "\n",
      "10:1.250000e-01\n",
      "\n",
      "11:1.250000e-01\n",
      "\n",
      "12:1.157407e-01\n",
      "\n",
      "13:9.722222e-02\n",
      "\n",
      "14:6.944444e-02\n",
      "\n",
      "15:4.629630e-02\n",
      "\n",
      "16:2.777778e-02\n",
      "\n",
      "17:1.388889e-02\n",
      "\n",
      "18:4.629630e-03\n",
      "\n"
     ]
    }
   ],
   "source": [
    "'''\n",
    "思路：\n",
    "\n",
    "基于递归求解，缺点：时间复杂度高\n",
    "\n",
    "要想求出n个骰子的点数和，可以先把n个骰子分成两堆：第一堆中已有一个；另一堆有n-1个。单独的那一个有可能出现1~6的点数。我们需要计算1~6的每一种点数和剩下的n-1个骰子来计算点数和。接下来把剩下的n-1个骰子仍然分成两堆：第一堆只有一个；第二堆有n-2个。我们把上一轮那个单独骰子的点数和这一轮单独骰子的点数想加，再和剩下的n-2个投机来计算点数和。不难看出，这是一个递归的思路\n",
    "我们可以定义一个长度为6n-n+1的数组，将和为s的点数出现的次数保存到数组的第s-n个元素里\n",
    "'''\n",
    "g_MaxValue=6\n",
    "def Probability(original,current,sum,pProbabilities):\n",
    "    if current==1:\n",
    "        pProbabilities[sum-original]+=1\n",
    "    else:\n",
    "        for i in range(1,g_MaxValue+1):\n",
    "            Probability(original,current-1,i+sum,pProbabilities)\n",
    "\n",
    "def GetProbability(number,pProbabilities):\n",
    "    for i in range(1,g_MaxValue+1):\n",
    "        Probability(number,number,i,pProbabilities)\n",
    "def PrintProbability(number):\n",
    "    if number<1:\n",
    "        return None\n",
    "    maxSum=number*g_MaxValue\n",
    "    pProbabilities=[0]*(maxSum-number+1)\n",
    "    \n",
    "    GetProbability(number,pProbabilities)\n",
    "    \n",
    "    total=pow(g_MaxValue,number)\n",
    "    for i in range(number,maxSum+1):\n",
    "        ratio=pProbabilities[i-number]/total\n",
    "        print(\"%d:%e\\n\"%(i,ratio))\n",
    "\n",
    "PrintProbability(3)"
   ]
  },
  {
   "cell_type": "code",
   "execution_count": 15,
   "metadata": {},
   "outputs": [
    {
     "name": "stdout",
     "output_type": "stream",
     "text": [
      "3:4.629630e-03\n",
      "\n",
      "4:1.388889e-02\n",
      "\n",
      "5:2.777778e-02\n",
      "\n",
      "6:4.629630e-02\n",
      "\n",
      "7:6.944444e-02\n",
      "\n",
      "8:9.722222e-02\n",
      "\n",
      "9:1.250000e-01\n",
      "\n",
      "10:1.527778e-01\n",
      "\n",
      "11:1.805556e-01\n",
      "\n",
      "12:2.083333e-01\n",
      "\n",
      "13:2.361111e-01\n",
      "\n",
      "14:2.361111e-01\n",
      "\n",
      "15:2.361111e-01\n",
      "\n",
      "16:2.361111e-01\n",
      "\n",
      "17:2.361111e-01\n",
      "\n",
      "18:2.361111e-01\n",
      "\n"
     ]
    }
   ],
   "source": [
    "'''\n",
    "基于循环求点数，时间效率好\n",
    "\n",
    "可以换一种思路来解决这个问题。我们可以考虑用两个数组来存储骰子点数的每个总数出现的次数。在一轮循环中，第一个数组中的第n个数字表示骰子和为n出现的次数。在下一轮循环中，我们加上一个新的骰子，此时和为n的骰子出现的次数应该等于上一轮循环中骰子点数都和为n-1、n-2、n-3、n-4、n-5和n-6的次数的总和，所以我们把另一个数组的第n个数字设为前一个数组对应的第n-1、n-2、n-3、n-4、n-5、n-6个数字之和\n",
    "'''\n",
    "def PrintProbability(number):\n",
    "    if number<1:\n",
    "        return None\n",
    "    pProbabilities=[[0]*(g_MaxValue*number+1),[0]*(g_MaxValue*number+1)]\n",
    "    flag=0\n",
    "    for i in range(1,g_MaxValue+1):\n",
    "        pProbabilities[flag][i]=1\n",
    "    for k in range(2,number+1):\n",
    "        for i in range(k):\n",
    "            pProbabilities[1-flag][i]=0\n",
    "        for i in range(k,g_MaxValue*k+1):\n",
    "            pProbabilities[1-flag][i]=0\n",
    "            for j in range(1,i):\n",
    "                pProbabilities[1-flag][i]+=pProbabilities[flag][i-j]\n",
    "        flag=1-flag\n",
    "    total=pow(g_MaxValue,number)\n",
    "    for i in range(number,g_MaxValue*number+1):\n",
    "        ratio=pProbabilities[flag][i]/total\n",
    "        print(\"%d:%e\\n\"%(i,ratio))\n",
    "    \n",
    "PrintProbability(3)"
   ]
  },
  {
   "cell_type": "code",
   "execution_count": 18,
   "metadata": {},
   "outputs": [
    {
     "data": {
      "text/plain": [
       "[0.004629629629629629,\n",
       " 0.013888888888888888,\n",
       " 0.027777777777777776,\n",
       " 0.046296296296296294,\n",
       " 0.06944444444444445,\n",
       " 0.09722222222222222,\n",
       " 0.11574074074074074,\n",
       " 0.125,\n",
       " 0.125,\n",
       " 0.11574074074074074,\n",
       " 0.09722222222222222,\n",
       " 0.06944444444444445,\n",
       " 0.046296296296296294,\n",
       " 0.027777777777777776,\n",
       " 0.013888888888888888,\n",
       " 0.004629629629629629]"
      ]
     },
     "execution_count": 18,
     "metadata": {},
     "output_type": "execute_result"
    }
   ],
   "source": [
    "'''\n",
    "Python使用动态规划\n",
    "原文链接：http://www.ishenping.com/ArtInfo/1041907.html\n",
    "'''\n",
    "def offer60(n):\n",
    "    # 第n个骰子得到k的次数由n-1个骰子 k-1 ~ k-6 的个数和所决定，动规递推式\n",
    "    # f(n,k) = f(n-1,k-1) + f(n-1,k-2) + f(n-1,k-3)+ f(n-1,k-4)+ f(n-1,k-5)+ f(n-1,k-6)\n",
    "    if n < 0: return\n",
    "    number = [1 for _ in range(6)]\n",
    "    total = 6 ** n\n",
    "    for _ in range(2, n + 1):\n",
    "        tmp = [number[0]]\n",
    "        for i in range(1, len(number)):  # 这样的处理方式避免重复运算\n",
    "            if i - 6 < 0:\n",
    "                tmp.append(tmp[-1] + number[i])\n",
    "            else:\n",
    "                tmp.append(tmp[-1] - number[i - 6] + number[i])\n",
    "        new = [number[-1]]  # 随着骰子数增多，每次多5种结果\n",
    "        for i in range(-2, -6, -1):\n",
    "            new.insert(0, new[i + 1] + number[i])\n",
    "        # new = [(sum(number[-i:])) for i in range(5, 0, -1)]   这种处理冗余计算\n",
    "        number = tmp + new\n",
    "    return [i / total for i in number]\n",
    "offer60(3)"
   ]
  },
  {
   "cell_type": "code",
   "execution_count": null,
   "metadata": {},
   "outputs": [],
   "source": []
  }
 ],
 "metadata": {
  "kernelspec": {
   "display_name": "Python 3",
   "language": "python",
   "name": "python3"
  },
  "language_info": {
   "codemirror_mode": {
    "name": "ipython",
    "version": 3
   },
   "file_extension": ".py",
   "mimetype": "text/x-python",
   "name": "python",
   "nbconvert_exporter": "python",
   "pygments_lexer": "ipython3",
   "version": "3.6.6"
  }
 },
 "nbformat": 4,
 "nbformat_minor": 2
}
