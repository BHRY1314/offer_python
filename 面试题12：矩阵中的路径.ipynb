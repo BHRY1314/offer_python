{
 "cells": [
  {
   "cell_type": "markdown",
   "metadata": {},
   "source": [
    "# 题目\n",
    "\n",
    "#### 设计一个函数，用来判断在一个矩阵中是否存在一条包含某字符串所有字符的路径。路径可以从矩阵中的任意一格开始，每一步可以在矩阵中向左，右，上，下移动一格。如果一条路径经过了矩阵的某一格，那么该路径不能再次进入该格子。例如，在下面的3x4的矩阵中包含一条字符串“bfce”的路径（路径中的字母用下划线标出）。但矩阵中不包含字符“abfb”的路径，因为字符串的第一个字符b占据了矩阵的第一行第二个格子之后，路径不能再次进入这个格子\n"
   ]
  },
  {
   "cell_type": "markdown",
   "metadata": {},
   "source": [
    "$$\\begin{bmatrix}\n",
    "a & \\underline{b} & t  & g \\\\ \n",
    "c & \\underline{f} & \\underline{c} & s \\\\ \n",
    "j & d & \\underline{e} & h \n",
    "\\end{bmatrix}$$"
   ]
  },
  {
   "cell_type": "code",
   "execution_count": 46,
   "metadata": {
    "scrolled": true
   },
   "outputs": [
    {
     "data": {
      "text/plain": [
       "True"
      ]
     },
     "execution_count": 46,
     "metadata": {},
     "output_type": "execute_result"
    }
   ],
   "source": [
    "'''\n",
    "思路：\n",
    "首先，在矩阵中任选一个格子作为路径的起点。假设矩阵中某个格子的字符为ch,并且这个格子将对\n",
    "应路径上的第i个字符。如果路径上的第i个字符不是ch，那么这个格子不可能处于路径上的第i个位\n",
    "置。如果路径上的第i个字符正好是ch，那么到相邻的格子寻找路径上的第i+1个字符。除矩阵边界\n",
    "上的格子之外，其他格子都有4个相邻的格子。重复这个过程，直到路径上的所有字符都在矩阵中\n",
    "找到相应的位置。\n",
    "\n",
    "由于回溯法的递归特性，路径可以被看成一个栈。当在矩阵中定位了路径中前n个字符的位置之后，\n",
    "在与第n个字符对应的格子的周围都没有找到第n+1个字符，这时候只好在路径上回到第N-1个字符，\n",
    "重新定位第n个字符\n",
    "'''\n",
    "import numpy as np\n",
    "\n",
    "def hasPathCore(matrix,rows,cols,row,col,strs,pathLength,visited):\n",
    "    '''\n",
    "    根据书中代码改写\n",
    "    '''\n",
    "    if pathLength>=len(strs):\n",
    "        return True\n",
    "    hasPath=False\n",
    "    if row>=0 and row<rows and col>=0 and col<cols and matrix[row*cols+col]==strs[pathLength] and visited[row*cols+col]==False:\n",
    "        pathLength+=1\n",
    "        visited[row*cols+col]=True\n",
    "        hasPath=hasPathCore(matrix,rows,cols,row,col-1,strs,pathLength,visited)\\\n",
    "        or hasPathCore(matrix,rows,cols,row-1,col,strs,pathLength,visited)\\\n",
    "        or hasPathCore(matrix,rows,cols,row,col+1,strs,pathLength,visited)\\\n",
    "        or hasPathCore(matrix,rows,cols,row+1,col,strs,pathLength,visited)\n",
    "        if hasPath==False:\n",
    "            pathLength-=1\n",
    "            visited[row*cols+col]=False\n",
    "    return hasPath\n",
    "\n",
    "def hasPath(matrix,rows,cols,strs):\n",
    "    if len(matrix)<=0 or rows<1 or cols<1 or len(strs)<=0:\n",
    "        return False\n",
    "    visited=np.array([0]*(rows*cols))\n",
    "    pathLength=0\n",
    "    for row in range(0,rows):\n",
    "        for col in range(0,cols):\n",
    "            if hasPathCore(matrix,rows,cols,row,col,strs,pathLength,visited):\n",
    "                return True\n",
    "            \n",
    "    del visited\n",
    "    return False\n",
    "\n",
    "a=np.array(['a','b','t','g','c','f','c','s','j','d','e','h'])\n",
    "hasPath(a,3,4,'btce')"
   ]
  },
  {
   "cell_type": "code",
   "execution_count": 53,
   "metadata": {},
   "outputs": [
    {
     "data": {
      "text/plain": [
       "True"
      ]
     },
     "execution_count": 53,
     "metadata": {},
     "output_type": "execute_result"
    }
   ],
   "source": [
    "'''\n",
    "重新改写了一下\n",
    "'''\n",
    "def FindPath(matrix,rows,cols,row,col,path,pathLength,visited):\n",
    "    if pathLength>=len(path):\n",
    "        return True\n",
    "    hasPath=False\n",
    "    if row>=0 and row<rows and col>=0 and col<cols and matrix[row*cols+col]==path[pathLength] and visited[row*cols+col]==False:\n",
    "        pathLength+=1\n",
    "        visited[row*cols+row]=True\n",
    "        hasPath=FindPath(matrix,rows,cols,row,col-1,path,pathLength,visited) or FindPath(matrix,rows,cols,row-1,col,path,pathLength,visited) or FindPath(matrix,rows,cols,row,col+1,path,pathLength,visited) or FindPath(matrix,rows,cols,row+1,col,path,pathLength,visited)\n",
    "        if not hasPath:\n",
    "            pathLength-=1\n",
    "            visited[row*rows+col]=False\n",
    "    return hasPath\n",
    "\n",
    "def hasPath(matrix,rows,cols,path):\n",
    "    if path is None or path=='' or rows<=0 or cols<=0:\n",
    "        return False\n",
    "    visited=[False for i in range(rows*cols)]\n",
    "    pathLength=0\n",
    "    for i in range(rows):\n",
    "        for j in range(cols):\n",
    "            if FindPath(matrix,rows,cols,i,j,path,pathLength,visited):\n",
    "                return True\n",
    "    return False\n",
    "\n",
    "a=np.array(['a','b','t','g','c','f','c','s','j','d','e','h'])\n",
    "hasPath(a,3,4,'btce')"
   ]
  },
  {
   "cell_type": "code",
   "execution_count": null,
   "metadata": {},
   "outputs": [],
   "source": []
  }
 ],
 "metadata": {
  "kernelspec": {
   "display_name": "Python 3",
   "language": "python",
   "name": "python3"
  },
  "language_info": {
   "codemirror_mode": {
    "name": "ipython",
    "version": 3
   },
   "file_extension": ".py",
   "mimetype": "text/x-python",
   "name": "python",
   "nbconvert_exporter": "python",
   "pygments_lexer": "ipython3",
   "version": "3.6.6"
  }
 },
 "nbformat": 4,
 "nbformat_minor": 2
}
