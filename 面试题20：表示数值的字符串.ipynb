{
 "cells": [
  {
   "cell_type": "markdown",
   "metadata": {},
   "source": [
    "# 题目\n",
    "\n",
    "### 请实现一个函数用来判断字符串是否表示数值（包括整数和小数）。例如，字符串“+100”、“5e2”、“-123”，“3.1416”及\"-1E16\"都表示数值，但“12e”,\"1a3.14\"、\"1.2.3\"、“+-5”及\"12e+5.4\"都不是"
   ]
  },
  {
   "cell_type": "code",
   "execution_count": 19,
   "metadata": {},
   "outputs": [
    {
     "data": {
      "text/plain": [
       "False"
      ]
     },
     "execution_count": 19,
     "metadata": {},
     "output_type": "execute_result"
    }
   ],
   "source": [
    "'''\n",
    "思路:\n",
    "\n",
    "    表示数值的字符串遵循模式A[.[B]][e|EC]或者.B[e|EC]，其中A为数值的整数部分，B紧跟着\n",
    "小数点为数值的小数部分，C紧跟着'e'或者'E'为数值的指数部分。在小数里可能没有数值的整数\n",
    "部分。例如，小数.123等于0.123。因此A部分不是必需的。如果一个数没有整数部分，那么它的小数\n",
    "部分不能为空\n",
    "    判断一个字符串是否符合上述模式时，首先尽可能多地扫描0~9的数位（有可能在起始处有+或者-），\n",
    "也就是前面模式中表示数值整数的A部分。如果遇到小数点'.'，则开始扫描表示数值小数部分的B部分。\n",
    "如果遇到'e'或者'E'，则开始扫描表示数值指数的C部分\n",
    "'''\n",
    "\n",
    "'''\n",
    "由于原来的C++代码使用了字符指针，所以没有很明白原文代码中的索引移动，导致这个方法\n",
    "存在错误，如果知道怎么修改望告知，感激不尽。\n",
    "'''\n",
    "\n",
    "\n",
    "#函数ScanUnsignedInterger用来扫描字符串中0~9的数位（类似于一个无符号整数），可以用来\n",
    "#匹配前面数值模式中的B部分\n",
    "def scanUnsignedInteger(str):\n",
    "    before=0\n",
    "    num=0\n",
    "    i=0\n",
    "    while i<len(str):\n",
    "        if str[i] and str[i]>='0' and str[i]<='9':\n",
    "            i+=1\n",
    "        else:\n",
    "            break\n",
    "    return i>before\n",
    "\n",
    "#函数scanInteger扫描可能以表示正负“+”或者“-”为起始的0~9数位（类似于一个可能带\n",
    "#正负符号的整数），用来匹配前面数值模式中的A和C部分\n",
    "def scanInteger(str):\n",
    "    i=0\n",
    "    if str[i]==\"+\" or str[i]==\"-\":\n",
    "        i+=1\n",
    "    return scanUnsignedInteger(str[i:])\n",
    "\n",
    "#主代码\n",
    "def isNumber(str):\n",
    "    if len(str)<=0:\n",
    "        return False\n",
    "    numeric=scanInteger(str)\n",
    "    i=0\n",
    "    if str[i]=='.':\n",
    "        i+=1\n",
    "        #下面一行代码用或(or)的原因:\n",
    "        #1.小数可以没有整数部分，如.123=0.123\n",
    "        #2.小数点后面可以没有数字，如233.等于233.0\n",
    "        #3.当然，小数点前面和后面可以都有数字，如233.666\n",
    "        numeric=scanUnsignedInteger(str[i:]) or numeric\n",
    "    #如果出现'e'或者'E',则接下来是数字的指数部分\n",
    "    if str[i]=='e' or str[i]=='E':\n",
    "        i+=1\n",
    "        #下面一行代码用且(and)的原因\n",
    "        #1.当e或E前面没有数字时，整个字符串不能表示数字，如.e1,e1\n",
    "        #2.当e或者E后面没有数字时，整个字符串不能表示数字，如12e、12e+5.4\n",
    "        numeric=numeric and scanInteger(str[i:])\n",
    "        \n",
    "    return numeric\n",
    "\n",
    "isNumber('e2')"
   ]
  },
  {
   "cell_type": "code",
   "execution_count": 24,
   "metadata": {},
   "outputs": [
    {
     "data": {
      "text/plain": [
       "True"
      ]
     },
     "execution_count": 24,
     "metadata": {},
     "output_type": "execute_result"
    }
   ],
   "source": [
    "'''\n",
    "使用正则表达式\n",
    "'''\n",
    "import re\n",
    "\n",
    "def isNumber_re(str):\n",
    "    if not str:\n",
    "        return False\n",
    "    result=bool(re.match(r'^[\\+\\-]?[0-9]*(\\.[0-9]*)?([eE][\\+\\-]?[0-9]+)?$',str))\n",
    "    return result\n",
    "\n",
    "isNumber_re(\"22\")"
   ]
  },
  {
   "cell_type": "code",
   "execution_count": null,
   "metadata": {},
   "outputs": [],
   "source": []
  }
 ],
 "metadata": {
  "kernelspec": {
   "display_name": "Python 3",
   "language": "python",
   "name": "python3"
  },
  "language_info": {
   "codemirror_mode": {
    "name": "ipython",
    "version": 3
   },
   "file_extension": ".py",
   "mimetype": "text/x-python",
   "name": "python",
   "nbconvert_exporter": "python",
   "pygments_lexer": "ipython3",
   "version": "3.6.6"
  }
 },
 "nbformat": 4,
 "nbformat_minor": 2
}
