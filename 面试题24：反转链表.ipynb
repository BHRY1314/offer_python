{
 "cells": [
  {
   "cell_type": "markdown",
   "metadata": {},
   "source": [
    "# 题目\n",
    "\n",
    "### 定义一个函数，输入一个链表的头节点，反转该链表并输出反转后链表的头节点"
   ]
  },
  {
   "cell_type": "code",
   "execution_count": 1,
   "metadata": {},
   "outputs": [],
   "source": [
    "class ListNode:\n",
    "    def __init__(self, x):\n",
    "        self.val = x\n",
    "        self.next = None"
   ]
  },
  {
   "cell_type": "code",
   "execution_count": null,
   "metadata": {},
   "outputs": [],
   "source": [
    "'''\n",
    "思路：\n",
    "我们可以定义三个指针（索引），分别指向当前遍历到的节点，它的前一个节点以及后一个节点。而且反转后链表的头节点是原始链表的尾结点，即当next为null的节点\n",
    "'''\n",
    "def ReverseList(pHead):\n",
    "    pReversedHead=None\n",
    "    pNode=pHead\n",
    "    pPrev=None\n",
    "    while pNode:\n",
    "        pNext=pNode.next\n",
    "        if not pNext:\n",
    "            pReversedHead=pNext\n",
    "        pNode.next=pPrev\n",
    "        pPrev=pNode\n",
    "        pNode=pNode.next\n",
    "    return pReversedHead"
   ]
  },
  {
   "cell_type": "code",
   "execution_count": null,
   "metadata": {},
   "outputs": [],
   "source": [
    "'''\n",
    "简化版的代码\n",
    "'''\n",
    "def Reverse(head):\n",
    "    pPrev=None\n",
    "    while head:\n",
    "        pNext=head.next\n",
    "        head.next=pPrev\n",
    "        pPrev,head=head,pNext\n",
    "    return pPrev"
   ]
  }
 ],
 "metadata": {
  "kernelspec": {
   "display_name": "Python 3",
   "language": "python",
   "name": "python3"
  },
  "language_info": {
   "codemirror_mode": {
    "name": "ipython",
    "version": 3
   },
   "file_extension": ".py",
   "mimetype": "text/x-python",
   "name": "python",
   "nbconvert_exporter": "python",
   "pygments_lexer": "ipython3",
   "version": "3.6.6"
  }
 },
 "nbformat": 4,
 "nbformat_minor": 2
}
