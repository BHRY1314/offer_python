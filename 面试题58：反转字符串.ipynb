{
 "cells": [
  {
   "cell_type": "markdown",
   "metadata": {},
   "source": [
    "# 题目一：翻转单词顺序\n",
    "\n",
    "### 输入一个英文句子，翻转句子中单词的顺序，但单词内字符的顺序不变。为简单起见，标点符号和普通字母一样处理。例如输入字符串“I am a student”，则输出\"student. a am I\"。"
   ]
  },
  {
   "cell_type": "code",
   "execution_count": null,
   "metadata": {},
   "outputs": [],
   "source": [
    "'''\n",
    "思路：\n",
    "\n",
    "第一步翻转句子中所有的字符。比如翻转“I am a student”中所有的字符得到\".tnenduts a ma I\",此时不但翻转了句子中单词的顺序，连单词内的字符顺序也被翻转了。第二步再翻转每个单词中字符的顺序，就得到了“student. a am I”。这正是符合题目要求的输出.\n",
    "\n",
    "这种思路的关键在于实现一个函数以翻转字符串中的一段。下面的函数可以完成这一功能\n",
    "'''\n",
    "# def Reverse(strs,pBegin,pEnd):\n",
    "#     if not pBegin or not pEnd or not strs:\n",
    "#         return None\n",
    "#     while pBegin<pEnd:\n",
    "#         temp=strs[pBegin]\n",
    "#         strs[pBegin]=strs[pEnd]\n",
    "#         strs[pEnd]=temp\n",
    "#         pBegin+=1\n",
    "#         pEnd+=1\n",
    "'''\n",
    "接着我们可以用这个函数先翻转整个句子，再翻转句子中的每个单词。\n",
    "'''\n",
    "# def ReverseSentence(pData):\n",
    "#     if not pData:\n",
    "#         return None\n",
    "#     pBegin=0\n",
    "#     pEnd=len(pData)-1\n",
    "#     #翻转整个句子\n",
    "#     Reverse(pData,pBegin,pEnd)\n",
    "#     #翻转句子中的每个单词\n",
    "#     pBegin=pEnd=0\n",
    "#     while pBegin<len(pData):\n",
    "#         if pData[pBegin]==\" \":\n",
    "#             pBegin+=1\n",
    "#             pEnd+=1\n",
    "#         elif pData[pEnd]==' ' or pEnd==len(pData)-1:\n",
    "#             Reverse(pBegin,pEnd-1)\n",
    "#             pBegin=pEnd+1\n",
    "#         else:\n",
    "#             pEnd+=1\n",
    "        \n",
    "#     return pData\n",
    "'''\n",
    "思路是对的，但是这个方法在python上运行有点问题，所以我们用更直观的python写法\n",
    "'''"
   ]
  },
  {
   "cell_type": "code",
   "execution_count": 1,
   "metadata": {},
   "outputs": [
    {
     "data": {
      "text/plain": [
       "'courage. you gives deeply someone loving strength, you gives someone by loved deeply Being'"
      ]
     },
     "execution_count": 1,
     "metadata": {},
     "output_type": "execute_result"
    }
   ],
   "source": [
    "'''\n",
    "纯Python写法\n",
    "'''\n",
    "def Reverse(s):\n",
    "    s=list(s.split(\" \"))\n",
    "    s=s[::-1]\n",
    "    return \" \".join(s)\n",
    "\n",
    "Reverse(\"Being deeply loved by someone gives you strength, loving someone deeply gives you courage.\")"
   ]
  },
  {
   "cell_type": "markdown",
   "metadata": {},
   "source": [
    "# 题目二：左旋转字符串\n",
    "\n",
    "### 字符串的左旋转操作是把字符串前面的若干个字符转移到字符串的尾部。请定义一个函数实现字符串左旋转操作的功能。比如，输入字符串“abcdefg”和数字2，该函数将返回左旋转两位得到的结果\"cdefgab\""
   ]
  },
  {
   "cell_type": "code",
   "execution_count": null,
   "metadata": {},
   "outputs": [],
   "source": [
    "'''\n",
    "思路：\n",
    "\n",
    "以“abcdefg”为例，我们可以把它分成两部分。由于想把它的前两个字符移到后面，我们就把前两个字符分到第一部分，把后面的所有字符分到第二部分。我们先分别翻转这两部分，于是就得到“bagfedc”,接下来翻转整个字符串，得到的“cdefgab”刚好就是把原始字符串左旋转两位的结果\n",
    "'''\n",
    "# def LeftRotateString(pStr,n):\n",
    "#     if not pStr:\n",
    "#         nLength=len(pStr)\n",
    "#         if nLength>0 and n>0 and n<nLength:\n",
    "#             pFirstStart=0\n",
    "#             pFirstEnd=n-1\n",
    "#             pSecondStart=n\n",
    "#             pSecondEnd=nLength-1\n",
    "            \n",
    "#             Reverse(pStr,pFirstStart,pFirstEnd)\n",
    "#             Reverse(pStr,pSecondStart,pSecondEnd)\n",
    "#             Reverse(pStr,pFirstStart,pSecondEnd)\n",
    "#     return pStr"
   ]
  },
  {
   "cell_type": "code",
   "execution_count": null,
   "metadata": {},
   "outputs": [],
   "source": [
    "'''\n",
    "Python简洁的方法\n",
    "'''\n",
    "def LeftRotateString(s, n):\n",
    "    if not s:\n",
    "        return \"\"\n",
    "    l1=list(s[n:])\n",
    "    l2=list(s[:n])\n",
    "    return \"\".join(l1+l2)"
   ]
  }
 ],
 "metadata": {
  "kernelspec": {
   "display_name": "Python 3",
   "language": "python",
   "name": "python3"
  },
  "language_info": {
   "codemirror_mode": {
    "name": "ipython",
    "version": 3
   },
   "file_extension": ".py",
   "mimetype": "text/x-python",
   "name": "python",
   "nbconvert_exporter": "python",
   "pygments_lexer": "ipython3",
   "version": "3.6.6"
  }
 },
 "nbformat": 4,
 "nbformat_minor": 2
}
