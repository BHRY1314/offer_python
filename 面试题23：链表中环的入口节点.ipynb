{
 "cells": [
  {
   "cell_type": "markdown",
   "metadata": {},
   "source": [
    "# 题目\n",
    "\n",
    "### 如果一个链表中包含环，如何找出环的入口节点？"
   ]
  },
  {
   "cell_type": "code",
   "execution_count": 2,
   "metadata": {},
   "outputs": [],
   "source": [
    "class Node:\n",
    "    def __init__(self, x):\n",
    "        self.val = x\n",
    "        self.next = None"
   ]
  },
  {
   "cell_type": "code",
   "execution_count": 5,
   "metadata": {},
   "outputs": [
    {
     "ename": "KeyboardInterrupt",
     "evalue": "",
     "output_type": "error",
     "traceback": [
      "\u001b[1;31m---------------------------------------------------------------------------\u001b[0m",
      "\u001b[1;31mKeyboardInterrupt\u001b[0m                         Traceback (most recent call last)",
      "\u001b[1;32m<ipython-input-5-574e0f67ece6>\u001b[0m in \u001b[0;36m<module>\u001b[1;34m\u001b[0m\n\u001b[0;32m     52\u001b[0m \u001b[0mnode4\u001b[0m\u001b[1;33m.\u001b[0m\u001b[0mnext\u001b[0m \u001b[1;33m=\u001b[0m \u001b[0mnode5\u001b[0m\u001b[1;33m\u001b[0m\u001b[0m\n\u001b[0;32m     53\u001b[0m \u001b[0mnode5\u001b[0m\u001b[1;33m.\u001b[0m\u001b[0mnext\u001b[0m \u001b[1;33m=\u001b[0m \u001b[0mnode2\u001b[0m\u001b[1;33m\u001b[0m\u001b[0m\n\u001b[1;32m---> 54\u001b[1;33m \u001b[0mEntryNodeOfLoop\u001b[0m\u001b[1;33m(\u001b[0m\u001b[0mnode1\u001b[0m\u001b[1;33m)\u001b[0m\u001b[1;33m.\u001b[0m\u001b[0mval\u001b[0m\u001b[1;33m\u001b[0m\u001b[0m\n\u001b[0m",
      "\u001b[1;32m<ipython-input-5-574e0f67ece6>\u001b[0m in \u001b[0;36mEntryNodeOfLoop\u001b[1;34m(pHead)\u001b[0m\n\u001b[0;32m     38\u001b[0m     \u001b[1;32mwhile\u001b[0m \u001b[0mpNode\u001b[0m\u001b[1;33m!=\u001b[0m\u001b[0mpNode2\u001b[0m\u001b[1;33m:\u001b[0m\u001b[1;33m\u001b[0m\u001b[0m\n\u001b[0;32m     39\u001b[0m         \u001b[0mpNode\u001b[0m\u001b[1;33m=\u001b[0m\u001b[0mpNode\u001b[0m\u001b[1;33m.\u001b[0m\u001b[0mnext\u001b[0m\u001b[1;33m\u001b[0m\u001b[0m\n\u001b[1;32m---> 40\u001b[1;33m         \u001b[0mpNode2\u001b[0m\u001b[1;33m=\u001b[0m\u001b[0mpNode2\u001b[0m\u001b[1;33m.\u001b[0m\u001b[0mnext\u001b[0m\u001b[1;33m\u001b[0m\u001b[0m\n\u001b[0m\u001b[0;32m     41\u001b[0m     \u001b[1;32mreturn\u001b[0m \u001b[0mpNode\u001b[0m\u001b[1;33m\u001b[0m\u001b[0m\n\u001b[0;32m     42\u001b[0m \u001b[1;33m\u001b[0m\u001b[0m\n",
      "\u001b[1;31mKeyboardInterrupt\u001b[0m: "
     ]
    }
   ],
   "source": [
    "'''\n",
    "思路：\n",
    "\n",
    "我们可以用两个指针来解决这个问题，定义两个指针（索引），同时从链表的头节点出发，一个指针一次走一步，另一个指针一次走两步。如果走得快的指针追上了走得慢的指针，那么链表就包含环；如果走得快的指针走到了链表的末尾都没有追上第一个指针，那么链表就不包含环\n",
    "第二步是如何找到环的入口。我们还是可以用两个指针来解决这个问题。先定义两个指针P1和P2指向链表的头节点。如果链表中的环有n个节点，则指针P1先在链表上向前移动n步，然后两个指针以相同的速度向前移动。当第二个指针指向环的入口节点时，第一个指针已经围绕着环走了一圈，又回到了入口节点\n",
    "'''\n",
    "def MeetingNode(pHead):\n",
    "    '''\n",
    "    在存在环的前提下找到一快一慢两个指针相遇的节点\n",
    "    '''\n",
    "    if not pHead:\n",
    "        return None\n",
    "    pSlow=pHead.next\n",
    "    if not pHead:\n",
    "        return None\n",
    "    pFast=pSlow.next\n",
    "    while pFast and pSlow:\n",
    "        if pFast==pSlow:\n",
    "            return pFast\n",
    "        pSlow=pSlow.next\n",
    "        pFast=pFast.next\n",
    "        if pFast:\n",
    "            pFast=pFast.next\n",
    "    return None\n",
    "\n",
    "def EntryNodeOfLoop(pHead):\n",
    "    meetingNode=MeetingNode(pHead)\n",
    "    if not meetingNode:\n",
    "        return None\n",
    "    #得到环中节点的数目\n",
    "    nodesInLoop=1\n",
    "    pNode=meetingNode\n",
    "    while pNode.next!=meetingNode:\n",
    "        pNode=pNode.next\n",
    "        nodesInLoop+=1\n",
    "    #先移动pNode，次数为环中节点的数目\n",
    "    pNode=pHead\n",
    "    for i in range(nodesInLoop):\n",
    "        pNode=pNode.next\n",
    "    #再移动pNode和pNode2\n",
    "    pNode2=pHead\n",
    "    while pNode!=pNode2:\n",
    "        pNode=pNode.next\n",
    "        pNode2=pNode2.next\n",
    "    return pNode\n"
   ]
  },
  {
   "cell_type": "code",
   "execution_count": null,
   "metadata": {},
   "outputs": [],
   "source": [
    "'''\n",
    "纯Python\n",
    "'''\n",
    "def EntryOfLoop(head):\n",
    "    if not head:\n",
    "        return None\n",
    "    slow=head\n",
    "    fast=head\n",
    "    while fast and fast.next:\n",
    "        slow=slow.next\n",
    "        fast=fast.next.next\n",
    "        if slow==fast:\n",
    "            slow2=head\n",
    "            while slow!=slow2:\n",
    "                slow=slow.next\n",
    "                slow2=slow2.next\n",
    "            return slow\n",
    "    return None\n",
    "            "
   ]
  }
 ],
 "metadata": {
  "kernelspec": {
   "display_name": "Python 3",
   "language": "python",
   "name": "python3"
  },
  "language_info": {
   "codemirror_mode": {
    "name": "ipython",
    "version": 3
   },
   "file_extension": ".py",
   "mimetype": "text/x-python",
   "name": "python",
   "nbconvert_exporter": "python",
   "pygments_lexer": "ipython3",
   "version": "3.6.6"
  }
 },
 "nbformat": 4,
 "nbformat_minor": 2
}
