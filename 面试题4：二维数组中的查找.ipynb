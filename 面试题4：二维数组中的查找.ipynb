{
 "cells": [
  {
   "cell_type": "code",
   "execution_count": 4,
   "metadata": {},
   "outputs": [],
   "source": [
    "import numpy as np"
   ]
  },
  {
   "cell_type": "code",
   "execution_count": 24,
   "metadata": {},
   "outputs": [
    {
     "name": "stdout",
     "output_type": "stream",
     "text": [
      "False\n"
     ]
    }
   ],
   "source": [
    "'''\n",
    "思路：\n",
    "首先查找矩阵右上角的那个数，如果大于我们要找的数A,则证明这一列一定不会存在A，则把这一列删去（坐标左移）\n",
    "如果小于A，则证明这一行一定不会存在A，则把这一行删除（坐标下移），重复这个步骤直到找到A或者计算完整个矩阵\n",
    "'''\n",
    "def Find(matrix,columns,rows,number):\n",
    "    if (rows>0 and columns>0):\n",
    "        row=0\n",
    "        column=columns-1\n",
    "        while(row<rows and column>=0):\n",
    "            if matrix[row][column]==number:\n",
    "                return True\n",
    "            elif matrix[row][column]>number:\n",
    "                column-=1\n",
    "            else:\n",
    "                row+=1\n",
    "    return False\n",
    "a=np.arange(0,30,2)\n",
    "a=a.reshape(3,5)\n",
    "print(Find(a,5,3,30))"
   ]
  },
  {
   "cell_type": "code",
   "execution_count": 33,
   "metadata": {},
   "outputs": [
    {
     "name": "stdout",
     "output_type": "stream",
     "text": [
      "False\n"
     ]
    },
    {
     "name": "stderr",
     "output_type": "stream",
     "text": [
      "d:\\python\\lib\\site-packages\\ipykernel_launcher.py:4: DeprecationWarning: The truth value of an empty array is ambiguous. Returning False, but in future this will result in an error. Use `array.size > 0` to check that an array is not empty.\n",
      "  after removing the cwd from sys.path.\n"
     ]
    }
   ],
   "source": [
    "#取巧的办法\n",
    "def Find_improve(matrix,number):\n",
    "    if len(matrix)>0:\n",
    "        if matrix[matrix==number]:\n",
    "            return True\n",
    "        else:\n",
    "            return False\n",
    "    else:\n",
    "        return False\n",
    "a=np.arange(0,30,2)\n",
    "a=a.reshape(3,5)\n",
    "print(Find_improve(a,7))"
   ]
  },
  {
   "cell_type": "code",
   "execution_count": null,
   "metadata": {},
   "outputs": [],
   "source": []
  }
 ],
 "metadata": {
  "kernelspec": {
   "display_name": "Python 3",
   "language": "python",
   "name": "python3"
  },
  "language_info": {
   "codemirror_mode": {
    "name": "ipython",
    "version": 3
   },
   "file_extension": ".py",
   "mimetype": "text/x-python",
   "name": "python",
   "nbconvert_exporter": "python",
   "pygments_lexer": "ipython3",
   "version": "3.6.6"
  }
 },
 "nbformat": 4,
 "nbformat_minor": 2
}
