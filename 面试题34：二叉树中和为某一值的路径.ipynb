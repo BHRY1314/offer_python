{
 "cells": [
  {
   "cell_type": "markdown",
   "metadata": {},
   "source": [
    "# 题目\n",
    "\n",
    "### 输入一棵二叉树和一个整数，打印出二叉树中节点值的和为输入整数的所有路径。从树的根节点开始往下一直到叶节点所经过的节点形成一条路径。"
   ]
  },
  {
   "cell_type": "code",
   "execution_count": 1,
   "metadata": {},
   "outputs": [],
   "source": [
    "class TreeNode:\n",
    "    def __init__(self, x):\n",
    "        self.val = x\n",
    "        self.left = None\n",
    "        self.right = None"
   ]
  },
  {
   "cell_type": "code",
   "execution_count": 3,
   "metadata": {},
   "outputs": [],
   "source": [
    "'''\n",
    "思路：\n",
    "\n",
    "当用前序遍历的方式访问到某一节点时，我们把该节点添加到路径上，并累加该节点的值，如果该节点为叶节点，并且路径中节点值的和刚好等于输入的整数，则当前路径符合要求，我们把它打印出来。如果当前节点不是叶节点，则继续访问它的子节点。当前节点访问结束后，递归函数将自动回到它的父节点。因此，我们在函数退出之前要在路径上删除当前节点并减去当前节点的值，以确保返回父节点时路径刚好是从根节点到父节点。我们不难看出保存路径的数据结构实际上是一个栈，因为路径要与递归调用状态一致，而递归调用的本质就是一个压栈和出栈的过程\n",
    "'''\n",
    "def FindPath(pRoot,expectedSum,path,currentSum,res):\n",
    "    if not pRoot:\n",
    "        return \n",
    "    currentSum+=pRoot.val\n",
    "    path.append(pRoot.val)\n",
    "    #如果是叶节点，并且路径上节点值的和等于输入的值，则打印出这条路径\n",
    "    isLeaf=not pRoot.left and not pRoot.right\n",
    "    if currentSum==expectedSum and isLeaf:\n",
    "        res.append(path[:])\n",
    "        print(\"A path is found\")\n",
    "        for i in path:\n",
    "            print(\"%d\\t\"%i)\n",
    "        print(\"\\n\")\n",
    "    #如果不是叶节点，则遍历它的子节点\n",
    "    if pRoot.left:\n",
    "        FindPath(pRoot.left,expectedSum,path,currentSum,res)\n",
    "    if pRoot.right:\n",
    "        FindPath(pRoot.right,expectedSum,path,currentSum,res)\n",
    "    #在返回父节点之前，在路径上删除当前节点\n",
    "    path.pop()\n",
    "\n",
    "def FindTreePath(pRoot,expectedSum):\n",
    "    if not pRoot:\n",
    "        return []\n",
    "    res=[]\n",
    "    path=[]\n",
    "    currentSum=0\n",
    "    FindPath(pRoot,expectedSum,path,currentSum,res)\n",
    "    return res\n",
    "    "
   ]
  },
  {
   "cell_type": "code",
   "execution_count": null,
   "metadata": {},
   "outputs": [],
   "source": [
    "'''\n",
    "别人的解法\n",
    "'''\n",
    "def FindPath(self, root, expectNumber):\n",
    "    # write code here\n",
    "    if not root:\n",
    "        return []\n",
    "    if root and not root.left and not root.right and root.val==expectNumber:\n",
    "        return [[root.val]]\n",
    "    res=[]\n",
    "    left = self.FindPath(root.left, expectNumber-root.val)\n",
    "    right = self.FindPath(root.right, expectNumber-root.val)\n",
    "    #可进行到这一步说明此时expect Number大于root.val，对res中每个数组前加上当前根节点值\n",
    "    for i in left+right:\n",
    "        res.append([root.val]+i)         \n",
    "    return res\n"
   ]
  }
 ],
 "metadata": {
  "kernelspec": {
   "display_name": "Python 3",
   "language": "python",
   "name": "python3"
  },
  "language_info": {
   "codemirror_mode": {
    "name": "ipython",
    "version": 3
   },
   "file_extension": ".py",
   "mimetype": "text/x-python",
   "name": "python",
   "nbconvert_exporter": "python",
   "pygments_lexer": "ipython3",
   "version": "3.6.6"
  }
 },
 "nbformat": 4,
 "nbformat_minor": 2
}
