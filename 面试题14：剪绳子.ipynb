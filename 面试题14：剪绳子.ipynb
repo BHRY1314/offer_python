{
 "cells": [
  {
   "cell_type": "markdown",
   "metadata": {},
   "source": [
    "# 题目\n",
    "\n",
    "### 给你一根长度为n的绳子，请把绳子剪成m段（m,n都是整数，n>1并且m>1），每段绳子的长度记为k[0],k[1],……,k[m],请问k[0]xk[1]xk[2]x……xk[m]可能的最大乘积是多少？例如，当绳子的长度是8时，我们把它剪成长度分别为2、3、3的三段，此时得到的最大乘积为18"
   ]
  },
  {
   "cell_type": "code",
   "execution_count": 8,
   "metadata": {},
   "outputs": [
    {
     "data": {
      "text/plain": [
       "4"
      ]
     },
     "execution_count": 8,
     "metadata": {},
     "output_type": "execute_result"
    }
   ],
   "source": [
    "'''\n",
    "动态规划\n",
    "'''\n",
    "\n",
    "'''\n",
    "思路：\n",
    "    首先定义函数f(n)为把长度n的绳子剪成若干段后各段长度乘积的最大值。在剪第一刀的时\n",
    "候，我们有n-1种可能的选择，也就是剪出来的第一段绳子的可能长度分别为1,2，……，n-1。\n",
    "因此f(n)=max(f(i)*f(n-i)),其中0<i<n\n",
    "    这是一个从上至下的递归公式。由于递归会有很多重复的子问题，从而有大量不必要的重复\n",
    "计算。一个更好的办法是按照从下而上的顺序计算，也就是说我们先得到f(2),f(3)，再得到\n",
    "f(4),f(5)，直到得到f(n)\n",
    "    当绳子的长度为2时，只可能剪成长度都为1的两段，因此f(2)等于1。当绳子的长度为3时，\n",
    "可能把绳子剪成长度分别为1和2的两段或者长度都为1的三段，由于1x2>1x1x1,因此f(3)=2\n",
    "'''\n",
    "def maxProductAfterCutting(length):\n",
    "    '''\n",
    "    根据书中C++代码改写\n",
    "    '''\n",
    "    if length<2:\n",
    "        return 0\n",
    "    if length==2:\n",
    "        return 1\n",
    "    if length==3:\n",
    "        return 2\n",
    "    product=[0]*(length+1)\n",
    "    '''\n",
    "    基本长度(这里和上面的有所不同，可以理解为当绳子长度大于等于4时，1,2,3是基本的\n",
    "    长度值，比如4可以由1和3以及2和2组成，当数组小标大于4时，存储的就是长度乘积的\n",
    "    最大值)（自己的理解，不知道对不对━━(￣ー￣*|||━━）\n",
    "    '''\n",
    "    product[0]=0\n",
    "    product[1]=1\n",
    "    product[2]=2\n",
    "    product[3]=3\n",
    "    \n",
    "    max=0\n",
    "    for i in range(4,length+1):\n",
    "        max=0\n",
    "        for j in range(1,(int(i/2)+1)):\n",
    "            temp=product[j]*product[i-j]\n",
    "            if max<temp:\n",
    "                max=temp\n",
    "            product[i]=max\n",
    "    max=product[length]\n",
    "    return max\n",
    "'''\n",
    "在上述代码中，子问题的最优解存储在数组product里。数组中的第i个元素表示把长度为i的\n",
    "绳子剪成若干段之后各段长度乘积的最大值，即f(i)。我们注意到代码中第一个for循环变量\n",
    "i是顺序递增的，这意味着计算顺序是自下而上的。因此在求f(i)之前，对于第一个j(0<i<j)\n",
    "而言，f(j)都已经求解出来了，并且结果保存在product[j]里。为了求解f(i),我们需要求\n",
    "出所有可能的f(j)xf(i-j)并比较得出它们的最大值。这就是代码中第二个for循环的功能\n",
    "'''\n",
    "\n",
    "maxProductAfterCutting(8)"
   ]
  },
  {
   "cell_type": "code",
   "execution_count": 11,
   "metadata": {},
   "outputs": [
    {
     "data": {
      "text/plain": [
       "18"
      ]
     },
     "execution_count": 11,
     "metadata": {},
     "output_type": "execute_result"
    }
   ],
   "source": [
    "'''\n",
    "贪婪算法\n",
    "'''\n",
    "\n",
    "'''\n",
    "思路：\n",
    "    如果我们按照如下的策略来剪绳子，则得到的各段绳子的长度的乘积将最大：当n≥5时，\n",
    "我们尽可能多地剪长度为3的绳子；当剩下的绳子长度为4时，把绳子剪成两段长度为2的绳子。\n",
    "'''\n",
    "def maxProduct(length):\n",
    "    if length<2:\n",
    "        return 0\n",
    "    if length==2:\n",
    "        return 1\n",
    "    if length==3:\n",
    "        return 2\n",
    "    \n",
    "    #尽可能多地剪去长度为3的绳子段\n",
    "    timesOf3=int(length/3)\n",
    "    \n",
    "    #当绳子最后剩下的长度为4的时候，不能再剪去长度为3的绳子段\n",
    "    #此时更好的方法是把绳子剪成长度为2的两段，因为2x2>3x1\n",
    "    if (length-timesOf3*3==1):\n",
    "        timesOf3-=1\n",
    "    \n",
    "    timesOf2=(length-timesOf3*3)/2\n",
    "    \n",
    "    return (int(pow(3,timesOf3)))*(int(pow(2,timesOf2)))\n",
    "\n",
    "'''\n",
    "首先，当n≥5的时候，我们可以证明2(n-2)>n并且3(n-3)>n，也就是说，当绳子剩下的长度\n",
    "大于等于5的时候，我们就把它剪成长度为3或者2的绳子段。另外，当n≥5时，3(n-3)>2(n-2),\n",
    "旖旎次我们应该尽可能地多剪长度为3的绳子段\n",
    "'''\n",
    "\n",
    "maxProduct(8)    "
   ]
  },
  {
   "cell_type": "code",
   "execution_count": null,
   "metadata": {},
   "outputs": [],
   "source": []
  }
 ],
 "metadata": {
  "kernelspec": {
   "display_name": "Python 3",
   "language": "python",
   "name": "python3"
  },
  "language_info": {
   "codemirror_mode": {
    "name": "ipython",
    "version": 3
   },
   "file_extension": ".py",
   "mimetype": "text/x-python",
   "name": "python",
   "nbconvert_exporter": "python",
   "pygments_lexer": "ipython3",
   "version": "3.6.6"
  }
 },
 "nbformat": 4,
 "nbformat_minor": 2
}
