{
 "cells": [
  {
   "cell_type": "markdown",
   "metadata": {},
   "source": [
    "#### 实现快速排序"
   ]
  },
  {
   "cell_type": "code",
   "execution_count": 46,
   "metadata": {},
   "outputs": [
    {
     "name": "stdout",
     "output_type": "stream",
     "text": [
      "[1, 2, 3, 4, 5, 6, 7, 9]\n"
     ]
    }
   ],
   "source": [
    "'''\n",
    "根据书中源码改写\n",
    "'''\n",
    "\n",
    "'''\n",
    "实现快速排序的关键在于先在数组中选择一个数字，接下来把数组中的数字分为两部分，比选择的数\n",
    "字小的数字移到数组的左边，比选择的数字大的数字移到数组的右边。这个函数如下所示\n",
    "'''\n",
    "import random\n",
    "def Partition(data,start,end):\n",
    "    if len(data)<=0:\n",
    "        print(\"Wrong Parameters\")\n",
    "    #randrange用来生成一个在start和end之间的随机数\n",
    "    index=random.randrange(start,end)\n",
    "    \n",
    "    #交换两个数字\n",
    "    data[start],data[end]=data[end],data[start]\n",
    "    small=start-1\n",
    "    for index in range(start,end):\n",
    "        if data[index]<data[end]:\n",
    "            small+=1\n",
    "            if small!=index:\n",
    "                data[index],data[small]=data[small],data[index]\n",
    "    small+=1\n",
    "    data[small],data[end]=data[end],data[small]\n",
    "    \n",
    "    return small\n",
    "\n",
    "'''\n",
    "递归实现快速排序\n",
    "'''\n",
    "def QuickSort(data,start,end):\n",
    "    if start==end:\n",
    "        return data\n",
    "    index=Partition(data,start,end)\n",
    "    if index>start:\n",
    "        QuickSort(data,start,index-1)\n",
    "    if index<end:\n",
    "        QuickSort(data,index+1,end)\n",
    "\n",
    "a=[1,5,6,7,2,3,4,9]\n",
    "start=0\n",
    "end=len(a)-1\n",
    "QuickSort(a,start,end)\n",
    "print(a)"
   ]
  },
  {
   "cell_type": "markdown",
   "metadata": {},
   "source": [
    "#### 对年龄进行排序"
   ]
  },
  {
   "cell_type": "code",
   "execution_count": 61,
   "metadata": {},
   "outputs": [
    {
     "data": {
      "text/plain": [
       "[15, 22, 33, 35, 44]"
      ]
     },
     "execution_count": 61,
     "metadata": {},
     "output_type": "execute_result"
    }
   ],
   "source": [
    "def SortAges(ages):\n",
    "    if len(ages)<=0:\n",
    "        return\n",
    "    \n",
    "    oldestAge=99\n",
    "    timesOfAge=[0]*100\n",
    "        \n",
    "    for i in range(len(ages)):\n",
    "        age=ages[i]\n",
    "        if age<0 or age>oldestAge:\n",
    "            print(\"age out of range\")\n",
    "        timesOfAge[age]+=1\n",
    "    \n",
    "    index=0\n",
    "    for i in range(oldestAge+1):\n",
    "        for j in range(0,timesOfAge[i]):\n",
    "            ages[index]=i\n",
    "            index+=1\n",
    "    return ages\n",
    "\n",
    "a=[15,22,44,33,35]\n",
    "SortAges(a)"
   ]
  },
  {
   "cell_type": "markdown",
   "metadata": {},
   "source": [
    "# 题目\n",
    "\n",
    "###  把一个数组最开始的若干个元素搬到数组的末尾，我们称之为数组的旋转。输入一个递增排序的数组的一个旋转，输出旋转数组的最小元素。例如，数组{3,4,5,1,2}为{1,2,3,4,5}的一个旋转，该数组的最小值为1"
   ]
  },
  {
   "cell_type": "code",
   "execution_count": 70,
   "metadata": {},
   "outputs": [
    {
     "data": {
      "text/plain": [
       "2"
      ]
     },
     "execution_count": 70,
     "metadata": {},
     "output_type": "execute_result"
    }
   ],
   "source": [
    "'''\n",
    "思路：\n",
    "    和二分查找法一样，我们用两个指针分别指向数组的第一个元素和最后一个元素。按照题目中\n",
    "旋转的规则，第一个元素应该是大于或者等于最后一个元素的接着我们可以找到数组中间的元素。\n",
    "如果该中间元素位于前面的递增子数组，那么它应该大于或者等于第一个指针指向的元素。此时数\n",
    "组中最小的元素应该位于该中间元素的后面。我们可以把第一个指针指向该中间元素，这样可以缩\n",
    "小寻找的范围。移动之后的第一个指针仍然位于前面的递增子数组。\n",
    "    同样，如果中间元素位于后面的递增子数组，那么它应该小于或者等于第二个指针指向的元\n",
    "素。此时该数组中最小的元素应该位于该中间元素的前面。我们可以把第二个指针指向该中间元\n",
    "素，这样也可以缩小寻找的范围。移动之后的第二个指针仍然位于后面的递增子数组。\n",
    "    不管是移动第一个指针还是第二个指针，查找范围都会缩小到原来的一半。接下来我们再用更\n",
    "新之后的两个指针重复做新一轮的查找。\n",
    "    按照上述思路，第一个指针总是指向前面递增数组的元素，而第二个指针总是指向后面递增数\n",
    "组的元素。最终第一个指针将指向前面子数组的最后一个元素，而第二个指针会指向后面子数组的\n",
    "第一个元素，也就是它们最终会指向两个相邻的元素，而第二个指针指向的刚好是最小的元素，这\n",
    "就是循环结束的条件\n",
    "\n",
    "（Python中没有指针，但是可以将指针认为是索引来进行理解）\n",
    "\n",
    "'''\n",
    "def Min_num(numbers):\n",
    "    '''\n",
    "    根据书中的C++代码改写\n",
    "    '''\n",
    "    \n",
    "    if len(numbers)<=0:\n",
    "        print(\"无效的参数\")\n",
    "    \n",
    "    \n",
    "    index1=0\n",
    "    index2=len(numbers)-1\n",
    "    indexMid=index1\n",
    "    while numbers[index1]>=numbers[index2]:\n",
    "        if index2-index1==1:\n",
    "            indexMid=index2\n",
    "            break\n",
    "        \n",
    "        indexMid=int((index1+index2)/2)\n",
    "        if numbers[indexMid]>=numbers[index1]:\n",
    "            index1=indexMid\n",
    "        elif numbers[indexMid]<=numbers[index2]:\n",
    "            index2=indexMid\n",
    "    \n",
    "    return numbers[indexMid]\n",
    "\n",
    "a=[3,4,5,6,2]\n",
    "Min_num(a)"
   ]
  },
  {
   "cell_type": "code",
   "execution_count": 73,
   "metadata": {},
   "outputs": [
    {
     "data": {
      "text/plain": [
       "0"
      ]
     },
     "execution_count": 73,
     "metadata": {},
     "output_type": "execute_result"
    }
   ],
   "source": [
    "'''\n",
    "额外情况：\n",
    "    当第一个指针和第二个指针指向的数字都相同，并且两个指针的中间数字也相同时。在这种情\n",
    "况下，中间数字可能位于后面的子数组也可能位于前面的子数组。因此，我们无法判断中间的数字\n",
    "是位于前面的子数组还是后面的子数组，也就无法移动两个指针来缩小查找的范围，此时，我们不\n",
    "得不采用顺序查找的方法\n",
    "'''\n",
    "'''\n",
    "改进的代码\n",
    "'''\n",
    "def MinInOrder(numbers,index1,index2):\n",
    "    result=numbers[index1]\n",
    "    for i in range(index1,index2+1):\n",
    "        if result>numbers[i]:\n",
    "            result=numbers[i]\n",
    "    return result\n",
    "\n",
    "def Min_num_improve(numbers):\n",
    "    '''\n",
    "    根据书中的C++代码改写\n",
    "    '''\n",
    "    \n",
    "    if len(numbers)<=0:\n",
    "        print(\"无效的参数\")\n",
    "    \n",
    "    index1=0\n",
    "    index2=len(numbers)-1\n",
    "    indexMid=index1\n",
    "    \n",
    "    while numbers[index1]>=numbers[index2]:\n",
    "        if index2-index1==1:\n",
    "            indexMid=index2\n",
    "            break\n",
    "        \n",
    "        indexMid=int((index1+index2)/2)\n",
    "        \n",
    "        #如果下标为index1,index2,indexMid指向的三个数字相等，\n",
    "        #则只能顺序查找\n",
    "        if numbers[index1]==numbers[index2] and numbers[indexMid]==numbers[index1]:\n",
    "            return MinInOrder(numbers,index1,index2)\n",
    "        if numbers[indexMid]>=numbers[index1]:\n",
    "            index1=indexMid\n",
    "        elif numbers[indexMid]<=numbers[index2]:\n",
    "            index2=indexMid\n",
    "    return numbers[indexMid]\n",
    "\n",
    "a=[1,0,1,1,1]\n",
    "Min_num_improve(a)"
   ]
  },
  {
   "cell_type": "code",
   "execution_count": 76,
   "metadata": {},
   "outputs": [
    {
     "data": {
      "text/plain": [
       "1"
      ]
     },
     "execution_count": 76,
     "metadata": {},
     "output_type": "execute_result"
    }
   ],
   "source": [
    "'''\n",
    "纯python的取巧办法\n",
    "'''\n",
    "def Find_Min(numbers):\n",
    "    if len(numbers)<=0:\n",
    "        return None\n",
    "    min_num=min(numbers)\n",
    "    return min_num\n",
    "\n",
    "a=[8,9,1,4,5,6]\n",
    "Find_Min(a)"
   ]
  },
  {
   "cell_type": "code",
   "execution_count": null,
   "metadata": {},
   "outputs": [],
   "source": []
  }
 ],
 "metadata": {
  "kernelspec": {
   "display_name": "Python 3",
   "language": "python",
   "name": "python3"
  },
  "language_info": {
   "codemirror_mode": {
    "name": "ipython",
    "version": 3
   },
   "file_extension": ".py",
   "mimetype": "text/x-python",
   "name": "python",
   "nbconvert_exporter": "python",
   "pygments_lexer": "ipython3",
   "version": "3.6.6"
  }
 },
 "nbformat": 4,
 "nbformat_minor": 2
}
