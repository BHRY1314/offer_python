{
 "cells": [
  {
   "cell_type": "markdown",
   "metadata": {},
   "source": [
    "# 题目\n",
    "\n",
    "### 请实现两个函数，分别用来序列化和反序列化二叉树\n",
    "\n",
    "##### 注\n",
    "##### 二叉树的序列化是指：把一棵二叉树按照某种遍历方式的结果以某种格式保存为字符串，从而使得内存中建立起来的二叉树可以持久保存。序列化可以基于先序、中序、后序、层序的二叉树遍历方式来进行修改，序列化的结果是一个字符串，序列化时通过 某种符号表示空节点（#），以 ！ 表示一个结点值的结束（value!）。\n",
    "\n",
    "##### 二叉树的反序列化是指：根据某种遍历顺序得到的序列化字符串结果str，重构二叉树。"
   ]
  },
  {
   "cell_type": "code",
   "execution_count": null,
   "metadata": {},
   "outputs": [],
   "source": [
    "'''\n",
    "思路：\n",
    "\n",
    "如果二叉树的序列化是从根节点开始的，那么相应的反序列化在根节点的数值读出来的时候就可以开始了。因此，我们可以根据前序遍历的顺序来序列化二叉树，因为前序遍历是从根节点开始的。在遍历二叉树碰到null指针时，这些null指针序列化为一个特殊的字符（如“$”）。另外，节点的数值之间要用一个特殊字符（如','）隔开\n",
    "'''\n",
    "# def Serialize(pRoot,stream):\n",
    "#     if not pRoot:\n",
    "#         stream=stream+\"$\"\n",
    "#         return\n",
    "#     stream=stream+str(pRoot.val)+\",\"\n",
    "#     Serialize(pRoot.left,stream)\n",
    "#     Serialize(pRoot.right,stream)\n",
    "def Serialize(pRoot):\n",
    "    if not pRoot:\n",
    "        return '$'\n",
    "    return str(pRoot.val)+','+Serialize(pRoot.left)+','+Serialize(pRoot.right)\n",
    "'''\n",
    "我们以字符串“1,2,4,$,$,$,3,5,$,$,6,$,$”为例分析如何反序列化二叉树。第一个读出的数字是1.由于前序遍历是从根节点开始的，这是根节点的值。接下来读出的数字是2，根据前序遍历的规则，这是根节点的左子节点的值。同样，接下来的数字4是值为2的节点的左子节点。接着从序列化字符串里读出两个字符“$”，这表明值为4的节点的左、右节点均为Null指针，因此它是一个叶节点。接下来回到值为2的节点，重建它的右子节点。由于下一个字符是'$'，这表明值为2的节点的右子节点为Null指针。这个节点的左、右子树都已经构建完毕，接下来回到根节点，反序列化根节点的右子树。\n",
    "\n",
    "下一个序列化字符串中的数字是3，因此右子树的根节点的值为3。它的左子节点是一个值为5的叶节点，因此接下来的三个字符是“5，$，$”。同样，它的右子节点是值为6的叶节点，因为最后3个字符是“6，$,$”\n",
    "'''\n",
    "def Deserialize(pRoot,stream):\n",
    "    if len(stream)<=0:\n",
    "        return None\n",
    "    return DeserializeCore(stream.split(','))\n",
    "\n",
    "def DeserializeCore(sList):\n",
    "    if len(sList)<=0:\n",
    "        return None\n",
    "    value=sList.pop(0)\n",
    "    root=None\n",
    "    if value!=\"$\":\n",
    "        root=TreeNode(int(value))\n",
    "        root.left=DeserializeCore(sList)\n",
    "        root.right=DeserializeCore(sList)\n",
    "    return root"
   ]
  }
 ],
 "metadata": {
  "kernelspec": {
   "display_name": "Python 3",
   "language": "python",
   "name": "python3"
  },
  "language_info": {
   "codemirror_mode": {
    "name": "ipython",
    "version": 3
   },
   "file_extension": ".py",
   "mimetype": "text/x-python",
   "name": "python",
   "nbconvert_exporter": "python",
   "pygments_lexer": "ipython3",
   "version": "3.6.6"
  }
 },
 "nbformat": 4,
 "nbformat_minor": 2
}
