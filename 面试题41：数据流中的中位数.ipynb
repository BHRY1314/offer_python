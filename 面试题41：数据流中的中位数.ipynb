{
 "cells": [
  {
   "cell_type": "markdown",
   "metadata": {},
   "source": [
    "# 题目\n",
    "\n",
    "### 如何得到一个数据流中的中位数？如果从数据流中读出奇数个数的值，那么中位数就是所有数值排序之后位于中间的数值。如果从数据例会中读出偶数个数值，那么中位数就是所有数值排序之后中间两个数的平均值"
   ]
  },
  {
   "cell_type": "code",
   "execution_count": null,
   "metadata": {},
   "outputs": [],
   "source": [
    "'''\n",
    "思路:\n",
    "\n",
    "用一个最大堆实现左边的数据容器，用一个最小堆实现右边的数据容器。往堆中插入一个数据的时间效率是O（logn）。由于只需要O（1）时间就可以得到位于堆顶的数据，因此得到中位数的时间复杂度是O（1）\n",
    "\n",
    "接下来考虑用最大堆和最小堆实现的一些细节。首先要保证数据平均分配到两个堆中，因此两个堆中数据的数目之差不能超过1.为了实现平均分配，可以在数据的总数目是偶数时把新数据插入最小堆，否则插入最大堆。\n",
    "\n",
    "还要保证最大堆中的所有数据都要小于最小堆中的数据。当数据的总数目是偶数时，按照前面的分配规则会把新的数据插入最小堆。如果此时这个新的数据比最大堆中的一些数据要小，可以先把这个新的数据插入最大堆，接着把最大堆中最大的数字拿出来插入最小堆，由于最终插入最小堆的数字是原最大堆中最大的数字，这样就保证了最小堆中所有数字都大于最大堆中的数字。\n",
    "\n",
    "'''\n",
    "from heapq import *\n",
    "class Solution:\n",
    "    def __init__(self):\n",
    "        self.heaps = [], []\n",
    "    def Insert(self, num):\n",
    "        # write code here\n",
    "        min_heap,max_heap = self.heaps\n",
    "        heappush(min_heap, -heappushpop(max_heap, num))#将num放入最大堆，并弹出最大堆的最小值，取反，即取最大值，放入最小堆\n",
    "        if len(large) < len(min_heap):\n",
    "            heappush(max_heap, -heappop(min_heap)) #弹出最小堆中最小的值，取反，即最大的值，放入最大堆\n",
    "    def GetMedian(self):\n",
    "        # write code here\n",
    "        min_heap,max_heap = self.heaps\n",
    "        if len(max_heap) > len(min_heap):\n",
    "            return float(max_heap[0])\n",
    "        return (max_heap[0] - min_heap[0]) /2.0"
   ]
  },
  {
   "cell_type": "code",
   "execution_count": null,
   "metadata": {},
   "outputs": [],
   "source": [
    "'''\n",
    "简洁的方法\n",
    "'''\n",
    "def __init__(self):\n",
    "    self.nums= []\n",
    "def Insert(self, num):\n",
    "    self.nums.append(num)\n",
    "    self.arr.sort()\n",
    "def GetMedian():\n",
    "    length = len(self.nums)\n",
    "    if length % 2 == 1:\n",
    "        return self.nums[length // 2]\n",
    "    return (self.nums[length // 2] + self.nums[length // 2 - 1]) / 2.0"
   ]
  }
 ],
 "metadata": {
  "kernelspec": {
   "display_name": "Python 3",
   "language": "python",
   "name": "python3"
  },
  "language_info": {
   "codemirror_mode": {
    "name": "ipython",
    "version": 3
   },
   "file_extension": ".py",
   "mimetype": "text/x-python",
   "name": "python",
   "nbconvert_exporter": "python",
   "pygments_lexer": "ipython3",
   "version": "3.6.6"
  }
 },
 "nbformat": 4,
 "nbformat_minor": 2
}
