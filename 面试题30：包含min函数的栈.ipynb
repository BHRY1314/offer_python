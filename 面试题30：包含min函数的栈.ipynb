{
 "cells": [
  {
   "cell_type": "markdown",
   "metadata": {},
   "source": [
    "# 题目\n",
    "\n",
    "### 定义栈的数据结构，请在该类型中实现一个能够得到栈的最小元素的min函数。在该栈中，调用min,push及pop的时间复杂度都是O(1)"
   ]
  },
  {
   "cell_type": "code",
   "execution_count": null,
   "metadata": {},
   "outputs": [],
   "source": [
    "'''\n",
    "思路：\n",
    "\n",
    "使用辅助栈，把每次的最小元素（之前的最小元素和新压入栈的元素两者的较小值）都保存起来放到另外一个辅助栈里。\n",
    "如果每次都把最小元素压入辅助栈，那么就能保证辅助栈的栈顶一直都是最小元素。当最小元素从数据栈内被弹出之后，同时弹出辅助栈的栈顶元素，此时辅助栈的新栈顶元素就是下一个最小值。\n",
    "'''\n",
    "m_data=[]\n",
    "m_min=[]\n",
    "def push(value):\n",
    "    m_data.append(value)\n",
    "    if len(m_min)==0 or m_min[-1]>value:\n",
    "        m_min.append(value)\n",
    "    else:\n",
    "        m_min.append(m_min[-1])\n",
    "\n",
    "def pop():\n",
    "    assert(len(m_data)>0 and len(m_min)>0)\n",
    "    m_data.pop()\n",
    "    m_min.pop()\n",
    "\n",
    "def top():\n",
    "    return m_data[-1]\n",
    "\n",
    "def min():\n",
    "    assert(len(m_data)>0 and len(m_min)>0)\n",
    "    return m_min[-1]\n",
    "\n"
   ]
  }
 ],
 "metadata": {
  "kernelspec": {
   "display_name": "Python 3",
   "language": "python",
   "name": "python3"
  },
  "language_info": {
   "codemirror_mode": {
    "name": "ipython",
    "version": 3
   },
   "file_extension": ".py",
   "mimetype": "text/x-python",
   "name": "python",
   "nbconvert_exporter": "python",
   "pygments_lexer": "ipython3",
   "version": "3.6.6"
  }
 },
 "nbformat": 4,
 "nbformat_minor": 2
}
