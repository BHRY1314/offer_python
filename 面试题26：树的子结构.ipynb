{
 "cells": [
  {
   "cell_type": "markdown",
   "metadata": {},
   "source": [
    "# 题目\n",
    "\n",
    "### 输入两颗二叉树A和B，判断B是不是A的子结构。"
   ]
  },
  {
   "cell_type": "code",
   "execution_count": 1,
   "metadata": {},
   "outputs": [],
   "source": [
    "class TreeNode:\n",
    "    def __init__(self, x):\n",
    "        self.val = x\n",
    "        self.left = None\n",
    "        self.right = None"
   ]
  },
  {
   "cell_type": "code",
   "execution_count": null,
   "metadata": {},
   "outputs": [],
   "source": [
    "'''\n",
    "思路：\n",
    "\n",
    "我们可以分成两步：第一步，在树A中找到和树B的根节点的值一样的节点R；第二步，判断树A中以R为根节点的字数是不是包含和树B一样的结构\n",
    "'''\n",
    "'''\n",
    "判断相等\n",
    "\n",
    "由于节点值可能是double类型，所以不能直接使用==来比较\n",
    "'''\n",
    "def Equal(num1,num2):\n",
    "    if (num1-num2>-0.0000001) and (num1-num2<0.0000001):\n",
    "        return True\\\n",
    "    else:\n",
    "        return False\n",
    "\n",
    "'''\n",
    "递归判断\n",
    "'''    \n",
    "def DoesTree1HaveTree2(root1,root2):\n",
    "    if not root2:\n",
    "        return True\n",
    "    if not root1:\n",
    "        return False\n",
    "    if(Equal(root1.val,root2.val)==False):\n",
    "        return False\n",
    "    return DoesTree1HaveTree2(root1.left,root2.left) and DoesTree1HaveTree2(root1.right,root2.right)\n",
    "\n",
    "def HasSubtree(root1,root2):\n",
    "    result=False\n",
    "    if root1 and root2:\n",
    "        if Equal(root1.val,root2.val):\n",
    "            result=DoesTree1HaveTree2(root1,root2)\n",
    "        if result==False:\n",
    "            result=HasSubtree(root1.left,root2)\n",
    "        if result==False:\n",
    "            result=HasSubtree(root1.right,root2)\n",
    "    return result\n",
    "        "
   ]
  }
 ],
 "metadata": {
  "kernelspec": {
   "display_name": "Python 3",
   "language": "python",
   "name": "python3"
  },
  "language_info": {
   "codemirror_mode": {
    "name": "ipython",
    "version": 3
   },
   "file_extension": ".py",
   "mimetype": "text/x-python",
   "name": "python",
   "nbconvert_exporter": "python",
   "pygments_lexer": "ipython3",
   "version": "3.6.6"
  }
 },
 "nbformat": 4,
 "nbformat_minor": 2
}
