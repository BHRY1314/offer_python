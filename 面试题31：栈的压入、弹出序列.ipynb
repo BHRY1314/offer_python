{
 "cells": [
  {
   "cell_type": "markdown",
   "metadata": {},
   "source": [
    "# 题目\n",
    "\n",
    "### 输入两个整数序列，第一个序列表示栈的压入顺序，请判断第二个序列是否为该栈的弹出顺序。假设压入栈的所有数字均不相等。例如，序列{1,2,3,4,5}是某栈的压栈序列，序列{4,5,3,2,1}是该压栈序列对应的一个弹出序列，但{4,3,5,1,2}就不可能是该压栈序列的弹出序列"
   ]
  },
  {
   "cell_type": "code",
   "execution_count": null,
   "metadata": {},
   "outputs": [],
   "source": [
    "'''\n",
    "思路：\n",
    "\n",
    "判断一个序列是否是栈的弹出序列的规律如下：如果下一个弹出的数字刚好是栈顶元素，那么直接弹出；如果下一个弹出的数字不在栈顶，则把压栈序列中还没有入栈的数字压入辅助栈，直到把下一个需要弹出的数字压入栈顶为止；如果所有数字都压入栈顶后仍然没有找到下一个弹出的数字，那么该序列不可能是一个弹出序列\n",
    "'''\n",
    "def isPopOrder(pPush,pPop):\n",
    "    stack=[]\n",
    "    while pPop:\n",
    "        if pPush and pPop[0]==pPush[0]:\n",
    "            pPush.pop(0)\n",
    "            pPop.pop(0)\n",
    "        elif stack and stack[-1]==pPop[0]:\n",
    "            stack.pop(0)\n",
    "            pPop.pop(0)\n",
    "        elif pPush:\n",
    "            stack.append(pPush.pop(0))\n",
    "        else:\n",
    "            return False\n",
    "    return True"
   ]
  }
 ],
 "metadata": {
  "kernelspec": {
   "display_name": "Python 3",
   "language": "python",
   "name": "python3"
  },
  "language_info": {
   "codemirror_mode": {
    "name": "ipython",
    "version": 3
   },
   "file_extension": ".py",
   "mimetype": "text/x-python",
   "name": "python",
   "nbconvert_exporter": "python",
   "pygments_lexer": "ipython3",
   "version": "3.6.6"
  }
 },
 "nbformat": 4,
 "nbformat_minor": 2
}
