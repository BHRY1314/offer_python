{
 "cells": [
  {
   "cell_type": "code",
   "execution_count": 4,
   "metadata": {},
   "outputs": [
    {
     "name": "stdout",
     "output_type": "stream",
     "text": [
      "None\n"
     ]
    }
   ],
   "source": [
    "'''\n",
    "介绍：\n",
    "找出数组中重复的数字，如a={2,3,1,0,2,5,3},则输出2或3，数组长度为n,所有数字都在0~n-1之间\n",
    "'''\n",
    "\n",
    "'''\n",
    "思路：\n",
    "从头到尾扫描这个数组中的每个数字，当扫描到下标为i的数字时，首先比较这个数字(m)是不是等于i，\n",
    "如果是，则接着扫描下一个数字；如果不是，则拿他和第m个数字进行比较。如果它和第m个数字相等，\n",
    "就找到了一个重复的数字（这个数字在下标为i和m的位置都出现了），如果它和第m个数字不相等，就\n",
    "把第i个数字和第m个数字交换，把m放到属于它的位置。接下来在重复这个比较、交换的过程直到发现\n",
    "第一个重复的数字\n",
    "'''\n",
    "def find_repeat(numbers):\n",
    "    '''\n",
    "    按照书中的C++代码重写\n",
    "    '''\n",
    "    temp=0\n",
    "    if len(numbers)<=1:\n",
    "        return None\n",
    "    for i in numbers:\n",
    "        if i<0 or i>(len(numbers)-1):\n",
    "            return None\n",
    "    for i in range(len(numbers)):\n",
    "        while numbers[i]!=i:\n",
    "            if numbers[i]==numbers[numbers[i]]:\n",
    "                temp=numbers[i]\n",
    "                return temp\n",
    "            change=numbers[i]\n",
    "            numbers[i]=numbers[change]\n",
    "            numbers[change]=change\n",
    "    return None\n",
    "\n",
    "a=[2,3,1,0,4,5,6]\n",
    "print(find_repeat(a))"
   ]
  },
  {
   "cell_type": "code",
   "execution_count": 17,
   "metadata": {},
   "outputs": [
    {
     "name": "stdout",
     "output_type": "stream",
     "text": [
      "None\n"
     ]
    }
   ],
   "source": [
    "'''\n",
    "纯python:利用第三方库\n",
    "'''\n",
    "from collections import Counter\n",
    "\n",
    "def find_repeat1(numbers):\n",
    "    c=Counter(numbers)\n",
    "    for key,value in c.items():\n",
    "        if value>1:\n",
    "            return key\n",
    "    return None\n",
    "            \n",
    "\n",
    "a=[2,3,1,0,2,3,6]\n",
    "print(find_repeat1(a))"
   ]
  },
  {
   "cell_type": "code",
   "execution_count": 23,
   "metadata": {},
   "outputs": [
    {
     "name": "stdout",
     "output_type": "stream",
     "text": [
      "3\n"
     ]
    }
   ],
   "source": [
    "'''\n",
    "变种：\n",
    "不修改数组找出重复的数字\n",
    "'''\n",
    "\n",
    "'''\n",
    "思路：\n",
    "我们吧从1~n的数字从中间的数字m分为两部分，前面一半为1~m,后面一半为m+1~n,如果1~m的数字\n",
    "的数目超过m,那么这一半的区间里一定包含重复的数字，否则，另一半m+1~n的区间里一定包含\n",
    "重复的数字。我们可以继续把包含重复数字的区间一分为二，直到找到一个重复的数字。这个过程\n",
    "和二分查找算法很类似，只是多了一步统计区间里数字的数目\n",
    "'''\n",
    "def count_number(numbers,start,end):\n",
    "    if len(numbers)<=0:\n",
    "        return 0\n",
    "    count=0\n",
    "    for i in numbers:\n",
    "        if i>=start and i<=end:\n",
    "            count+=1\n",
    "    return count\n",
    "\n",
    "def find_repeat2(numbers):\n",
    "    '''\n",
    "    根据书中的C++代码重写\n",
    "    '''\n",
    "    if len(numbers)<=0:\n",
    "        return None\n",
    "    start=1\n",
    "    end=len(numbers)-1\n",
    "    while end>=start:\n",
    "        middle=((end-start)>>1)+start\n",
    "        count=count_number(numbers,start,middle)\n",
    "        if end==start:\n",
    "            if count>1:\n",
    "                return start\n",
    "            else:\n",
    "                break\n",
    "        if count>(middle-start+1):\n",
    "            end=middle\n",
    "        else:\n",
    "            start=middle+1\n",
    "    return None\n",
    "\n",
    "a=[2,3,5,4,3,2,6,7]\n",
    "print(find_repeat2(a))\n",
    "\n",
    "'''\n",
    "注：\n",
    "这个算法不能保证找出所有重复的数字\n",
    "'''"
   ]
  },
  {
   "cell_type": "code",
   "execution_count": null,
   "metadata": {},
   "outputs": [],
   "source": []
  }
 ],
 "metadata": {
  "kernelspec": {
   "display_name": "Python 3",
   "language": "python",
   "name": "python3"
  },
  "language_info": {
   "codemirror_mode": {
    "name": "ipython",
    "version": 3
   },
   "file_extension": ".py",
   "mimetype": "text/x-python",
   "name": "python",
   "nbconvert_exporter": "python",
   "pygments_lexer": "ipython3",
   "version": "3.6.6"
  }
 },
 "nbformat": 4,
 "nbformat_minor": 2
}
