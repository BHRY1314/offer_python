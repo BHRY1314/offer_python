{
 "cells": [
  {
   "cell_type": "markdown",
   "metadata": {},
   "source": [
    "# 题目\n",
    "\n",
    "### 输入一个整数数组，实现一个函数来调整该数组中数字的顺序，使得所有奇数位于数组的前半部分，所有偶数位于数组的后半部分\n"
   ]
  },
  {
   "cell_type": "code",
   "execution_count": 12,
   "metadata": {},
   "outputs": [
    {
     "data": {
      "text/plain": [
       "[1, 5, 3, 4, 2]"
      ]
     },
     "execution_count": 12,
     "metadata": {},
     "output_type": "execute_result"
    }
   ],
   "source": [
    "'''\n",
    "只完成基本功能的代码\n",
    "'''\n",
    "'''\n",
    "思路:\n",
    "\n",
    "我们使用两个指针，第一个指针初始化时指向数组的第一个数字，它只向后移动，第二个指针\n",
    "初始化时指向数组的最后一个数字，它只向前移动。在两个指针相遇之前，第一个指针总是位于\n",
    "第二个指针的前面。如果第一个指针指向的数字是偶数，并且第二个指针指向的数字是奇数，则\n",
    "交换这两个数字\n",
    "'''\n",
    "def ReorderOddEvent(pData):\n",
    "    if len(pData)<=0:\n",
    "        return\n",
    "    start=0\n",
    "    end=len(pData)-1\n",
    "    while start<end:\n",
    "        #向后移动start，直到它指向偶数\n",
    "        while start<end and (pData[start]%2)!=0:\n",
    "            start+=1\n",
    "        #向前移动end,直到它指向奇数\n",
    "        while start<end and (pData[end]%2)==0:\n",
    "            end-=1\n",
    "        if start<end:\n",
    "            temp=pData[start]\n",
    "            pData[start]=pData[end]\n",
    "            pData[end]=temp\n",
    "\n",
    "    return pData\n",
    "\n",
    "ReorderOddEvent([1,2,3,4,5])"
   ]
  },
  {
   "cell_type": "code",
   "execution_count": 13,
   "metadata": {},
   "outputs": [
    {
     "data": {
      "text/plain": [
       "[1, 5, 3, 4, 2]"
      ]
     },
     "execution_count": 13,
     "metadata": {},
     "output_type": "execute_result"
    }
   ],
   "source": [
    "'''\n",
    "扩展的解法\n",
    "'''\n",
    "\n",
    "'''\n",
    "思路：\n",
    "\n",
    "把两个while的逻辑框架抽象出来，用函数来进行处理，这样能很方便的把解决方案扩展到同类\n",
    "问题上去\n",
    "'''\n",
    "def isEvent(n):\n",
    "    return (n&1)==0\n",
    "def Reorder(pData):\n",
    "    if len(pData)<=0:\n",
    "        return\n",
    "    start=0\n",
    "    end=len(pData)-1\n",
    "    while start<end:\n",
    "        #向后移动start，直到它指向偶数\n",
    "        while start<end and not isEvent(pData[start]):\n",
    "            start+=1\n",
    "        #向前移动end,直到它指向奇数\n",
    "        while start<end and isEvent(pData[end]):\n",
    "            end-=1\n",
    "        if start<end:\n",
    "            temp=pData[start]\n",
    "            pData[start]=pData[end]\n",
    "            pData[end]=temp\n",
    "\n",
    "    return pData\n",
    "\n",
    "Reorder([1,2,3,4,5])"
   ]
  },
  {
   "cell_type": "code",
   "execution_count": 14,
   "metadata": {},
   "outputs": [
    {
     "data": {
      "text/plain": [
       "[1, 3, 5, 2, 4]"
      ]
     },
     "execution_count": 14,
     "metadata": {},
     "output_type": "execute_result"
    }
   ],
   "source": [
    "'''\n",
    "纯Python的解法\n",
    "'''\n",
    "def ReorderList(data):\n",
    "    odd=[]\n",
    "    even=[]\n",
    "    for i in data:\n",
    "        if i&0x1==0:\n",
    "            even.append(i)\n",
    "        else:\n",
    "            odd.append(i)\n",
    "    return odd+even\n",
    "\n",
    "ReorderList([1,2,3,4,5])"
   ]
  },
  {
   "cell_type": "code",
   "execution_count": 16,
   "metadata": {},
   "outputs": [
    {
     "data": {
      "text/plain": [
       "[1, 3, 5, 7, 5, 1, 2, 4, 6, 8]"
      ]
     },
     "execution_count": 16,
     "metadata": {},
     "output_type": "execute_result"
    }
   ],
   "source": [
    "'''\n",
    "大神的一行代码\n",
    "'''\n",
    "def ReorderData(data):\n",
    "    return sorted(data,key=lambda x:x%2,reverse=True)\n",
    "\n",
    "ReorderData([1,2,3,4,5,7,5,6,8,1])"
   ]
  },
  {
   "cell_type": "code",
   "execution_count": null,
   "metadata": {},
   "outputs": [],
   "source": []
  }
 ],
 "metadata": {
  "kernelspec": {
   "display_name": "Python 3",
   "language": "python",
   "name": "python3"
  },
  "language_info": {
   "codemirror_mode": {
    "name": "ipython",
    "version": 3
   },
   "file_extension": ".py",
   "mimetype": "text/x-python",
   "name": "python",
   "nbconvert_exporter": "python",
   "pygments_lexer": "ipython3",
   "version": "3.6.6"
  }
 },
 "nbformat": 4,
 "nbformat_minor": 2
}
