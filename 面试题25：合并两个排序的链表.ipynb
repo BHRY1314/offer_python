{
 "cells": [
  {
   "cell_type": "markdown",
   "metadata": {},
   "source": [
    "# 题目\n",
    "\n",
    "### 输入两个递增排序的链表，合并这两个链表并使新链表的节点仍然是递增排序的。"
   ]
  },
  {
   "cell_type": "code",
   "execution_count": 1,
   "metadata": {},
   "outputs": [],
   "source": [
    "class ListNode:\n",
    "    def __init__(self, x):\n",
    "        self.val = x\n",
    "        self.next = None"
   ]
  },
  {
   "cell_type": "code",
   "execution_count": null,
   "metadata": {},
   "outputs": [],
   "source": [
    "'''\n",
    "思路：\n",
    "我们的分析从合并两个链表的头节点开始。链表1的头节点的值小于链表2的头节点的值，因此链表1的头节点将是合并后的链表的头节点\n",
    "\n",
    "我们继续合并两个链表中剩余的节点。在两个链表中剩下的节点仍然是排序的，因此合并这两个链表的步骤和前面的步骤是一样的，我们还是比较两个头节点的值。此时链表2的头节点的值小于链表1的头节点的值，因此链表2的头节点的值将是合并剩余节点得到的链表的头节点。我们把这个节点和前面合并链表时得到的链表的尾节点(值为1的节点)链接起来。\n",
    "\n",
    "当我们得到两个链表中值较小的头节点并把它链接到已经合并的链表之后，两个链表剩余的节点依然是排序的，因此合并的步骤和之前的步骤是一样的。这就是典型的递归过程，我们可以定义递归函数完成这一合并过程。\n",
    "\n",
    "然后分析鲁棒性的问题。当其中一个链表时空链表时，合并后的结果就是另一个链表。当两个链表都为空时，合并的结果就是一个空链表\n",
    "'''\n",
    "def Merge(pHead1,pHead2):\n",
    "    if not pHead1:\n",
    "        return pHead2\n",
    "    elif not pHead2:\n",
    "        return pHead1\n",
    "    pMergeHead=None\n",
    "    if pHead1.val<pHead2.val:\n",
    "        pMergeHead=pHead1\n",
    "        pMergeHead.next=Merge(pHead1.next,pHead2)\n",
    "    else:\n",
    "        pMergeHead=pHead2\n",
    "        pMergeHead.next=Merge(pHead1,pHead2.next)\n",
    "    return pMergeHead"
   ]
  },
  {
   "cell_type": "code",
   "execution_count": 14,
   "metadata": {},
   "outputs": [
    {
     "data": {
      "text/plain": [
       "[1, 2, 2, 3, 3, 4, 4, 5, 6, 7, 8]"
      ]
     },
     "execution_count": 14,
     "metadata": {},
     "output_type": "execute_result"
    }
   ],
   "source": [
    "'''\n",
    "非递归处理\n",
    "思路和上面类似，都是通过移动索引来进行比较，然后把比较结果在额外空间中进行更新\n",
    "'''\n",
    "def Merge(List1,List2):\n",
    "    if not List1:\n",
    "        return List2\n",
    "    elif not List2:\n",
    "        return List1\n",
    "    l1=len(List1)\n",
    "    l2=len(List2)\n",
    "    nums=[0]*(l1+l2)\n",
    "    index=l1+l2-1\n",
    "    m=l1-1\n",
    "    n=l2-1\n",
    "    while m>=0 and n>=0:\n",
    "        if List1[m]>List2[n]:\n",
    "            nums[index]=List1[m]\n",
    "            m-=1\n",
    "        else:\n",
    "            nums[index]=List2[n]\n",
    "            n-=1\n",
    "        index-=1\n",
    "    if n<0:\n",
    "        nums[:m+1]=List1[:m+1]\n",
    "    if m<0:\n",
    "        nums[:n+1]=List1[:n+1]\n",
    "    return nums\n",
    "a=[1,2,3,4,5]\n",
    "b=[2,3,4,6,7,8]\n",
    "Merge(a,b)"
   ]
  },
  {
   "cell_type": "code",
   "execution_count": null,
   "metadata": {},
   "outputs": [],
   "source": []
  }
 ],
 "metadata": {
  "kernelspec": {
   "display_name": "Python 3",
   "language": "python",
   "name": "python3"
  },
  "language_info": {
   "codemirror_mode": {
    "name": "ipython",
    "version": 3
   },
   "file_extension": ".py",
   "mimetype": "text/x-python",
   "name": "python",
   "nbconvert_exporter": "python",
   "pygments_lexer": "ipython3",
   "version": "3.6.6"
  }
 },
 "nbformat": 4,
 "nbformat_minor": 2
}
