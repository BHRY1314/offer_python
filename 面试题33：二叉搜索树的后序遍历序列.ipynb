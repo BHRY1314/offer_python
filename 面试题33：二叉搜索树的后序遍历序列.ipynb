{
 "cells": [
  {
   "cell_type": "markdown",
   "metadata": {},
   "source": [
    "# 题目\n",
    "\n",
    "### 输入一个整数数组，判断该数组是不是某二叉搜索树的遍历结果。如果是则返回true,否则返回false。假设输入的数组的任意两个数字互不相同"
   ]
  },
  {
   "cell_type": "code",
   "execution_count": 23,
   "metadata": {},
   "outputs": [
    {
     "data": {
      "text/plain": [
       "True"
      ]
     },
     "execution_count": 23,
     "metadata": {},
     "output_type": "execute_result"
    }
   ],
   "source": [
    "'''\n",
    "思路：\n",
    "\n",
    "在后序遍历得到的序列中，最后一个数字是树的根节点的值。数组中前面的数字可以分为两部分：第一部分是左子树节点的值，它们都比根节点的值小；第二部分是右子树节点的值，它们都比根节点的值大。\n",
    "以数组{5,7,6,9,11,10,8}为例，后序遍历结果的最后一个数字8就是根节点的值。在这个数组中，前3个数字5,7和6都比8小，是值为8的节点的左子树节点；后三个数字9,10,11都比8大，是值为8的节点的右子树节点\n",
    "接下来用同样的方法确定与数组每一部分对应的子树的结构，这其实就是一个递归的过程。对于序列{5,7,6}，最后一个数字6是左子树的根节点的值。数字5比6小，是值为6的节点的左子节点，而7则是它的右子节点。同样，在序列{9,11,10}中，最后一个数字10是右子树的根节点，数字9比10小，是值为10的节点的左子节点，而11则是它的右子节点\n",
    "\n",
    "'''\n",
    "def VerifySquenceOfBST(sequence):\n",
    "    if not sequence:\n",
    "        return False\n",
    "    length=len(sequence)\n",
    "    if length==1:\n",
    "        return True\n",
    "    root=sequence[length-1]\n",
    "    #在二叉搜索树中左子树节点的值小于根节点的值\n",
    "    i=0\n",
    "    while sequence[i]<root:\n",
    "        i+=1\n",
    "    #在二叉搜索树中左子树节点的值大于根节点的值\n",
    "    j=i\n",
    "    for j in range(i,length-1):\n",
    "        if sequence[i]<root:\n",
    "            return False\n",
    "    #判断左子树是不是二叉树\n",
    "    left=True\n",
    "    right=True\n",
    "    if i>0:\n",
    "        left=VerifySquenceOfBST(sequence[:i])\n",
    "    #判断右子树是不是二叉树\n",
    "\n",
    "    if i<length-1:\n",
    "        right=VerifySquenceOfBST(sequence[i:-1])\n",
    "    return left and right\n",
    "VerifySquenceOfBST([4,6,7,5])"
   ]
  }
 ],
 "metadata": {
  "kernelspec": {
   "display_name": "Python 3",
   "language": "python",
   "name": "python3"
  },
  "language_info": {
   "codemirror_mode": {
    "name": "ipython",
    "version": 3
   },
   "file_extension": ".py",
   "mimetype": "text/x-python",
   "name": "python",
   "nbconvert_exporter": "python",
   "pygments_lexer": "ipython3",
   "version": "3.6.6"
  }
 },
 "nbformat": 4,
 "nbformat_minor": 2
}
