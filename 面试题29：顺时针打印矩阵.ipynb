{
 "cells": [
  {
   "cell_type": "markdown",
   "metadata": {},
   "source": [
    "# 题目\n",
    "\n",
    "### 输入一个矩阵，按照从外向里以顺时针的顺序依次打印出每一个数字。例如，如果输入如下矩阵"
   ]
  },
  {
   "cell_type": "markdown",
   "metadata": {},
   "source": [
    "$$\\begin{bmatrix}\n",
    "1 &2  &3  &4 \\\\ \n",
    "5 &6  &7  &8 \\\\ \n",
    "9 &10  &11  &12 \\\\ \n",
    "13 &14  &15  &16 \n",
    "\\end{bmatrix}$$"
   ]
  },
  {
   "cell_type": "markdown",
   "metadata": {},
   "source": [
    "### 则依次打印出数字1,2,3,4,5,6,7,8,9,10,11,12,13,14,15,16"
   ]
  },
  {
   "cell_type": "code",
   "execution_count": null,
   "metadata": {},
   "outputs": [],
   "source": [
    "'''\n",
    "思路；\n",
    "\n",
    "通过画图，我们可以发现左上角的坐标中行标和列标总是相同的，于是可以在矩阵中选取左上角为（start,start）的一圈作为我们分析的目标。\n",
    "对于一个5x5的矩阵而言，最后一圈只有一个数字，对应的坐标为（2,2）。我们发现5>2x2.对于一个6x6的矩阵而言，最后一圈有4个数字，其左上角的坐标仍然为（2,2）。我们发现6>2x2依然成立。于是可以得出，让循环继续的条件是columns>startX*2而且rows>startY*2.所以我们可以使用如下的循环\n",
    "'''\n",
    "def PrintMatrixClockwisely(numbers,columns,rows):\n",
    "    if not numbers or columns<=0 or rows<=0:\n",
    "        return\n",
    "    start=0\n",
    "    while columns<start*2 and rows>start*2:\n",
    "        PrintMatrixInCircle(numbers,columns,rows,start)\n",
    "        start+=1\n",
    "\n",
    "'''\n",
    "我们可以把打印一圈分为四步：第一步，从左到右打印一行；第二步，从上到下打印一列；第三步，从右到左打印一行；第四部，从下到上打印一列。每一步我们根据起始坐标和中职坐标用一个循环就能打印出一行或者一列。\n",
    "我们要仔细分析打印时每一步的前提条件。第一步总是需要的，因为打印一圈至少有一步。如果只有一行，那就不用第二步了。也就是需要第二步的前提条件是终止行号大于起始行号。需要第三步打印的前提条件是圈内至少有两行两列，也就是说，除了要求终止行号大于起始行号，还要求终止列号大于起始列号。同理，需要打印第四步的前提条件是至少有三行两列，因此要求终止行号比起始行号至少大2，同时终止列号大于起始列号\n",
    "'''\n",
    "def PrintMatrixCircle(numbers,columns,rows,start):\n",
    "    endX=columns-1-start\n",
    "    endY=rows-1-start\n",
    "    #从左到右打印一行\n",
    "    for i in range(start,endX+1):\n",
    "        number=numbers[start][i]\n",
    "        printNumber(number)\n",
    "    #从上到下打印一列\n",
    "    if start<endY:\n",
    "        for i in range(start+1,endY+1):\n",
    "            number=numbers[i][endX]\n",
    "            printNumber(number)\n",
    "    #从右到左打印一行\n",
    "    if start<endX and start<endY:\n",
    "        for i in range(endX-1,start+1,-1):\n",
    "            number=numbers[endY][i]\n",
    "            printNumber(number)\n",
    "    #从下到上打印一列\n",
    "    if start<endX and start<endY-1:\n",
    "        for i in range(endY-1,start+1,-1):\n",
    "            number=numbers[i][start]\n",
    "            printNumber(number)"
   ]
  },
  {
   "cell_type": "code",
   "execution_count": 7,
   "metadata": {},
   "outputs": [],
   "source": [
    "'''\n",
    "用旋转魔方的方式，一直取出第一行；\n",
    " \n",
    "例如\n",
    " \n",
    "    1 2 3\n",
    "    4 5 6\n",
    "    7 8 9\n",
    "输出并删除第一行后，变为\n",
    " \n",
    "    4 5 6\n",
    "    7 8 9\n",
    "再进行一次逆时针旋转，就变成：\n",
    " \n",
    "    6 9\n",
    "    5 8\n",
    "    4 7\n",
    "继续重复上述操作即可。\n",
    "'''\n",
    "def printMatrix(matrix):\n",
    "    result=[]\n",
    "    while matrix:\n",
    "        result+=matrix[0]\n",
    "        del matrix[0]\n",
    "        matrix=zip(*matrix)[::-1]\n",
    "        print(\"matrix:\",matrix)\n",
    "    return result"
   ]
  },
  {
   "cell_type": "code",
   "execution_count": null,
   "metadata": {},
   "outputs": [],
   "source": []
  }
 ],
 "metadata": {
  "kernelspec": {
   "display_name": "Python 3",
   "language": "python",
   "name": "python3"
  },
  "language_info": {
   "codemirror_mode": {
    "name": "ipython",
    "version": 3
   },
   "file_extension": ".py",
   "mimetype": "text/x-python",
   "name": "python",
   "nbconvert_exporter": "python",
   "pygments_lexer": "ipython3",
   "version": "3.6.6"
  }
 },
 "nbformat": 4,
 "nbformat_minor": 2
}
