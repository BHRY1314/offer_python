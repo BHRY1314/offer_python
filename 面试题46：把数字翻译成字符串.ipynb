{
 "cells": [
  {
   "cell_type": "markdown",
   "metadata": {},
   "source": [
    "# 题目\n",
    "\n",
    "### 给定一个数字，我们按照如下的规则把它翻译成字符串：0翻译成“a”，1翻译成“b”,……，11翻译成“l”,……,25翻译成“z”。一个数字可能有多个翻译。例如，12258有5种不同的翻译，分别是“bccfi”,\"bwfi\",“bczi”,“mcfi”和“mzi”。请编程实现一个函数，用来计算一个数字有多少种不同的翻译方法。"
   ]
  },
  {
   "cell_type": "code",
   "execution_count": null,
   "metadata": {},
   "outputs": [],
   "source": [
    "'''\n",
    "思路：\n",
    "\n",
    "以12258为例，翻译12258可以分解成两个子问题：翻译1和2258，以及翻译12和258.接下来我们翻译第一个子问题中剩下的2258，同样也可以分解成两个子问题：翻译2和258，以及翻译22和58.此时，子问题翻译258重复出现了\n",
    "我们可以从最小的子问题开始自下而上解决问题，这样就可以消除重复的子问题。也就是说，我们从数字的末尾开始，然后从右到左翻译并计算不同翻译的数目。\n",
    "'''\n",
    "def GetTranslationCount(strN):\n",
    "    l=len(strN)\n",
    "    counts=[0]*l\n",
    "    count=0\n",
    "    for i in range(l-1,-1,-1):\n",
    "        count=0\n",
    "        if i<l-1:\n",
    "            count=counts[i+1]\n",
    "        else:\n",
    "            count=1\n",
    "        if i<l-1:\n",
    "            digit1=strN[i]-'0'\n",
    "            digit2=strN[i+1]-'0'\n",
    "            converted=digit1*10+digit2\n",
    "            if converted>=10 and converted<=25:\n",
    "                if i<l-2:\n",
    "                    count+=counts[i+2]\n",
    "                else:\n",
    "                    count+=1\n",
    "        counts[i]=count\n",
    "    count=counts[0]\n",
    "    del counts\n",
    "    return count\n",
    "\n",
    "def GetTranslation(number):\n",
    "    if number<0:\n",
    "        return 0\n",
    "    numberInString=str(number)\n",
    "    return GetTranslationCount(numberInString)"
   ]
  },
  {
   "cell_type": "code",
   "execution_count": null,
   "metadata": {},
   "outputs": [],
   "source": [
    "'''\n",
    "借用别人的分析\n",
    "自下而上，动态规划，从最小的问题开始 ：\n",
    "f(r)表示以r为开始（r最小取0）到最右端所组成的数字能够翻译成字符串的种数。对于长度为n的数字，f(n)=0,f(n-1)=1,求f(0)。\n",
    "递推公式为 f(r-2) = f(r-1)+g(r-2,r-1)*f(r)；\n",
    "其中，如果r-2，r-1能够翻译成字符，则g(r-2,r-1)=1，否则为0。\n",
    "因此，对于12258：\n",
    "f(5) = 0\n",
    "f(4) = 1\n",
    "f(3) = f(4)+0 = 1\n",
    "f(2) = f(3)+f(4) = 2\n",
    "f(1) = f(2)+f(3) = 3\n",
    "f(0) = f(1)+f(2) = 5\n",
    "'''\n",
    "def trans_num_to_str(num):\n",
    "    if num < 0:\n",
    "        return 0\n",
    "    if num == 1:\n",
    "        return 1\n",
    "    string = str(num)\n",
    "    f1, f2, g = 0, 1, 0\n",
    "    for i in range(len(string)-2, -1, -1):\n",
    "        if int(string[i]+string[i+1]) < 26:\n",
    "            g = 1\n",
    "        else:\n",
    "            g = 0\n",
    "        f2, f1 = f2 + g * f1, f2\n",
    "    return f2"
   ]
  }
 ],
 "metadata": {
  "kernelspec": {
   "display_name": "Python 3",
   "language": "python",
   "name": "python3"
  },
  "language_info": {
   "codemirror_mode": {
    "name": "ipython",
    "version": 3
   },
   "file_extension": ".py",
   "mimetype": "text/x-python",
   "name": "python",
   "nbconvert_exporter": "python",
   "pygments_lexer": "ipython3",
   "version": "3.6.6"
  }
 },
 "nbformat": 4,
 "nbformat_minor": 2
}
