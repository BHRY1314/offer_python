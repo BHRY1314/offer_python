{
 "cells": [
  {
   "cell_type": "markdown",
   "metadata": {},
   "source": [
    "# 题目\n",
    "\n",
    "### 给定一个数组A[0,1,2,……,n-1],请构建一个数组B[0,1,2,……,n-1]，其中B中的元素B[i]=A[0]xA[1]x……xA[i-1]xA[i+1]x……xA[n-1]。不能使用除法\n",
    "![6_4](6.png)\n"
   ]
  },
  {
   "cell_type": "code",
   "execution_count": null,
   "metadata": {},
   "outputs": [],
   "source": [
    "'''\n",
    "思路：\n",
    "\n",
    "可以把B[i]=A[0]*A[1]*……*A[i-1]*A[i+1]*……*A[n-1]看成A[0]*A[1]*……*A[i-1]和A[i+1]*……*A[n-2]*A[n-1]两部分的乘积。因此，数组B可以用一个矩阵来创建（见图6.4）在图中，B[i]为矩阵中第i行所有元素的乘积。\n",
    "不妨定义C[i]=A[0]*A[1]*……*A[i-1],D[i]=A[i+1]*……*A[n-2]*A[n-1],C[i]可以用自上而下的顺序计算出来，即C[i]==C[i-1]*A[i-1]，类似的，D[i]=D[i+1]*A[i+1]\n",
    "'''\n",
    "def multiply(array1,array2):\n",
    "    length1=len(array1)\n",
    "    length2=len(array2)\n",
    "    if length1==length2 and length2>1:\n",
    "        array2[0]=1\n",
    "        for i in range(length1):\n",
    "            array2[i]=array2[i-1]*array1[i-1]\n",
    "        temp=1\n",
    "        for i in range(length1-2,-1,-1):\n",
    "            temp*=array1[i+1]\n",
    "            array2[i]*=temp"
   ]
  },
  {
   "cell_type": "code",
   "execution_count": null,
   "metadata": {},
   "outputs": [],
   "source": [
    "'''\n",
    "Python使用一个数组做参数\n",
    "'''\n",
    "def multiply(A):\n",
    "    if not A:\n",
    "        return None\n",
    "    B=[1]*len(A)\n",
    "    temp1=1\n",
    "    for i in range(1,len(A)):\n",
    "        temp1*=A[i-1]\n",
    "        B[i]=temp\n",
    "    temp2=1\n",
    "    for j in range(len(A)-2,-1,-1):\n",
    "        temp2*=A[j+1]\n",
    "        B[j]*=temp2\n",
    "    return B"
   ]
  }
 ],
 "metadata": {
  "kernelspec": {
   "display_name": "Python 3",
   "language": "python",
   "name": "python3"
  },
  "language_info": {
   "codemirror_mode": {
    "name": "ipython",
    "version": 3
   },
   "file_extension": ".py",
   "mimetype": "text/x-python",
   "name": "python",
   "nbconvert_exporter": "python",
   "pygments_lexer": "ipython3",
   "version": "3.6.6"
  }
 },
 "nbformat": 4,
 "nbformat_minor": 2
}
