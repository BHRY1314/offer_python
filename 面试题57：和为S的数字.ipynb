{
 "cells": [
  {
   "cell_type": "markdown",
   "metadata": {},
   "source": [
    "# 题目一:和为s的两个数字\n",
    "\n",
    "### 输入一个递增排序的数组和一个数字s，在数组中查找两个数，使得它们的和正好是s。如果有多对数字的和等于s,则输出任意一对即可\n"
   ]
  },
  {
   "cell_type": "code",
   "execution_count": null,
   "metadata": {},
   "outputs": [],
   "source": [
    "'''\n",
    "思路：\n",
    "\n",
    "我们以数组{1,2,4,7,11,15}及期待的和15为例详细分析一下这个过程。首先定义两个指针，第一个指针指向数组的第一个（最小的）数字1，第二个指针指向数组的最后一个（最大的）数字15，这两个数字的和16大于15，因此我们把第二个指针向前移动一个数字，让它指向11.这时候两个数字1与11的和时12，小于15,。接下来我们把第一个指针向后移动一个数字指向2，此时两个数字2与11的和是13，还是小于15.我们再次向后移动第一个指针，让它指向数字4，数字4与11的和是15，正是我们期待的结果。\n",
    "'''\n",
    "def FindNumbersWithSum(data,sum):\n",
    "    if not data:\n",
    "        return None\n",
    "    length=len(data)\n",
    "    ahead=length-1\n",
    "    behind=0\n",
    "    while ahead>behind:\n",
    "        curSum=data[ahead]+data[behind]\n",
    "        if curSum==sum:\n",
    "            return [data[behind],data[ahead]]\n",
    "        elif curSum>sum:\n",
    "            ahead-=1\n",
    "        else:\n",
    "            behind+=1\n",
    "    return []"
   ]
  },
  {
   "cell_type": "markdown",
   "metadata": {},
   "source": [
    "# 题目二：和为s的连续正数序列\n",
    "\n",
    "### 输入一个正数s，打印出所有和为s的连续正数序列（至少含有两个数）。例如，输入15，由于1+2+3+4+5=4+5+6=7+8=15，打印出3个连续序列1\\~5,4\\~6和7~8"
   ]
  },
  {
   "cell_type": "code",
   "execution_count": null,
   "metadata": {},
   "outputs": [],
   "source": [
    "'''\n",
    "思路：\n",
    "\n",
    "有了解决前面问题的经验，我们也考虑用两个数small和big分别表示序列的最小值和最大值。首先把small初始化为1，big初始化为2。如果从small到big的序列的和大于s，则可以从序列中去掉最小的值，也就是增大small的值。如果从small到big的序列的和小于s,则可以增大big，让这个序列包含更多的数字。因为这个序列至少要有两个数字，我们一直增加small到（1+s）/2为止\n",
    "以求和为9的所有连续序列为例，我们先把small初始化为1，big初始化为2。此时介入small和big之间的序列是{1,2}，序列的和为3，小于9，所以我们下一步要让序列包含更多的数字。我们把Big增加1边恒3，此时序列为1,2,3.由于序列的和时6，仍然小于9，我们接下来再增加big变成4，介于small和big之间的序列也随之变成{1,2,3,4}。由于序列的和10大于9，我们要删去序列中的一些数字，于是我们增加small变成2，此时得到的序列是{2,3,4}，序列的和正好是9，我们找到了第一个和为9的连续序列，把它打印出来。接下来我们再增加big，重复前面的过程，可以找到第二个和为9的连续序列{4,5}\n",
    "'''\n",
    "def PrintContinusSequence(small,big):\n",
    "    for i in range(small,big+1):\n",
    "        print(\"%d\"%i)\n",
    "    print(\"\\n\")\n",
    "\n",
    "def FindContinusSequences(sum):\n",
    "    if sum<3:\n",
    "        return None\n",
    "    small=1\n",
    "    big=2\n",
    "    res=[]\n",
    "    middle=(1+sum)/2\n",
    "    curSum=small+big\n",
    "    while small<middle:\n",
    "        if curSum==sum:\n",
    "            PrintContinusSequence(small,big)\n",
    "            res.append(list(range(small,big+1)))\n",
    "        while curSum>sum and small<middle:\n",
    "            curSum-=small\n",
    "            small+=1\n",
    "            if curSum==sum:\n",
    "                PrintContinusSequence(small,big)\n",
    "                res.append(list(range(small,big+1)))\n",
    "        big+=1\n",
    "        curSum+=big\n",
    "    return res"
   ]
  },
  {
   "cell_type": "code",
   "execution_count": null,
   "metadata": {},
   "outputs": [],
   "source": [
    "'''\n",
    "简化版的写法\n",
    "'''\n",
    "def FindContinuousSequence(tsum):\n",
    "    res=[]\n",
    "    for i in range(1,tsum//2+1):\n",
    "        sum_num=i\n",
    "        for j in range(i+1,tsum//2+2):\n",
    "            sum_num+=j\n",
    "            if sum_num==tsum:\n",
    "                res.append(list(range(i,j+1)))\n",
    "                break\n",
    "            elif sum_num>tsum:\n",
    "                break\n",
    "    return res"
   ]
  }
 ],
 "metadata": {
  "kernelspec": {
   "display_name": "Python 3",
   "language": "python",
   "name": "python3"
  },
  "language_info": {
   "codemirror_mode": {
    "name": "ipython",
    "version": 3
   },
   "file_extension": ".py",
   "mimetype": "text/x-python",
   "name": "python",
   "nbconvert_exporter": "python",
   "pygments_lexer": "ipython3",
   "version": "3.6.6"
  }
 },
 "nbformat": 4,
 "nbformat_minor": 2
}
