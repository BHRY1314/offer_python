{
 "cells": [
  {
   "cell_type": "code",
   "execution_count": 1,
   "metadata": {},
   "outputs": [],
   "source": [
    "class ListNode:\n",
    "    def __init__(self, x):\n",
    "        self.val = x\n",
    "        self.next = None"
   ]
  },
  {
   "cell_type": "code",
   "execution_count": null,
   "metadata": {},
   "outputs": [],
   "source": [
    "'''\n",
    "题目：\n",
    "输入一个链表的头节点，从尾到头反过来打印出每个节点的值\n",
    "'''\n",
    "'''\n",
    "思路：\n",
    "运用栈来实现这种顺序，每经过一个节点的时候，把该节点放到一个栈中。当遍历完整个链表后，再\n",
    "从栈顶开始逐个输出节点的值\n",
    "'''\n",
    "def PrintList(headnode:ListNode):\n",
    "    '''\n",
    "    根据书中C++代码重写\n",
    "    '''\n",
    "    stack=[]\n",
    "    pNode=headnode\n",
    "    while pNode!=None:\n",
    "        stack.append(pNode.val)\n",
    "        pNode=pNode.next\n",
    "    return stack[::-1]\n"
   ]
  },
  {
   "cell_type": "code",
   "execution_count": null,
   "metadata": {},
   "outputs": [],
   "source": [
    "'''\n",
    "Python方法实现\n",
    "'''\n",
    "def printListFromTailToHead(self, listNode):\n",
    "    # write code here\n",
    "    result=[]\n",
    "    currentNode=listNode\n",
    "    while currentNode:\n",
    "        result.insert(0,currentNode.val)\n",
    "        currentNode=currentNode.next\n",
    "    return result\n",
    "'''\n",
    "\n",
    "'''"
   ]
  }
 ],
 "metadata": {
  "kernelspec": {
   "display_name": "Python 3",
   "language": "python",
   "name": "python3"
  },
  "language_info": {
   "codemirror_mode": {
    "name": "ipython",
    "version": 3
   },
   "file_extension": ".py",
   "mimetype": "text/x-python",
   "name": "python",
   "nbconvert_exporter": "python",
   "pygments_lexer": "ipython3",
   "version": "3.6.6"
  }
 },
 "nbformat": 4,
 "nbformat_minor": 2
}
