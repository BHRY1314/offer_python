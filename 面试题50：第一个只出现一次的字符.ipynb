{
 "cells": [
  {
   "cell_type": "markdown",
   "metadata": {},
   "source": [
    "# 题目\n",
    "\n",
    "### 在字符串中找出第一个只出现一次的字符。如输入“abaccdeff”，则输出“b”。"
   ]
  },
  {
   "cell_type": "code",
   "execution_count": 8,
   "metadata": {},
   "outputs": [
    {
     "data": {
      "text/plain": [
       "'e'"
      ]
     },
     "execution_count": 8,
     "metadata": {},
     "output_type": "execute_result"
    }
   ],
   "source": [
    "'''\n",
    "思路：\n",
    "\n",
    "我们可以定义哈希表，哈希表的键值是字符，而值是该字符出现的次数。同时我们还需要从头开始扫描字符串两次，第一次扫描字符串时，每扫描到一个字符，就在哈希表的对应项中把次数加1.接下来第二次扫描时，每扫描到一个字符就能从哈希表得到该字符出现的次数。这样，第一个只出现一次的字符就是符合要求的输出\n",
    "'''\n",
    "def FirstNotRepeatingChar(pString):\n",
    "    if not pString:\n",
    "        return None\n",
    "    hashTable=[0]*256\n",
    "    for i in pString:\n",
    "        hashTable[ord(i)]+=1\n",
    "    for i in pString:\n",
    "        if hashTable[ord(i)]==1:\n",
    "            return i\n",
    "            break\n",
    "    return None\n",
    "\n",
    "FirstNotRepeatingChar(\"googlle\")"
   ]
  },
  {
   "cell_type": "code",
   "execution_count": 10,
   "metadata": {},
   "outputs": [
    {
     "data": {
      "text/plain": [
       "'e'"
      ]
     },
     "execution_count": 10,
     "metadata": {},
     "output_type": "execute_result"
    }
   ],
   "source": [
    "'''\n",
    "纯Python的代码\n",
    "'''\n",
    "def FirstNotRepeatingChar(pString):\n",
    "    if not pString:\n",
    "        return None\n",
    "    for i in pString:\n",
    "        if pString.count(i)==1:\n",
    "            return i\n",
    "    return None\n",
    "\n",
    "FirstNotRepeatingChar(\"googlle\")"
   ]
  },
  {
   "cell_type": "code",
   "execution_count": 11,
   "metadata": {},
   "outputs": [
    {
     "data": {
      "text/plain": [
       "'e'"
      ]
     },
     "execution_count": 11,
     "metadata": {},
     "output_type": "execute_result"
    }
   ],
   "source": [
    "'''\n",
    "更精简的一行代码\n",
    "'''\n",
    "def FirstNotRepearingChar(pString):\n",
    "    return pString.index(list(filter(lambda c:pString.count(c)==1,pString))[0]) if pString else -1\n",
    "\n",
    "FirstNotRepeatingChar(\"googlle\")"
   ]
  },
  {
   "cell_type": "code",
   "execution_count": null,
   "metadata": {},
   "outputs": [],
   "source": []
  }
 ],
 "metadata": {
  "kernelspec": {
   "display_name": "Python 3",
   "language": "python",
   "name": "python3"
  },
  "language_info": {
   "codemirror_mode": {
    "name": "ipython",
    "version": 3
   },
   "file_extension": ".py",
   "mimetype": "text/x-python",
   "name": "python",
   "nbconvert_exporter": "python",
   "pygments_lexer": "ipython3",
   "version": "3.6.6"
  }
 },
 "nbformat": 4,
 "nbformat_minor": 2
}
