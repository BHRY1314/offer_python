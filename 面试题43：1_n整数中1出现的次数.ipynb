{
 "cells": [
  {
   "cell_type": "markdown",
   "metadata": {},
   "source": [
    "# 题目\n",
    "\n",
    "### 输入一个整数，求1\\~n这n个整数的十进制表示中1出现的次数。例如，输入12,1~12这些整数中包含1的数字有1、10、11和12,1一共出现了5次。"
   ]
  },
  {
   "cell_type": "code",
   "execution_count": null,
   "metadata": {},
   "outputs": [],
   "source": [
    "'''\n",
    "思路：\n",
    "\n",
    "我们用一个稍微大一点的数字如21345来寻找规律。我们把1~21345的所有数字分为两段，一段是1~1345，另一端是1246~21345\n",
    "\n",
    "我们先看1346~21345中1出现的次数。1的出现分为两种情况。首先分析1出现在最高位（本例是万位）的情况。在1346~21345的数字中，1出现在10000~19999这10000个数字的万位中，一共出现了10000次。\n",
    "\n",
    "值的注意的是，并不是对所有5位数而言在万位出现的次数都是10000簇，对于万位是1的数字如输入12345,1只出现在10000~12345的万位，出现的次数不是10000次，而是2345次，也就是除去最高数字之后剩下的数字再加上1（12345-10000+1=2346次）\n",
    "\n",
    "接下来分析1出现在除最高位之外的其他4位数中的情况。例子中1346~21345这20000个数字中后4位中1出现的次数是8000次。由于最高位是2，我们可以再把1346~21345分为两段：1346~11345和11346~21345.每一段剩下的4位数字中，选择其中一位是1，其余三位可以在0~9这10个数字中任意选择，因此根据排列组合原则，总共出现的次数是2*4*10^3=8000次。\n",
    "\n",
    "至于在1~1345中1出现的次数，我们就可以用递归求得了。这也是我们为什么要把1~21345分为1~1345和1346~21345两段的原因。因为把21345的最高位去掉就变成1345，便于我们采用递归的思路(为了编程方便，我们先把数字转换成字符串)\n",
    "'''\n",
    "# def PowerBase10(n):\n",
    "#     result=1\n",
    "#     for i in range(n):\n",
    "#         return*=10\n",
    "#     return result\n",
    "# i=0\n",
    "# def NumberOf1(strN):\n",
    "#     if not strN or strN[0]<'0' or strN[0]>'9':\n",
    "#         return 0\n",
    "#     first=int(strN[0]-'0')\n",
    "#     l=len(strN)\n",
    "#     if l==1 and first==0:\n",
    "#         return 0\n",
    "#     if l==1 and first>0:\n",
    "#         return 1\n",
    "#     #假设strN是'21345'\n",
    "#     #numberFirstDigit是数字，10000~19999的第一位中的数目\n",
    "#     numFirstDigit=0\n",
    "#     if first>1:\n",
    "#         numberFirstDigit=PowerBase10(l-1)\n",
    "#     elif first==1:\n",
    "#         numberFirst=int(str[i+i:])+1\n",
    "#     #numberOtherDigit是1346~21345除第一位之外的数位中的数目\n",
    "#     numOtherDigits=first*(l-1)*PowerBase10(l-2)\n",
    "#     #numberRecursive是1~1345中的数目\n",
    "#     numRecursive=NumberOf1(str[i+1:])\n",
    "    \n",
    "#     return numFirstDigit+numOtherDigits+numRecursive\n",
    "\n",
    "# def NumberOf1Between1AndN(n):\n",
    "#     if n<=0:\n",
    "#         return 0\n",
    "#     strN=str(n)\n",
    "#     return NumberOf1(strN)"
   ]
  },
  {
   "cell_type": "code",
   "execution_count": null,
   "metadata": {},
   "outputs": [],
   "source": [
    "'''\n",
    "更简洁的解法\n",
    "'''\n",
    "def NumberOf1Between1AndN(n):\n",
    "    count=0\n",
    "    nums=n\n",
    "    base=1\n",
    "    while nums:\n",
    "        last=nums%10\n",
    "        nums=nums/10\n",
    "        count+=nums*last\n",
    "        if last==1:\n",
    "            count+=n%base+1\n",
    "        elif last>1:\n",
    "            count+=base\n",
    "        base*=10\n",
    "    return count"
   ]
  },
  {
   "cell_type": "code",
   "execution_count": null,
   "metadata": {},
   "outputs": [],
   "source": [
    "'''\n",
    "Python取巧的方法\n",
    "'''\n",
    "def NumberOf1Between1AndN(n):\n",
    "    if n<0:\n",
    "        return 0\n",
    "    return ''.join([str(i) for i in range(1, n+1)]).count('1')"
   ]
  }
 ],
 "metadata": {
  "kernelspec": {
   "display_name": "Python 3",
   "language": "python",
   "name": "python3"
  },
  "language_info": {
   "codemirror_mode": {
    "name": "ipython",
    "version": 3
   },
   "file_extension": ".py",
   "mimetype": "text/x-python",
   "name": "python",
   "nbconvert_exporter": "python",
   "pygments_lexer": "ipython3",
   "version": "3.6.6"
  }
 },
 "nbformat": 4,
 "nbformat_minor": 2
}
