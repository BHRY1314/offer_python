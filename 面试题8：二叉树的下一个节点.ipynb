{
 "cells": [
  {
   "cell_type": "code",
   "execution_count": 1,
   "metadata": {},
   "outputs": [],
   "source": [
    " class TreeNode:\n",
    "    def __init__(self, x):\n",
    "        self.val = x\n",
    "        self.left = None\n",
    "        self.right = None\n",
    "        self.parent = None"
   ]
  },
  {
   "cell_type": "markdown",
   "metadata": {},
   "source": [
    "# 题目\n",
    "#### 给定一棵二叉树和其中的一个节点，如何找出中序遍历序列的下一个节点？书中的节点除了有两个分别指向左，右子节点的指针，还有一个指向父节点的指针"
   ]
  },
  {
   "cell_type": "code",
   "execution_count": null,
   "metadata": {},
   "outputs": [],
   "source": [
    "'''\n",
    "思路：\n",
    "如果一个节点有右子树，那么它的下一个节点就是它的右子树中的最左子节点。也就是说，从右子\n",
    "节点出发一直沿着指向左子节点的指针，我们就能找到它的下一个节点。接着我们分析一个节点没\n",
    "有右子树的情形。如果节点是它父节点的左子节点，那么它的下一个节点就是它的父节点。如果一\n",
    "个节点既没有右子树，而且它还是它父节点的右子节点，那么这种情形就比较复杂。我们可以沿着\n",
    "指向父节点的指针一直向上遍历，知道找到一个是它父节点的左子节点的节点。如果这样的节点存\n",
    "在，那么这个节点的父节点就是我们要找的下一个节点\n",
    "'''\n",
    "def GetNext(pNode:TreeNode):\n",
    "    '''\n",
    "    根据书中的C++代码改写\n",
    "    '''\n",
    "    if not pnode:\n",
    "        return None\n",
    "    pNext=None\n",
    "    if pNode.right!=None:\n",
    "        pNode=pNode.right\n",
    "        while pNode.left!=None:\n",
    "            pNode=pNode.left\n",
    "        return pNode\n",
    "    else:\n",
    "        while pNode.parent!=None:\n",
    "            if pNode==pNode.parent.left:\n",
    "                return pNode.parent\n",
    "            pNode=pNode.parent\n",
    "    return None"
   ]
  }
 ],
 "metadata": {
  "kernelspec": {
   "display_name": "Python 3",
   "language": "python",
   "name": "python3"
  },
  "language_info": {
   "codemirror_mode": {
    "name": "ipython",
    "version": 3
   },
   "file_extension": ".py",
   "mimetype": "text/x-python",
   "name": "python",
   "nbconvert_exporter": "python",
   "pygments_lexer": "ipython3",
   "version": "3.6.6"
  }
 },
 "nbformat": 4,
 "nbformat_minor": 2
}
