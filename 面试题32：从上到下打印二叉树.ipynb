{
 "cells": [
  {
   "cell_type": "markdown",
   "metadata": {},
   "source": [
    "# 题目一：不分行从上到下打印二叉树\n",
    "\n",
    "### 从上到下打印出二叉树的每个节点，同一层的节点按照从左到右的顺序打印。"
   ]
  },
  {
   "cell_type": "code",
   "execution_count": null,
   "metadata": {},
   "outputs": [],
   "source": [
    "'''\n",
    "思路：\n",
    "\n",
    "从上到下打印二叉树的规律：每次打印一个节点的时候，如果该节点有子节点，则把该节点的子节点放到一个队列的末尾。接下来到队列的头部取出最早进入队列的节点，重复前面的打印操作，直至队列中所有的节点都被打印出来\n",
    "'''\n",
    "def PrintTree(pRoot):\n",
    "    if not pRoot:\n",
    "        return []\n",
    "    res=[]\n",
    "    roots=[pRoot]\n",
    "    while roots:\n",
    "        node=roots.pop(0)\n",
    "        res.append(node.val)\n",
    "        if node.left:\n",
    "            roots.append(node.left)\n",
    "        if node.right:\n",
    "            roots.append(node.right)\n",
    "    return res\n",
    "        "
   ]
  },
  {
   "cell_type": "markdown",
   "metadata": {},
   "source": [
    "# 题目二：分行从上到下打印二叉树\n",
    "\n",
    "### 从上到下按层打印二叉树，同一层的节点按从左到右的顺序打印，每一层打印到一行。"
   ]
  },
  {
   "cell_type": "code",
   "execution_count": null,
   "metadata": {},
   "outputs": [],
   "source": [
    "'''\n",
    "思路：\n",
    "\n",
    "这道题和之前的类似，也可以用一个队列来保存将要打印的节点。为了把二叉树的每一行单独打印到一行里，我们需要两个变量，一个变量表示在当前层中还没有打印的节点数；另一个变量表示下一层节点的数目\n",
    "'''\n",
    "def Print(pRoot):\n",
    "    if not pRoot:\n",
    "        return None\n",
    "    res=[] #存储结果\n",
    "    roots=[pRoot] #存储结点的队列\n",
    "    temp=[] #用来存储每一行的值\n",
    "    nextLevel=0\n",
    "    toBePrinted=1\n",
    "    while roots:\n",
    "        node=roots.pop(0)\n",
    "        temp.append(node.val)\n",
    "        print(\"%d\"%node.val)\n",
    "        if node.left:\n",
    "            roots.append(node.left)\n",
    "            nextLevel+=1\n",
    "        if node.right:\n",
    "            roots.append(node.right)\n",
    "            nextLevel+=1\n",
    "        node.pop()\n",
    "        toBePrinted-=0\n",
    "        if toBePrinted==0:\n",
    "            res.append(temp)\n",
    "            temp=[]\n",
    "            print(\"\\n\")\n",
    "            toBePrinted=nextLevel\n",
    "            nextLevel=0"
   ]
  },
  {
   "cell_type": "markdown",
   "metadata": {},
   "source": [
    "# 题目三：之字形打印二叉树\n",
    "\n",
    "### 请实现一个函数按照之字形顺序打印二叉树，即第一行按照从左到右的顺序打印，第二层按照从右到左的顺序打印，第三行再按照从左到右的顺序打印，其他行以此类推"
   ]
  },
  {
   "cell_type": "code",
   "execution_count": null,
   "metadata": {},
   "outputs": [],
   "source": [
    "'''\n",
    "思路：\n",
    "\n",
    "按之字形打印二叉树需要两个栈。我们在打印某一层的节点时，把下一层的子节点保存到相应的栈里。如果当前打印的是奇数层（第一层，第三层等），则先保存左子节点再保存右子节点到第一个栈里；如果当前打印的是偶数层（第二层、第四层等），则先保存右子节点再保存左子节点到第二个栈里(其实简单点说，只要在上一题的代码上加上是向左打印还是向右打印的判断就可以了，若向右打印则直接逆转打印序列即可)\n",
    "'''\n",
    "def  PrintInZ(pRoot):\n",
    "    if not pRoot:\n",
    "        return None\n",
    "    flag=True\n",
    "    res=[] #存储结果\n",
    "    roots=[pRoot] #存储结点的队列\n",
    "    temp=[] #用来存储每一行的值\n",
    "    nextLevel=0\n",
    "    toBePrinted=1\n",
    "    while roots:\n",
    "        node=roots.pop(0)\n",
    "        temp.append(node.val)\n",
    "        print(\"%d\"%node.val)\n",
    "        if node.left:\n",
    "            roots.append(node.left)\n",
    "            nextLevel+=1\n",
    "        if node.right:\n",
    "            roots.append(node.right)\n",
    "            nextLevel+=1\n",
    "        node.pop()\n",
    "        toBePrinted-=0\n",
    "        if toBePrinted==0:\n",
    "            if flag: ##奇数行，正序打印\n",
    "                res.append(temp)\n",
    "                flag=False  ##下一行一定是偶数行，逆序打印\n",
    "            else:   ##偶数行，逆序打印\n",
    "                res.append(temp[::-1])\n",
    "                flag=True ##下一行一定是奇数行，正序打印\n",
    "            temp=[]\n",
    "            print(\"\\n\")\n",
    "            toBePrinted=nextLevel\n",
    "            nextLevel=0\n",
    "        "
   ]
  }
 ],
 "metadata": {
  "kernelspec": {
   "display_name": "Python 3",
   "language": "python",
   "name": "python3"
  },
  "language_info": {
   "codemirror_mode": {
    "name": "ipython",
    "version": 3
   },
   "file_extension": ".py",
   "mimetype": "text/x-python",
   "name": "python",
   "nbconvert_exporter": "python",
   "pygments_lexer": "ipython3",
   "version": "3.6.6"
  }
 },
 "nbformat": 4,
 "nbformat_minor": 2
}
