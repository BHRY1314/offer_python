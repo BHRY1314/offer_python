{
 "cells": [
  {
   "cell_type": "markdown",
   "metadata": {},
   "source": [
    "# 题目\n",
    "\n",
    "### 实现函数double Power(double base,int exponent),求base的exponent次方。不得使用库函数，同时不需要考虑大数问题"
   ]
  },
  {
   "cell_type": "code",
   "execution_count": 22,
   "metadata": {},
   "outputs": [
    {
     "data": {
      "text/plain": [
       "2147483648.0"
      ]
     },
     "execution_count": 22,
     "metadata": {},
     "output_type": "execute_result"
    }
   ],
   "source": [
    "import math\n",
    "'''\n",
    "全面但不够高效的解法\n",
    "'''\n",
    "g_InvalidInput=False\n",
    "\n",
    "def PowerWithUnsignedExponent(base,exponent):\n",
    "    result=1.0\n",
    "    for i in range(exponent):\n",
    "        result*=base\n",
    "    return result\n",
    "\n",
    "def Power(base,exponent):\n",
    "    '''\n",
    "    根据书中C++代码改写\n",
    "    '''\n",
    "    g_InvalidInput=False\n",
    "    if math.isclose(base,0.0) and exponent<0:\n",
    "        g_InvalidInput=True\n",
    "        return 0.0\n",
    "    absexponent=abs(exponent)\n",
    "    result=PowerWithUnsignedExponent(base,absexponent)\n",
    "    if exponent<0:\n",
    "        result=1.0/result\n",
    "    return result\n",
    "\n",
    "Power(2,31)"
   ]
  },
  {
   "cell_type": "markdown",
   "metadata": {},
   "source": [
    "###### 既全面又高效的解法\n",
    "\n",
    "###### 这个解法会用到下面的公式\n",
    "\n",
    "$$a^{n}=\\left\\{\\begin{matrix}\n",
    "a^{n/2}*a^{n/2} & n=2,4,6,8,10,..... \\\\ \n",
    "a^{(n-1)/2}*a^{(n-1)/2}*a & n=1,3,5,7,9,.... \n",
    "\\end{matrix}\\right.$$"
   ]
  },
  {
   "cell_type": "code",
   "execution_count": 55,
   "metadata": {},
   "outputs": [
    {
     "data": {
      "text/plain": [
       "0"
      ]
     },
     "execution_count": 55,
     "metadata": {},
     "output_type": "execute_result"
    }
   ],
   "source": [
    "def Power(base,exponent):\n",
    "    '''\n",
    "    根据书中C++代码改写\n",
    "    '''\n",
    "    if exponent==0:\n",
    "        return 1\n",
    "    if exponent==1:\n",
    "        return base\n",
    "    absexponent=abs(exponent)\n",
    "    #由于Python中似乎不能直接对负数进行位运算，所以这里加了一点点的修改，先对指数\n",
    "    #进行绝对值处理，然后判断指数是否为负数，为负数的话就取倒数\n",
    "    result=Power(base,absexponent>>1)\n",
    "#     result=Power(base,exponent/2)\n",
    "\n",
    "    result*=result\n",
    "\n",
    "    #用位与运算符代替求余运算符（%）来判断奇偶数\n",
    "    if exponent & 0x1==1:\n",
    "        result*=base\n",
    "\n",
    "    if exponent<0:\n",
    "        result=1.0/result\n",
    "\n",
    "    return result\n",
    "\n",
    "Power(0,9)"
   ]
  },
  {
   "cell_type": "code",
   "execution_count": null,
   "metadata": {},
   "outputs": [],
   "source": []
  }
 ],
 "metadata": {
  "kernelspec": {
   "display_name": "Python 3",
   "language": "python",
   "name": "python3"
  },
  "language_info": {
   "codemirror_mode": {
    "name": "ipython",
    "version": 3
   },
   "file_extension": ".py",
   "mimetype": "text/x-python",
   "name": "python",
   "nbconvert_exporter": "python",
   "pygments_lexer": "ipython3",
   "version": "3.6.6"
  }
 },
 "nbformat": 4,
 "nbformat_minor": 2
}
