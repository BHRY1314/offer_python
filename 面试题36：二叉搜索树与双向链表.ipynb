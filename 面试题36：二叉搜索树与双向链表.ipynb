{
 "cells": [
  {
   "cell_type": "markdown",
   "metadata": {},
   "source": [
    "# 题目\n",
    "\n",
    "### 输入一棵二叉搜索树，将该二叉搜索树转换成一个排序的双向链表。要求不能创建任何新的节点，只能调整书中节点指针的指向。比如，输入图4.15中左边的二叉搜索树，则输出转换之后的排序双向链表\n",
    "![title](tree.png)"
   ]
  },
  {
   "cell_type": "code",
   "execution_count": 1,
   "metadata": {},
   "outputs": [],
   "source": [
    "class TreeNode:\n",
    "    def __init__(self, x):\n",
    "        self.val = x\n",
    "        self.left = None\n",
    "        self.right = None"
   ]
  },
  {
   "cell_type": "markdown",
   "metadata": {},
   "source": [
    "![title](three_part.png)"
   ]
  },
  {
   "cell_type": "code",
   "execution_count": null,
   "metadata": {},
   "outputs": [],
   "source": [
    "'''\n",
    "思路：\n",
    "\n",
    "在搜索二叉树中，左子节点的值总是小于父节点的值，右子节点的值总是大于父节点的值。因此，我们在将二叉搜索树转换成排序双向链表时，原先指向左子节点的指针调整为链表中指向前一个节点的指针，原先指向右子节点的指针调整为链表中指向后一个节点的指针。\n",
    "\n",
    "由于要求转换之后的链表之后的链表时排好序的，我们可以中序遍历书中的每个节点，这是因为中序遍历算法的特点是按照从小到大的顺序遍历二叉树的每个节点。当遍历到根节点的时候，我们把树看做3部分：值为10的节点；根节点为6的左子树；根节点值为14的右子树。根据排序链表的定义，值为10的节点将和它的左子树的最大一个节点（值为8的节点）链接起来，同时它还将和右子树最小的节点（值为12的节点链接起来）,如图4.16所示\n",
    "\n",
    "根据中序遍历的顺序，当我们遍历转换到根节点（值为10的节点）时，它的左子树已经转换成一个排序的链表了，并且处于链表中的最后一个节点是当前值最大的节点。我们把值为8的节点和根节点连接起来。此时链表中的最后一个节点就是10了。接着我们去遍历右子树，并把根节点和右子树中最小的节点链接起来。至于怎么去转换它的左子树和右子树，我们可以使用递归\n",
    "'''\n",
    "# class solution:\n",
    "def ConvertNode(self.pNode,pLastNodeInList):\n",
    "    if not pNode:\n",
    "        return\n",
    "    pCurrent=pNode\n",
    "    if pCurrent.left:\n",
    "        self.ConvertNode(pCurrent.left)\n",
    "    pCurrent.left=self.pLastNodeInList\n",
    "    if self.pLastNodeInList:\n",
    "        self.pLastNodeInList.right=pCurrent\n",
    "    self.pLastNodeInList=pCurrent\n",
    "    if pCurrent.right:\n",
    "        self.ConvertNode(pCurrent.right)\n",
    "\n",
    "def Convert(self,pRootOfTree):\n",
    "    self.pLastNodeInList=None\n",
    "    self.ConvertNode(pRootOfTree)\n",
    "    \n",
    "    #pLastNodeInLast指向双向链表的尾结点\n",
    "    #我们需要返回头节点\n",
    "    pHeadOfLast=self.pLastNodeInList\n",
    "    while pHeadOfLast and pHeadOfList.left:\n",
    "        pHeadOfLast=pHeadOfLast.left\n",
    "    return pHeadOfLast\n",
    "        "
   ]
  },
  {
   "cell_type": "code",
   "execution_count": null,
   "metadata": {},
   "outputs": [],
   "source": [
    "'''\n",
    "纯python的解决方法\n",
    "'''\n",
    "def __init__(self):\n",
    "    self.Head=None\n",
    "    self.Last=None\n",
    "def Convert(self,pRoot):\n",
    "    if not pRoot:\n",
    "        return\n",
    "    #中序遍历左子树\n",
    "    self.Convert(pRoot.left)\n",
    "    \n",
    "    if self.Head==None:\n",
    "        self.Head=pRoot\n",
    "        self.Last=pRoot\n",
    "    else:\n",
    "        self.Last.right=pRoot\n",
    "        pRoot.left=self.Last\n",
    "        self.Last=pRoot\n",
    "    self.Convert(pRoot.left)\n",
    "    return self.Head\n",
    "    "
   ]
  }
 ],
 "metadata": {
  "kernelspec": {
   "display_name": "Python 3",
   "language": "python",
   "name": "python3"
  },
  "language_info": {
   "codemirror_mode": {
    "name": "ipython",
    "version": 3
   },
   "file_extension": ".py",
   "mimetype": "text/x-python",
   "name": "python",
   "nbconvert_exporter": "python",
   "pygments_lexer": "ipython3",
   "version": "3.6.6"
  }
 },
 "nbformat": 4,
 "nbformat_minor": 2
}
