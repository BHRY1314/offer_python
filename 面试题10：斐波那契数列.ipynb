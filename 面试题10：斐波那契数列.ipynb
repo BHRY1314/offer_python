{
 "cells": [
  {
   "cell_type": "markdown",
   "metadata": {},
   "source": [
    "#  题目\n",
    "\n",
    "### 求斐波那契数列的第n项"
   ]
  },
  {
   "cell_type": "markdown",
   "metadata": {},
   "source": [
    "###  斐波那契数列\n",
    "$$ f(n)\\begin{cases}\n",
    " 0& \\text n=0 \\\\ \n",
    " 1& \\text n=1 \\\\ \n",
    " f(n-1)+h(n-2)& \\text n>1 \n",
    "\\end{cases}$$"
   ]
  },
  {
   "cell_type": "code",
   "execution_count": 5,
   "metadata": {},
   "outputs": [
    {
     "data": {
      "text/plain": [
       "55"
      ]
     },
     "execution_count": 5,
     "metadata": {},
     "output_type": "execute_result"
    }
   ],
   "source": [
    "'''\n",
    "最简单的递归形式\n",
    "但是存在严重的效率问题\n",
    "'''\n",
    "def Fibonacci(n):\n",
    "    if n<=0:\n",
    "        return 0\n",
    "    if n==1:\n",
    "        return 1\n",
    "    return Fibonacci(n-1)+Fibonacci(n-2)\n",
    "\n",
    "Fibonacci(10)"
   ]
  },
  {
   "cell_type": "code",
   "execution_count": 6,
   "metadata": {},
   "outputs": [
    {
     "data": {
      "text/plain": [
       "55"
      ]
     },
     "execution_count": 6,
     "metadata": {},
     "output_type": "execute_result"
    }
   ],
   "source": [
    "'''\n",
    "使用循环\n",
    "改进的版本，时间复杂度O(n)\n",
    "'''\n",
    "def Fibonacci1(n):\n",
    "    result=[0,1]\n",
    "    if n<2:\n",
    "        return result[n]\n",
    "    fibNMinusOne=1\n",
    "    fibNMinusTwo=0\n",
    "    finbN=0\n",
    "    for i in range(2,n):\n",
    "        fibN=fibMinusOne+fibMinusTwo\n",
    "        fibMinusTwo=fibMinusOne\n",
    "        fibMinusOne=fibN\n",
    "    return fibN\n",
    "\n",
    "Fibonacci(10)"
   ]
  },
  {
   "cell_type": "markdown",
   "metadata": {},
   "source": [
    " ## 时间复杂度O(logn)但是不实用的解法（了解即可）\n",
    " \n",
    " ### 这种方法需要使用一个数学公式：\n",
    " $$\\begin{bmatrix}\n",
    "f(n) & f(n-1) \\\\ \n",
    "f(n-1) & f(n-1) \n",
    "\\end{bmatrix}\n",
    "=\\begin{bmatrix}\n",
    "1 & 1 \\\\ \n",
    "1 & 0 \n",
    "\\end{bmatrix}^{n-1}$$\n",
    "### 我们只需求解得这个$$\\begin{bmatrix}\n",
    "1 & 1 \\\\ \n",
    "1 & 0 \n",
    "\\end{bmatrix}^{n-1}$$ \n",
    "### 就可以得到f(n),现在的问题转换为如何求矩阵的乘方。如果只是简单地从0开始循环，n次方需要n次运算，则时间复杂度任然是O(n),并不比前面的方法块。但我们可以考虑乘方的以下性质\n",
    "\n",
    "$$a^{n}=\\begin{cases}\n",
    "a^{n/2}*a^{n/2} & \\text n=2,4,6,8,... \\\\ \n",
    "a^{(n-1)/2}*a^{(n-1)/2}*a & \\text n=1,3,5,7,...\n",
    "\\end{cases}$$\n",
    "\n",
    "### 从这个公式我们可以看出，想要求得n次方，就要先求的n/2次方，再把n/2次方的结果平方一下即可，这可以用递归的思路实现"
   ]
  },
  {
   "cell_type": "markdown",
   "metadata": {},
   "source": [
    "\n",
    "### ---------------------------------------------------------------------------------------\n",
    "\n",
    "#  题目2：青蛙跳台阶问题\n",
    "\n",
    "### 一只青蛙一次可以跳上1级台阶，也可以跳上2级台阶，求该青蛙跳上一个n级的台阶总共有多少种跳法\n"
   ]
  },
  {
   "cell_type": "code",
   "execution_count": 7,
   "metadata": {},
   "outputs": [
    {
     "data": {
      "text/plain": [
       "'\\n实际就是斐波那契数列的计算，代码可以参考上面的例子\\n'"
      ]
     },
     "execution_count": 7,
     "metadata": {},
     "output_type": "execute_result"
    }
   ],
   "source": [
    "'''\n",
    "实际就是斐波那契数列的计算，代码可以参考上面的例子\n",
    "'''\n",
    "def Fibonacci1(n):\n",
    "    result=[0,1]\n",
    "    if n<2:\n",
    "        return result[n]\n",
    "    fibNMinusOne=1\n",
    "    fibNMinusTwo=0\n",
    "    finbN=0\n",
    "    for i in range(2,n):\n",
    "        fibN=fibMinusOne+fibMinusTwo\n",
    "        fibMinusTwo=fibMinusOne\n",
    "        fibMinusOne=fibN\n",
    "    return fibN\n",
    "\n",
    "Fibonacci(10)"
   ]
  }
 ],
 "metadata": {
  "kernelspec": {
   "display_name": "Python 3",
   "language": "python",
   "name": "python3"
  },
  "language_info": {
   "codemirror_mode": {
    "name": "ipython",
    "version": 3
   },
   "file_extension": ".py",
   "mimetype": "text/x-python",
   "name": "python",
   "nbconvert_exporter": "python",
   "pygments_lexer": "ipython3",
   "version": "3.6.6"
  }
 },
 "nbformat": 4,
 "nbformat_minor": 2
}
