{
 "cells": [
  {
   "cell_type": "markdown",
   "metadata": {},
   "source": [
    "# 题目一：数字在排序数组中出现的次数\n",
    "\n",
    "### 统计一个数字在排序数组中出现的次数。例如，输入排序数组{1,2,3,3,3,3,4,5}和数字3，由于3在这个数组中出现了4次，因此输出4"
   ]
  },
  {
   "cell_type": "code",
   "execution_count": null,
   "metadata": {},
   "outputs": [],
   "source": [
    "'''\n",
    "思路：\n",
    "\n",
    "根据排序树组的特性，我们可以用二分查找算法来寻找。我们先分析如何用二分查找算法在数组中找到第一个k(需要寻找的数字)。二分查找算法总是先拿数组中间的数字和k作比较。如果中间的数字比k大，那么k只有可能出现在数组的前半段，下一轮我们只在数组的前半段查找就可以了。如果中间的数字比k小，那么k只有可能出现在数组的后半段，下一轮我们只在数组的后半段查找就可以了。如果中间的数字和k相等呢？我们先判断这个数字是不是第一个k。如果中间的数字的前面一个数字不是k,那么此时中间的数字刚好就是第一个k。如果中间数字的前面一个数字也是k,那么第一个k肯定在数组的前半段，下一轮我们仍然需要在数组的前半段查找。\n",
    "\n",
    "以下的代码用递归的思路找到排序数组中的第一个k\n",
    "'''\n",
    "def GetFirstK(data,length,k,start,end):\n",
    "    if start>end:\n",
    "        return -1\n",
    "    middleIndex=(start+end)/2\n",
    "    middleData=data[middleIndex]\n",
    "    if middleData==k:\n",
    "        if (middleIndex>0 and data[middleIndex-1]!=k) or middleIndex==0:\n",
    "            return middleIndex\n",
    "        else:\n",
    "            end=middleIndex-1\n",
    "    elif middleData>k:\n",
    "        end=middleIndex-1\n",
    "    else:\n",
    "        start=middleIndex+1\n",
    "    return GetFirstK(data,length,k,start,end)\n",
    "'''\n",
    "我们可以用同样的思路在排序数组中找到最后一个k。如果中间数字比k大，那么k只能出现在数组的前半段。如果中间数字比k小，那么k只能出现在数组的后半段。如果中间数字等于k呢？我们需要判断这个k是不是最后一个k,也就是中间数字的下一个数字是不是也是k。如果下一个数字不是k，则中间数字就是最后一个k,否则下一轮我们还是要在数组的后半段中去查找。\n",
    "'''\n",
    "def GetLastK(data,length,k,start,end):\n",
    "    if start>end:\n",
    "        return -1\n",
    "    middleIndex=(start+end)/2\n",
    "    middleData=data[middleIndex]\n",
    "    if middleData==k:\n",
    "        if (middleIndex<length-1 and data[middleIndex+1]!=k) or middleIndex==length-1:\n",
    "            return middleIndex\n",
    "        else:\n",
    "            start=middleIndex+1\n",
    "    elif middleData<k:\n",
    "        start=middleIndex+1\n",
    "    else:\n",
    "        end=middleIndex-1\n",
    "    return GetLastK(data,length,k,start,end)\n",
    "'''\n",
    "在分别找到第一个k和最后一个k的下标之后，我们就能计算出k在数组中出现的次数\n",
    "'''\n",
    "def GetNumbersOfK(data,k):\n",
    "    number=0\n",
    "    length=len(data)\n",
    "    if data:\n",
    "        first=GetFirstK(data,length,k,0,length-1)\n",
    "        last=GetLastK(data,length,k,0,length-1)\n",
    "        if first>-1 and last>-1:\n",
    "            number=last-first+1\n",
    "    return number"
   ]
  },
  {
   "cell_type": "code",
   "execution_count": null,
   "metadata": {},
   "outputs": [],
   "source": [
    "'''\n",
    "Python的一行代码\n",
    "'''\n",
    "def GetNumbersOfK(data,k):\n",
    "    return data.count(k)"
   ]
  },
  {
   "cell_type": "code",
   "execution_count": null,
   "metadata": {},
   "outputs": [],
   "source": [
    "'''\n",
    "另一种思路，运用双指针\n",
    "'''\n",
    "def GetNumberOfK(data, k):\n",
    "    if len(data)==1:\n",
    "        return 1 if data[0]==k else 0\n",
    "    left=0\n",
    "    right=len(data)-1\n",
    "    while left<right:\n",
    "        if data[left]!=k:\n",
    "            left+=1\n",
    "        if data[right]!=k:\n",
    "            right-=1\n",
    "        if data[right]==k and data[left]==k:\n",
    "            return right-left+1\n",
    "    return 0"
   ]
  },
  {
   "cell_type": "markdown",
   "metadata": {},
   "source": [
    "# 题目二：0~n-1中缺失的数字\n",
    "\n",
    "### 一个长度n-1的递增排序数组中的所有数字都是唯一的，并且每个数字都在范围0\\~n-1之内。在范围0\\~n-1内的n个数字中有且只有一个数字不在该数组中，请找出这个数字"
   ]
  },
  {
   "cell_type": "code",
   "execution_count": null,
   "metadata": {},
   "outputs": [],
   "source": [
    "'''\n",
    "最简单的方法：\n",
    "\n",
    "我们可以先用公式n(n-1)/2求出数字0~n-1的所有数字之和，记为s1，接着求出数组中所有数字的和，记为s2，那个不在数组中的数字就是s1-s2的差。这种解法需要O（n）的时间求数组中所有数字的和。缺点是时间复杂度过大\n",
    "\n",
    "比较好的思路：\n",
    "\n",
    "因为0~n-1这些数字在数组中是排序的，因此数组中开始的一些数字与它们的下标相同。也就是说，0在下标为0的位置，1在下标为1的位置，以此类推。如果不在数组中的那个数字记为m,那么所有比m小的数字的下标都与它们的值相同。\n",
    "\n",
    "由于m不在数组中，那么m+1处于下标为m的位置，m+2处于下标为m+1的位置，以此类推。我们发现m正好是数组中第一个数值和下标不相等的下标，因此这个问题转换成在排序数组中找出第一个值和下标不相等的元素。\n",
    "\n",
    "我们可以基于二分查找的算法用如下过程查找：如果中间元素的值和下标相等，那么下一轮查找只需要查找右半边：如果中间元素的值和下标不相等，并且它前面一个元素和它的下标相等，这意味着这个中间的数字正好是第一个值和下标不相等的元素，它的下标就是在数组中不存的数字；如果中间元素的值和下标不相等，并且它前面一个元素和它的下标不相等，这意味着下一轮查找我们只需要在左半边查找即可\n",
    "'''\n",
    "def GetMissingNumber(numbers):\n",
    "    if not numbers:\n",
    "        return -1\n",
    "    length=len(nums)\n",
    "    left=0\n",
    "    right=length-1\n",
    "    while left<=right:\n",
    "        middle=(right+left)>>1\n",
    "        if numbers[middle]!=middle:\n",
    "            if middle==0 or numbers[middle-1]==middle-1:\n",
    "                return middle\n",
    "            right=middle-1\n",
    "        else:\n",
    "            left=middle+1\n",
    "    if left==length:\n",
    "        return length\n",
    "    return -1"
   ]
  },
  {
   "cell_type": "markdown",
   "metadata": {},
   "source": [
    "# 题目三：数组中数值和下标相等的元素\n",
    "\n",
    "### 假设一个单调递增的数组里的每个元素都是整数并且是唯一的。请编程实现一个函数，找出数组中任意一个数值等于其下标的元素。例如，在数组{-3，-1,1,3,5}中，数字3和它的下标相等\n"
   ]
  },
  {
   "cell_type": "code",
   "execution_count": null,
   "metadata": {},
   "outputs": [],
   "source": [
    "'''\n",
    "思路：\n",
    "\n",
    "由于数组是单调递增排序的，因此我们可以尝试用二叉查找算法来进行。假设我们某一步抵达数组中的第i个数字。如果我们很幸运，该数字的值刚好也是i，那么我们就找到了一个数字和其下标相等\n",
    "\n",
    "那么当数字的值和下标不相等的时候，假设数字的值为m,我们先考虑m大于i的情形，即数字的值大于它的下标，由于数组中的所有数字都唯一并且单调递增，那么对于任意大于0的k,位于下标i+k的数字的值大于或等于m+k。另外，因为m>i，所以m+k>i+k。因此，位于下标i+k的数字的值一定大于它的下标。这意味着如果第i个数字的值大于i,那么它右边的数字都大于对应的下标，我们都可以忽略。下一轮查找我们只需要从它左边的数字中查找即可\n",
    "\n",
    "数字的值m小于它的下标i的情形和上面类似。它左边的所有数字的值都小于对应的下标，我们也可以忽略\n",
    "'''\n",
    "def GetNumberSameAsIndex(numbers):\n",
    "    if not numbers:\n",
    "        return -1\n",
    "    left=0\n",
    "    right=len(numbers)-1\n",
    "    while left<=right:\n",
    "        middle=left+((right-left)>>1)\n",
    "        if numbers[middle]==middle:\n",
    "            return middle\n",
    "        if numbers[middle]>middle:\n",
    "            right=middle-1\n",
    "        else:\n",
    "            left=middle+1\n",
    "    return -1"
   ]
  }
 ],
 "metadata": {
  "kernelspec": {
   "display_name": "Python 3",
   "language": "python",
   "name": "python3"
  },
  "language_info": {
   "codemirror_mode": {
    "name": "ipython",
    "version": 3
   },
   "file_extension": ".py",
   "mimetype": "text/x-python",
   "name": "python",
   "nbconvert_exporter": "python",
   "pygments_lexer": "ipython3",
   "version": "3.6.6"
  }
 },
 "nbformat": 4,
 "nbformat_minor": 2
}
