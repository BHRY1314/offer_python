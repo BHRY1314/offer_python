{
 "cells": [
  {
   "cell_type": "markdown",
   "metadata": {},
   "source": [
    "# 题目\n",
    "\n",
    "### 给定一棵二叉搜索树，请找出其中第k大的节点。例如，在图6.1中的二叉搜索树里，按节点数值大小顺序，第三大节点的值是4\n",
    "![title](6_1.png)"
   ]
  },
  {
   "cell_type": "code",
   "execution_count": 1,
   "metadata": {},
   "outputs": [],
   "source": [
    "class TreeNode:\n",
    "    def __init__(self, x):\n",
    "        self.val = x\n",
    "        self.left = None\n",
    "        self.right = None"
   ]
  },
  {
   "cell_type": "code",
   "execution_count": null,
   "metadata": {},
   "outputs": [],
   "source": [
    "'''\n",
    "思路：\n",
    "\n",
    "如果按照中序遍历的顺序遍历一棵二叉搜索树，则遍历序列的数值是递增排序的。例如，图6.1中二叉搜索树的中序遍历序列是{2,3,4,5,6,7,8}。因此，只需要用中序遍历算法遍历一棵二叉搜索树，我们就很容易找出它的第k大节点。\n",
    "'''\n",
    "def KthNodeCore(pRoot,k):\n",
    "    target=TreeNode(None)\n",
    "    if pRoot.left:\n",
    "        target=KthNodeCore(pRoot.left,k)\n",
    "    if not target:\n",
    "        if k==1:\n",
    "            target=pRoot\n",
    "        k-=1\n",
    "    if not target and pRoot.right:\n",
    "        target=KthNodeCore(pRoot.right,k)\n",
    "    return target\n",
    "\n",
    "def KthNode(pRoot,k):\n",
    "    if not pRoot or k==0:\n",
    "        return None\n",
    "    return KthNodeCore(pRoot,k)"
   ]
  },
  {
   "cell_type": "code",
   "execution_count": null,
   "metadata": {},
   "outputs": [],
   "source": [
    "'''\n",
    "另一种思路：\n",
    "\n",
    "存成数组，然后从数组中找\n",
    "'''\n",
    "def dfs(self,root,res):\n",
    "    if not root:\n",
    "        return None\n",
    "    dfs(root.left)\n",
    "    res.append(root)\n",
    "    dfs(root.right)\n",
    "    return res\n",
    "def kthNode(pRoot, k):\n",
    "    res=[]\n",
    "    dfs(pRoot,res)\n",
    "    return res[-k] if 0<k<=len(res) else None\n"
   ]
  }
 ],
 "metadata": {
  "kernelspec": {
   "display_name": "Python 3",
   "language": "python",
   "name": "python3"
  },
  "language_info": {
   "codemirror_mode": {
    "name": "ipython",
    "version": 3
   },
   "file_extension": ".py",
   "mimetype": "text/x-python",
   "name": "python",
   "nbconvert_exporter": "python",
   "pygments_lexer": "ipython3",
   "version": "3.6.6"
  }
 },
 "nbformat": 4,
 "nbformat_minor": 2
}
