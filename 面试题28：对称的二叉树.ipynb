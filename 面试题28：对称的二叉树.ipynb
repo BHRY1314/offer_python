{
 "cells": [
  {
   "cell_type": "markdown",
   "metadata": {},
   "source": [
    "# 题目\n",
    "\n",
    "### 请实现一个函数，用来判断一棵二叉树是不是对称的。如果一棵二叉树和它的镜像一样，那么它是对称的。"
   ]
  },
  {
   "cell_type": "code",
   "execution_count": 1,
   "metadata": {},
   "outputs": [],
   "source": [
    "class TreeNode:\n",
    "    def __init__(self, x):\n",
    "        self.val = x\n",
    "        self.left = None\n",
    "        self.right = None"
   ]
  },
  {
   "cell_type": "code",
   "execution_count": null,
   "metadata": {},
   "outputs": [],
   "source": [
    "'''\n",
    "思路：\n",
    "\n",
    "二叉树有三种遍历算法，即前序遍历、中序遍历和后序遍历。我们可以针对前序遍历定义一种对称的便利算法，即先遍历父节点，再遍历它的左子节点。如果这两种序列一样，则认为二叉树是对称的。（在遍历时同时记录为空的结点）\n",
    "'''\n",
    "def isSame(root1,root2):\n",
    "    if not root1 and not root2:\n",
    "        return True\n",
    "    if not root1 or not root2:\n",
    "        return False\n",
    "    if root1.val!=root2.val:\n",
    "        return False\n",
    "    return isSame(root1.left,root2.right) and isSame(root1.right,root2.left)\n",
    "\n",
    "def isSymmerical(root):\n",
    "    return isSame(root,root)"
   ]
  }
 ],
 "metadata": {
  "kernelspec": {
   "display_name": "Python 3",
   "language": "python",
   "name": "python3"
  },
  "language_info": {
   "codemirror_mode": {
    "name": "ipython",
    "version": 3
   },
   "file_extension": ".py",
   "mimetype": "text/x-python",
   "name": "python",
   "nbconvert_exporter": "python",
   "pygments_lexer": "ipython3",
   "version": "3.6.6"
  }
 },
 "nbformat": 4,
 "nbformat_minor": 2
}
