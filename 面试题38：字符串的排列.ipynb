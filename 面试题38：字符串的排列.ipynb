{
 "cells": [
  {
   "cell_type": "markdown",
   "metadata": {},
   "source": [
    "# 题目\n",
    "\n",
    "### 输入一个字符串，打印出该字符串中字符的所有排列。例如，输入字符串，则打印出有字符a,b,c所能排列出来的所有字符串abc、acb、bac、bca、cab和cba"
   ]
  },
  {
   "cell_type": "code",
   "execution_count": null,
   "metadata": {},
   "outputs": [],
   "source": [
    "'''\n",
    "思路：\n",
    "\n",
    "我们求整个字符串的排列，可以看成两步。第一步求所有可能出现在第一个位置的字符，即把第一个字符和后面所有的字符交换。第二步固定第一个字符，求后面所有字符的排列。这时候我们仍把后面的所有字符分成两部分：后面字符的第一个字符，以及这个字符之后的所有字符。然后把第一个字符逐一和它后面的字符交换。这其实是典型的递归思路\n",
    "'''\n",
    "# 由于原题使用了指针来传递，在Python中不知道怎么弄，所以没有用这种方法\n",
    "# def PermutationCore(pStr,pBegin):\n",
    "#     if not pBegin:\n",
    "#         print(\"%s\"%pStr)\n",
    "#     else:\n",
    "#         j=0\n",
    "#         for i in pBegin:\n",
    "#             temp=i\n",
    "#             i=pBegin[j]\n",
    "#             pBegin[j]=temp\n",
    "            \n",
    "#             PermutationCore(pStr,pBegin[j+1:])\n",
    "            \n",
    "#             temp=i\n",
    "#             i=pBegin[j]\n",
    "#             pBegin[j]=temp\n",
    "            \n",
    "#             j+=1\n",
    "\n",
    "# def Permutation(pStr):\n",
    "#     if not pStr:\n",
    "#         return None\n",
    "    \n",
    "#     PermutationCore(pStr,pStr)\n",
    "            "
   ]
  },
  {
   "cell_type": "code",
   "execution_count": null,
   "metadata": {},
   "outputs": [],
   "source": [
    "'''\n",
    "纯Python的解法\n",
    "'''\n",
    "import itertools\n",
    "def Permutation(s):\n",
    "    if not s:\n",
    "        return []\n",
    "    result=[]\n",
    "    res=itertools.permutations(s)\n",
    "    for i in res:\n",
    "        if \"\".join(i) not in result:\n",
    "            result.append(\"\".join(i))\n",
    "    return result"
   ]
  },
  {
   "cell_type": "code",
   "execution_count": null,
   "metadata": {},
   "outputs": [],
   "source": [
    "'''\n",
    "递归解法\n",
    "'''\n",
    "def Permutation(s):\n",
    "    if len(s)<=1:\n",
    "        return s\n",
    "    res=set()\n",
    "    for i in range(s):\n",
    "        for j in Permutation(s[:i]+s[i+1:]):\n",
    "            res.add(s[i]+j)\n",
    "    return sorted(res)"
   ]
  }
 ],
 "metadata": {
  "kernelspec": {
   "display_name": "Python 3",
   "language": "python",
   "name": "python3"
  },
  "language_info": {
   "codemirror_mode": {
    "name": "ipython",
    "version": 3
   },
   "file_extension": ".py",
   "mimetype": "text/x-python",
   "name": "python",
   "nbconvert_exporter": "python",
   "pygments_lexer": "ipython3",
   "version": "3.6.6"
  }
 },
 "nbformat": 4,
 "nbformat_minor": 2
}
