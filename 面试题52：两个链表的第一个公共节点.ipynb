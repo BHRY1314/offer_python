{
 "cells": [
  {
   "cell_type": "markdown",
   "metadata": {},
   "source": [
    "# 题目\n",
    "\n",
    "### 输入两个链表，找出它们的第一个公共节点"
   ]
  },
  {
   "cell_type": "code",
   "execution_count": 1,
   "metadata": {},
   "outputs": [],
   "source": [
    "class ListNode:\n",
    "    def __init__(self, x):\n",
    "        self.val = x\n",
    "        self.next = None"
   ]
  },
  {
   "cell_type": "markdown",
   "metadata": {},
   "source": [
    "###### 从链表节点的定义可以看出，这两个链表是单向链表。如果两个单向链表有公共的节点，那么这两个链表从某一节点开始，它们的next都指向同一个节点。但由于是单向链表的节点，每个节点只有一个next，因此从第一个公共节点开始，之后它们所有的节点都是重合的，不可能再出现分叉。所以两个有公共节点而部分重合的链表，其拓扑形状看起来像一个Y，而不可能像X，如图5.4所示\n",
    "![title](list.png)"
   ]
  },
  {
   "cell_type": "code",
   "execution_count": null,
   "metadata": {},
   "outputs": [],
   "source": [
    "'''\n",
    "我们可以用栈来解决这个问题：分别把两个链表的节点放入两个栈里，这样两个链表的尾结点就位于两个栈的栈顶，接下来比较两个栈顶的节点是否相同。如果相同，则把栈顶弹出接着比较下一个栈顶，直到找到最后一个相同的节点。\n",
    "之所以需要用到栈，是因为我们想同时遍历达到两个栈的尾结点。当两个链表的长度不相同时，如果我们从头开始遍历，那么达到尾结点的时间就不一致。其实解决这个问题还有一种更简单的方法:首先遍历两个链表得到它们的长度，就能知道哪个链表比较长，以及长的链表比短的链表多几个节点。在第二次遍历的时候，在较长的链表上先走若干步，接着同时在两个链表上遍历，找到第一个相同的节点就是它们的第一个公共节点\n",
    "时间复杂度O(m+n)\n",
    "'''\n",
    "def GetListLength(pHead):\n",
    "    nLength=0\n",
    "    pNode=pHead\n",
    "    while pNode:\n",
    "        nLength+=1\n",
    "        pNode=pNode.next\n",
    "    return nLength\n",
    "\n",
    "def FindFirstCommonNode(pHead1,pHead2):\n",
    "    #得到两个链表的长度\n",
    "    nLength1=GetListLength(pHead1)\n",
    "    nLength2=GetListLength(pHead2)\n",
    "    nLengthDif=nLength1-nLength2\n",
    "    pListHeadLong=pHead1\n",
    "    pListHeadShort=pHead2\n",
    "    if nLength2>nLength1:\n",
    "        pListHeadLong=pHead2\n",
    "        pListHeadShort=pHead1\n",
    "        nLengthDif=nLength2-nLength1\n",
    "    #先在长链表上走几步，再同时在两个链表上遍历\n",
    "    for i in range(nLengthDif):\n",
    "        pListHeadLong=pListHeadLong.next\n",
    "    while pListHeadLong and pListHeadShort and pListHeadLong!=pListHeadShort:\n",
    "        pListHeadLong=pListHeadLong.next\n",
    "        pListHeadShort=pListHeadShort.next\n",
    "    #得到第一个公共节点\n",
    "    pFirstCommonNode=pListHeadLong\n",
    "    return pFirstCommonNode"
   ]
  },
  {
   "cell_type": "code",
   "execution_count": null,
   "metadata": {},
   "outputs": [],
   "source": [
    "'''\n",
    "用栈来实现\n",
    "'''\n",
    "def FindFirstCommonNode(pHead1,pHead2):\n",
    "    if not pHead1 or not pHead2:\n",
    "        return None\n",
    "    stack1=[]\n",
    "    stack2=[]\n",
    "    while pHead1:\n",
    "        stack.append(pHead1)\n",
    "        pHead1=pHead1.next\n",
    "    while pHead2:\n",
    "        stack.append(pHead2)\n",
    "        pHead2=pHead2.next\n",
    "    node=None\n",
    "    while stack1 and stack2:\n",
    "        node1=stack1.pop()\n",
    "        node2=stack2.pop()\n",
    "        if node1 is node2:\n",
    "            node=node1\n",
    "        else:\n",
    "            break\n",
    "    return node"
   ]
  }
 ],
 "metadata": {
  "kernelspec": {
   "display_name": "Python 3",
   "language": "python",
   "name": "python3"
  },
  "language_info": {
   "codemirror_mode": {
    "name": "ipython",
    "version": 3
   },
   "file_extension": ".py",
   "mimetype": "text/x-python",
   "name": "python",
   "nbconvert_exporter": "python",
   "pygments_lexer": "ipython3",
   "version": "3.6.6"
  }
 },
 "nbformat": 4,
 "nbformat_minor": 2
}
