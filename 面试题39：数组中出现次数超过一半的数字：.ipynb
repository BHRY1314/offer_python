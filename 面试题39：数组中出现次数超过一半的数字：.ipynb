{
 "cells": [
  {
   "cell_type": "markdown",
   "metadata": {},
   "source": [
    "# 题目\n",
    "\n",
    "### 数组中有一个数字出现的次数超过数组长度的一半，请找出这个数字。例如，输入一个长度为9的数组{1,2,3,2,2,2,5,4,2}。由于数字2在数组中出现了5次，超过数组长度的一半，因此输出2"
   ]
  },
  {
   "cell_type": "code",
   "execution_count": null,
   "metadata": {},
   "outputs": [],
   "source": [
    "'''\n",
    "思路：\n",
    "\n",
    "数组中有一个数字出现的次数超过数组长度的一半，也就是说它出现的次数比其他所有数字出现的次数的和还要多。因此，我们可以考虑在遍历数组的时候保存两个值：一个是数组中的一个数字；另一个是次数。当我们遍历到下一个数字的时候，如果下一个数字和我们之前保存的数字相同，则次数减1.如果次数为0，那么我们需要保存下一个数字，并把次数设为1.由于我们要找的数字出现的次数比其他所有数字出现的次数还要多，那么要找的数字肯定是最后一次把次数设为1时对应的数字。\n",
    "\n",
    "'''\n",
    "def CheckMoreThanHalf(numbers,number):\n",
    "    times=0\n",
    "    l=len(numbers)\n",
    "    for i in range(0,l):\n",
    "        if numbers[i]==number:\n",
    "            times+=1\n",
    "    isMoreThanHalf=True\n",
    "    if times*2<=l:\n",
    "        g_bInputInvalid=True\n",
    "        isMoreThanHalf=False\n",
    "    return isMoreThanHalf\n",
    "\n",
    "def MoreThanHalfNumber(numbers):\n",
    "    if len(numbers)<=0:\n",
    "        return 0\n",
    "    result=numbers[0]\n",
    "    l=len(numbers)\n",
    "    times=1\n",
    "    for i in range(1,l):\n",
    "        if times==0:\n",
    "            result=numbers[i]\n",
    "            times=1\n",
    "        elif numbers[i]==result:\n",
    "            times+=1\n",
    "        else:\n",
    "            times-=1\n",
    "    if not CheckMoreThanHalf(numbers,result):\n",
    "        result=0\n",
    "    return result"
   ]
  },
  {
   "cell_type": "code",
   "execution_count": null,
   "metadata": {},
   "outputs": [],
   "source": [
    "'''\n",
    "利用字典\n",
    "'''\n",
    "def MoreThanHalfNum_Solution(self, numbers):\n",
    "    if not numbers:\n",
    "        return 0\n",
    "    if len(numbers)==1:\n",
    "        return numbers[0]\n",
    "    dic={}\n",
    "    for i in range(len(numbers)):\n",
    "        if numbers[i] not in dic:\n",
    "            dic[numbers[i]]=1\n",
    "        else:\n",
    "            dic[numbers[i]]+=1\n",
    "            if dic[numbers[i]]>(len(numbers)//2):\n",
    "                return numbers[i]\n",
    "    return 0"
   ]
  }
 ],
 "metadata": {
  "kernelspec": {
   "display_name": "Python 3",
   "language": "python",
   "name": "python3"
  },
  "language_info": {
   "codemirror_mode": {
    "name": "ipython",
    "version": 3
   },
   "file_extension": ".py",
   "mimetype": "text/x-python",
   "name": "python",
   "nbconvert_exporter": "python",
   "pygments_lexer": "ipython3",
   "version": "3.6.6"
  }
 },
 "nbformat": 4,
 "nbformat_minor": 2
}
