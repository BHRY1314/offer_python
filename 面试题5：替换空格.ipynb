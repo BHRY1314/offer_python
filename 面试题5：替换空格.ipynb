{
 "cells": [
  {
   "cell_type": "code",
   "execution_count": 2,
   "metadata": {},
   "outputs": [
    {
     "name": "stdout",
     "output_type": "stream",
     "text": [
      "We%20all%20like%20python\n"
     ]
    }
   ],
   "source": [
    "'''\n",
    "介绍：\n",
    "把字符串中的空格替换成%20\n",
    "'''\n",
    "'''\n",
    "过程:\n",
    "用python的内置函数会比书中介绍的简单很多\n",
    "'''\n",
    "def replace_space(rep_str):\n",
    "    rep_str=rep_str.replace(\" \",\"%20\")\n",
    "    return rep_str\n",
    "a=\"We all like python\"\n",
    "a=replace_space(a)\n",
    "print(a)"
   ]
  },
  {
   "cell_type": "code",
   "execution_count": null,
   "metadata": {},
   "outputs": [],
   "source": []
  }
 ],
 "metadata": {
  "kernelspec": {
   "display_name": "Python 3",
   "language": "python",
   "name": "python3"
  },
  "language_info": {
   "codemirror_mode": {
    "name": "ipython",
    "version": 3
   },
   "file_extension": ".py",
   "mimetype": "text/x-python",
   "name": "python",
   "nbconvert_exporter": "python",
   "pygments_lexer": "ipython3",
   "version": "3.6.6"
  }
 },
 "nbformat": 4,
 "nbformat_minor": 2
}
