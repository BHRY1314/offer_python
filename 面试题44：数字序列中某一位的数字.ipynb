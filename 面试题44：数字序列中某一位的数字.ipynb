{
 "cells": [
  {
   "cell_type": "markdown",
   "metadata": {},
   "source": [
    "# 题目\n",
    "\n",
    "### 数字以012345789101112131415……的格式序列化一个字符序列中。在这个序列中，第5位（从0开始计数）是5，第13位是1，第19位是4，等等。请写一个函数，求任意第n位对应的数字"
   ]
  },
  {
   "cell_type": "code",
   "execution_count": null,
   "metadata": {},
   "outputs": [],
   "source": [
    "'''\n",
    "思路：\n",
    "\n",
    "我们用一个具体的例子来分析，比如，序列的第1001位是什么？\n",
    "\n",
    "序列的前10位是0~9这10个只有一位的数字。显然第1001位在这10个数字之后，因此这10个数字可以直接跳过。我们再从后面紧跟着的序列中找第991（991=1001-10）位的数字\n",
    "\n",
    "接下来180位数字是90个10~99的两位数。由于991>180,所以第991位在所有的两位数之后。我们再跳过90个两位数，继续从后面找881位（811=991-180）\n",
    "\n",
    "接下来的2700位是900个100~999的三位数。由于811<2700，所以第811位是某个三位数的一位。由于811=270*3+1，这意味着第811位是从100开始的第270个数字即370的中间一位，也就是7\n",
    "'''\n",
    "\n",
    "'''\n",
    "countOfIntergers得到m位的数字总共有多少个？例如。输入2，则返回两位数（10~99）的个数90；输入3，则返回三位数（100~999）的个数900\n",
    "'''\n",
    "def counOfIntegers(digits):\n",
    "    if digits==1:\n",
    "        return 10\n",
    "    count=int(pow(10,digits-1))\n",
    "    return 9*count\n",
    "'''\n",
    "当我们知道要找的那一位数字位于某m位数之中后，就可以用如下的函数找出那一位数字\n",
    "'''\n",
    "def digitAtIndex(index,digits):\n",
    "    number=beginNumber(digits)+index/digits\n",
    "    indexFromRight=digits-index%digits\n",
    "    for i in range(indexFromRight):\n",
    "        number/=10\n",
    "    return number%10\n",
    "'''\n",
    "第一个m位数可以用如下函数求得\n",
    "'''\n",
    "def beginNumber(digits):\n",
    "    if digits==1:\n",
    "        return 0\n",
    "    return int(pow(10,digits-1))\n",
    "\n",
    "'''\n",
    "主函数\n",
    "'''\n",
    "def digitAtIndex(index):\n",
    "    if index<0:\n",
    "        return -1\n",
    "    digits=1\n",
    "    while True:\n",
    "        numbers=countOfIntegers(digits)\n",
    "        if index<numbers*digits:\n",
    "            return digitAtIndex(index,digits)\n",
    "        index-=digits*number\n",
    "        digits+=1\n",
    "    return -1"
   ]
  }
 ],
 "metadata": {
  "kernelspec": {
   "display_name": "Python 3",
   "language": "python",
   "name": "python3"
  },
  "language_info": {
   "codemirror_mode": {
    "name": "ipython",
    "version": 3
   },
   "file_extension": ".py",
   "mimetype": "text/x-python",
   "name": "python",
   "nbconvert_exporter": "python",
   "pygments_lexer": "ipython3",
   "version": "3.6.6"
  }
 },
 "nbformat": 4,
 "nbformat_minor": 2
}
