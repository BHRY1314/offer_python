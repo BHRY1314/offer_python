{
 "cells": [
  {
   "cell_type": "code",
   "execution_count": 1,
   "metadata": {},
   "outputs": [],
   "source": [
    "class TreeNode:\n",
    "    def __init__(self, x):\n",
    "        self.val = x\n",
    "        self.left = None\n",
    "        self.right = None"
   ]
  },
  {
   "cell_type": "code",
   "execution_count": null,
   "metadata": {},
   "outputs": [],
   "source": [
    "'''\n",
    "题目：输入某二叉树的前序遍历和中序遍历的结果，重建该二叉树，假设输入的前序遍历和中序遍历\n",
    "的结果都不含重复的数字\n",
    "'''\n",
    "'''\n",
    "思路：\n",
    "在中序遍历中找到根节点的位置，然后通过递归构建左右子树\n",
    "'''\n",
    "'''\n",
    "纯python实现\n",
    "'''\n",
    "def TreeBuild(pre,tin):\n",
    "    if not pre or not tin:\n",
    "        return None\n",
    "    root=TreeNode(pre.pop(0))\n",
    "    index=tin.index(root.val)\n",
    "    root.left=TreeBuild(pre,tin[:index])\n",
    "    root.right=TreeBuild(pre,tin[index+1:])\n",
    "    return root\n",
    "\n",
    "a=[1,2,4,7,3,5,6,8]\n",
    "b=[4,7,2,1,5,3,8,6]\n",
    "TreeBuild(a,b)"
   ]
  }
 ],
 "metadata": {
  "kernelspec": {
   "display_name": "Python 3",
   "language": "python",
   "name": "python3"
  },
  "language_info": {
   "codemirror_mode": {
    "name": "ipython",
    "version": 3
   },
   "file_extension": ".py",
   "mimetype": "text/x-python",
   "name": "python",
   "nbconvert_exporter": "python",
   "pygments_lexer": "ipython3",
   "version": "3.6.6"
  }
 },
 "nbformat": 4,
 "nbformat_minor": 2
}
