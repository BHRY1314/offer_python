{
 "cells": [
  {
   "cell_type": "markdown",
   "metadata": {},
   "source": [
    "#  面试题9：用两个栈实现队列\n",
    "\n",
    "### 用两个栈实现一个队列，请实现它的两个函数appendTail和deleteHead,分别完成在队列尾部插入节点和队列头部删除节点的功能\n"
   ]
  },
  {
   "cell_type": "code",
   "execution_count": null,
   "metadata": {},
   "outputs": [],
   "source": [
    "'''\n",
    "思路：\n",
    "利用两个栈，把数据压入一个栈中，然后逐个弹出压入第二个栈，然后从第二个栈中弹出。\n",
    "删除一个元素的步骤：当stack2不为空时，在stack2中的栈顶元素是最先进入队列的元素，可以弹\n",
    "出。当stack2为空时，我们把stack1中的元素逐个弹出并压入stack2.由于先进入队列的元素被压\n",
    "到Stack1的底端，经过弹出和压入操作后就处于stack2的顶端，又可以直接弹出\n",
    "'''\n",
    "\n",
    "def __init__(self):\n",
    "    self.stack1=[]\n",
    "    self.stack2=[]\n",
    "\n",
    "def push(self,node):\n",
    "    self.stack1.push(node)\n",
    "    \n",
    "def pop(self):\n",
    "    if self.stack2=[]:\n",
    "        while self.stack1:\n",
    "            data=self.stack1.pop()\n",
    "            self.stack2.append(data)\n",
    "            return self.stack2.pop()\n",
    "    return self.stack2.pop()"
   ]
  }
 ],
 "metadata": {
  "kernelspec": {
   "display_name": "Python 3",
   "language": "python",
   "name": "python3"
  },
  "language_info": {
   "codemirror_mode": {
    "name": "ipython",
    "version": 3
   },
   "file_extension": ".py",
   "mimetype": "text/x-python",
   "name": "python",
   "nbconvert_exporter": "python",
   "pygments_lexer": "ipython3",
   "version": "3.6.6"
  }
 },
 "nbformat": 4,
 "nbformat_minor": 2
}
