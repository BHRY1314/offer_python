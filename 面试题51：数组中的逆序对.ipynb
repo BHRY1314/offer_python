{
 "cells": [
  {
   "cell_type": "markdown",
   "metadata": {},
   "source": [
    "# 题目\n",
    "\n",
    "### 在数组中的两个数字，如果前面一个数字大于后面的数字，则这两个数字构成一个逆序对。输入一个数组，求出这个数组中的逆序对的总数。例如，在数组{7,5,6,4}中，一共存在5个逆序对，分别是（7,6）、（7,5）、（7,4）、（6,5）和（5,4）"
   ]
  },
  {
   "cell_type": "markdown",
   "metadata": {},
   "source": [
    "###### 思路\n",
    "\n",
    "###### 如图5.2(a)和图5.2(b)所示，我们先把数组分解成两个长度为2的子数组，再把这两个子数组分别拆分成两个长度为1的子数组。接下来一边合并相邻的子数组，一边统计逆序对的数目。在第一对长度为1的子数组{7}，{5}中，7大于5，因此{7,5}组成一个逆序对。同样，在第二队长度为1的子数组{6}、{4}中，也有逆序对（6，4）。由于我们已经统计了这两对子数组内部的逆序对，因此需要把这两对子数组排序，如图5.2（c）所示，以免在以后的统计过程中再重复统计\n",
    "![title](5_2.png)\n",
    "###### 接下来我们统计两个长度为2的子数组之间的逆序对。我们在图5.3中细分图5.2（d）的合并子数组及统计逆序对的过程。\n",
    "![title](5_3.png)\n",
    "###### 注：图中省略了最后一步，即复制第二个子数组最后剩余的4到辅助数组。（a）P1指向的数字大于P2指向的数字，表明数组中存在逆序对。P2指向的数字是第二个子数组的第二个数字，因此第二个子数组中有两个数组比7小。把逆序对数目加2，并把7复制到辅助数组，向前移动P1和P3。（b）P1指向的数字小于P2指向的数字，没有逆序对。把P2指向的数字复制到辅助数组，并向前移动P2和P3.（c）P1指向的数字大于P2指向的数字，因此存在逆序对。由于P2指向的数字是第二个子数组的第一个数字，子数组只有一个数字比5小。把逆序对数目加1，并把5复制到辅助数组，向前移动P1和P3"
   ]
  },
  {
   "cell_type": "code",
   "execution_count": null,
   "metadata": {},
   "outputs": [],
   "source": [
    "'''\n",
    "我们先用两个指针分别指向两个子数组的末尾，并每次比较两个指针指向的数字。如果第一个子数组中的数字大于第二个子数组中的数字，则构成逆序对，并且逆序对的数目等于第二个子数组中剩余数字的个数，如图5.3(a)和图5.3(c)所示。如果第一个数组的数字小于或等于第二个数组中的数字，则不构成逆序对，如图5.3(b)所示。每次比较的时候，我们都把较大的数字从后往前复制到一个辅助数组，确保数组中的数字是递增排序的，在把较大的数字复制到辅助数组之后，把对应的指针向前移动一位，接下来进行下一轮比较。\n",
    "'''\n",
    "def InversePairsCore(data,copy,start,end):\n",
    "    if start==end:\n",
    "        copy[start]=data[start]\n",
    "        return 0\n",
    "    length=(end-start)/2\n",
    "    left=InversePairsCore(copy,data,start,start+length)\n",
    "    right=InversePairsCore(copy,data,start+length+1,end)\n",
    "    #i初始化为前半段最后一个数字的下标\n",
    "    i=start+length\n",
    "    #j初始化为后半段最后一个数字的下标\n",
    "    j=end\n",
    "    indexCopy=end\n",
    "    count=0\n",
    "    while i>=start and j>=start+length+1:\n",
    "        if data[i]>data[j]:\n",
    "            indexCopy-=1\n",
    "            i-=1\n",
    "            copy[indexCopy]=data[i]\n",
    "            count+=j-start-length\n",
    "        else:\n",
    "            indexCopy-=1\n",
    "            j-=1\n",
    "            copy[indexCopy]=data[j]\n",
    "    for i in range(start,-1,-1):\n",
    "        indexCopy-=1\n",
    "        copy[indexCopy]=data[i]\n",
    "    for j in range(start+length+1,-1,-1):\n",
    "        indexCopy-=1\n",
    "        copy[indexCopy]=data[j]\n",
    "    return left+right+count\n",
    "\n",
    "def InverseParis(data):\n",
    "    if not data:\n",
    "        return 0\n",
    "    length=len(data)\n",
    "    copy=[0]*length\n",
    "    for i in range(length):\n",
    "        copy[i]=data[i]\n",
    "    count=InversePairsCore(data,copy,0,length-1)\n",
    "    return count"
   ]
  },
  {
   "cell_type": "code",
   "execution_count": null,
   "metadata": {},
   "outputs": [],
   "source": [
    "'''\n",
    "Python简写版\n",
    "'''\n",
    "def __init__(self):\n",
    "    self.count = 0\n",
    "def mergeSort(self, data):\n",
    "    if len(data) < 2: \n",
    "        return data:\n",
    "    mid = len(data)//2\n",
    "    left = self.mergeSort(data[:mid])\n",
    "    right = self.mergeSort(data[mid:])\n",
    "    i, j = 0, 0\n",
    "    res = []\n",
    "    while i < len(left) and j < len(right):\n",
    "        if left[i] <= right[j]:\n",
    "            res.append(left[i])\n",
    "            i += 1\n",
    "        else:\n",
    "            res.append(right[j])\n",
    "            j += 1\n",
    "            self.count += (len(left)-i)\n",
    "    return res + left[i:] + right[j:]\n",
    "def InversePairs(self, data):\n",
    "    # write code here\n",
    "    if len(data) < 2: \n",
    "        return 0\n",
    "    self.mergeSort(data)\n",
    "    return self.count % 1000000007"
   ]
  }
 ],
 "metadata": {
  "kernelspec": {
   "display_name": "Python 3",
   "language": "python",
   "name": "python3"
  },
  "language_info": {
   "codemirror_mode": {
    "name": "ipython",
    "version": 3
   },
   "file_extension": ".py",
   "mimetype": "text/x-python",
   "name": "python",
   "nbconvert_exporter": "python",
   "pygments_lexer": "ipython3",
   "version": "3.6.6"
  }
 },
 "nbformat": 4,
 "nbformat_minor": 2
}
