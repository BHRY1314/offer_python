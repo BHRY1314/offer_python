{
 "cells": [
  {
   "cell_type": "markdown",
   "metadata": {},
   "source": [
    "# 题目\n",
    "\n",
    "### 请实现一个函数，输入一个整数，输出该数二进制表示中1的个数。例如，把9表示成二进制是1001，有2位是1。因此，如果输入9，则该函数输出2"
   ]
  },
  {
   "cell_type": "code",
   "execution_count": 18,
   "metadata": {
    "scrolled": false
   },
   "outputs": [
    {
     "data": {
      "text/plain": [
       "0"
      ]
     },
     "execution_count": 18,
     "metadata": {},
     "output_type": "execute_result"
    }
   ],
   "source": [
    "'''\n",
    "常规解法：\n",
    "首先把输入的数字n和1做与运算，判断n的最低位是不是1.接着把1左移一位得到2，再和n做\n",
    "与运算，就能判断n的次低位是不是1....这样反复左移，每次都能判断n的其中一位是不是1.\n",
    "'''\n",
    "'''\n",
    "由于python没有无符号整形，这个方法不适用（原书中的flag是定义成了unsigned int）\n",
    "'''\n",
    "# def NumberOf1(n):\n",
    "#     count=0\n",
    "#     flag=1\n",
    "#     while flag<n:\n",
    "#         if n&flag:\n",
    "#             count+=1\n",
    "#         flag=flag<<1\n",
    "#     return count\n",
    "\n",
    "# NumberOf1(2)"
   ]
  },
  {
   "cell_type": "code",
   "execution_count": 15,
   "metadata": {},
   "outputs": [
    {
     "data": {
      "text/plain": [
       "31"
      ]
     },
     "execution_count": 15,
     "metadata": {},
     "output_type": "execute_result"
    }
   ],
   "source": [
    "'''\n",
    "优化算法\n",
    "'''\n",
    "'''\n",
    "思路：\n",
    "把一个整数减去1，再和原整数做与运算，会把该整数最右边的1变成0。那么一个整数的\n",
    "二进制表示中有多少个1，就可以进行多少次这样的操作\n",
    "'''\n",
    "'''\n",
    "书中没有指出是否考虑了负数的情况，在测试时，输入负数会陷入死循环，所以对书中的代码\n",
    "进行了简单修改，添加了判断\n",
    "'''\n",
    "def NumberOf1(n):\n",
    "    count=0\n",
    "    if n < 0:\n",
    "        n = n+(2**32)\n",
    "        #另一种写法\n",
    "        #n=n & 0xFFFFFFFF\n",
    "    while n:\n",
    "        count+=1\n",
    "        n=n&(n-1)\n",
    "    return count\n",
    "\n",
    "NumberOf1(-2)"
   ]
  },
  {
   "cell_type": "code",
   "execution_count": 14,
   "metadata": {},
   "outputs": [
    {
     "data": {
      "text/plain": [
       "31"
      ]
     },
     "execution_count": 14,
     "metadata": {},
     "output_type": "execute_result"
    }
   ],
   "source": [
    "'''\n",
    "纯python实现\n",
    "'''\n",
    "def NumberOf1_solution2(n):\n",
    "    count=0\n",
    "    if n<0:\n",
    "        n=pow(2,32)+n\n",
    "    number=bin(n).replace(\"0b\",\" \").count(\"1\")\n",
    "    return number\n",
    "\n",
    "NumberOf1_solution2(-2)"
   ]
  },
  {
   "cell_type": "code",
   "execution_count": null,
   "metadata": {},
   "outputs": [],
   "source": []
  }
 ],
 "metadata": {
  "kernelspec": {
   "display_name": "Python 3",
   "language": "python",
   "name": "python3"
  },
  "language_info": {
   "codemirror_mode": {
    "name": "ipython",
    "version": 3
   },
   "file_extension": ".py",
   "mimetype": "text/x-python",
   "name": "python",
   "nbconvert_exporter": "python",
   "pygments_lexer": "ipython3",
   "version": "3.6.6"
  }
 },
 "nbformat": 4,
 "nbformat_minor": 2
}
