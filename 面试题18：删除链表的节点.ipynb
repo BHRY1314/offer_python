{
 "cells": [
  {
   "cell_type": "markdown",
   "metadata": {},
   "source": [
    "# 题目一：在O(1)时间内删除链表节点\n",
    "\n",
    "### 给定单向列表的头指针和一个节点指针，定义一个函数在O(1)时间内删除该节点。\n"
   ]
  },
  {
   "cell_type": "code",
   "execution_count": 20,
   "metadata": {},
   "outputs": [],
   "source": [
    "class ListNode:\n",
    "     def __init__(self,x):\n",
    "            self.val = x\n",
    "            self.next = None"
   ]
  },
  {
   "cell_type": "code",
   "execution_count": 31,
   "metadata": {},
   "outputs": [],
   "source": [
    "'''\n",
    "思路:\n",
    "\n",
    "我们要删除节点i,先把i的下一个节点j的内容复制到i，然后把i的指针指向节点j的下一个节点。\n",
    "此时再删除节点j，其效果刚好是把当前需要的节点i删除了。\n",
    "如果要删除的节点位于链表的尾部，我们仍然从链表的头节点开始，顺序遍历得到该节点的前序\n",
    "节点，并完成删除操作\n",
    "如果链表只有一个节点，而我们又要删除链表的头节点（也就是尾结点），那么，此时我们在删\n",
    "除节点之后，还需要把头节点设置为null\n",
    "'''\n",
    "def DeleteNode(pListHead:ListNode,pToBeDeleted:ListNode):\n",
    "    if not pListHead or not pToBeDeleted:\n",
    "        return\n",
    "    #1.要删除的节点不是尾结点\n",
    "    if pToBeDeleted.next:\n",
    "        pNext=pToBeDeleted.next\n",
    "        pToBeDeleted.val=pNext.val\n",
    "        pToBeDeleted.next=pNext.next\n",
    "\n",
    "        pNext=None\n",
    "        pNext.val=None\n",
    "        pNext.next=None\n",
    "    #2.链表中只有一个节点，删除头节点（也就是尾结点）\n",
    "    elif pListHead==pToBeDeleted:\n",
    "        pToBeDeleted=None\n",
    "        pListHead=None\n",
    "    #3.链表中有多个节点，删除尾结点\n",
    "    else:\n",
    "        pNode=pListHead\n",
    "        while pNode.next!=pToBeDeleted:\n",
    "            pNode=pNode.next\n",
    "        pNode.next=None\n",
    "        pToBeDeleted=None\n",
    "    return pListNode\n",
    "'''\n",
    "平均时间复杂度:[O(1)*(n-1)+O(n)]/n=O(1)\n",
    "'''"
   ]
  },
  {
   "cell_type": "markdown",
   "metadata": {},
   "source": [
    "# 题目二\n",
    "\n",
    "### 在一个排序的链表中，如何删除重复的节点?\n"
   ]
  },
  {
   "cell_type": "code",
   "execution_count": 32,
   "metadata": {},
   "outputs": [],
   "source": [
    "'''\n",
    "思路：\n",
    "\n",
    "我们从头遍历整个链表。如果当前节点（代码中的pNode）的值与下一个节点的值相同，那么\n",
    "它们就是重复的节点，都可以被删除。为了保证删除之后的链表仍然是相连的，我们要把当\n",
    "前节点的前一个节点（代码中的pPreNode）和后面值比当前节点的值大的节点相连。我们要\n",
    "确保pPreNode始终与下一个没有重复的节点连接在一起\n",
    "'''\n",
    "def DeleteDuplication(pHead:ListNode):\n",
    "    if pHead==None:\n",
    "        return\n",
    "    pPreNode=None\n",
    "    pNode=pHead\n",
    "    while pNode:\n",
    "        pNext=pNode.next\n",
    "        needDelete=False\n",
    "        if pNext and pNext.val==pNode.val:\n",
    "            needDelete=True\n",
    "        if not needDelete:\n",
    "            pPreNode=pNode\n",
    "            pNode=pNode.next\n",
    "        else:\n",
    "            value=pNode.val\n",
    "            pToBeDel=pNode\n",
    "            while pToBeDel and pToBeDel.val==value:\n",
    "                pNext=pToBeDel.next\n",
    "                pToBeDel=None\n",
    "                pToBeDel=pNext\n",
    "            if pPreNode==None:\n",
    "                pHead=pNext\n",
    "            else:\n",
    "                pPreNode.next=pNext\n",
    "            pNode=pNext\n"
   ]
  },
  {
   "cell_type": "code",
   "execution_count": 33,
   "metadata": {},
   "outputs": [],
   "source": [
    "'''\n",
    "别人的解法，利用了之前的方法\n",
    "'''\n",
    "def isRepeat(node):\n",
    "    if node.next:\n",
    "        if node.val==node.next.val:\n",
    "            return True\n",
    "    return False\n",
    "\n",
    "def delete_repeat(pHead):\n",
    "    node=pHead\n",
    "    flag=False\n",
    "    '''\n",
    "    flag说明：例如'a'->'a'，第一次循环删除第二个'a',然后通过这个flag来进行判断\n",
    "    上一次操作是否删除重复节点,如果是的话，再次判断后面还有没有'a'了，没有，\n",
    "    则通过这个flag把第一个'a'也应该删除，\n",
    "    '''\n",
    "    while node:\n",
    "        if isRepeat(node):\n",
    "            # 删除重复节点，并且不进行node=node.next_node，可能出现连续多个重复节点\n",
    "            pHead=DeleteNode(pHead,node)\n",
    "            flag=True\n",
    "        else:\n",
    "            if flag:\n",
    "                pHead=DeleteNode(pHead,node)\n",
    "                flag=False\n",
    "            node=node.next\n",
    "    return pHead\n"
   ]
  }
 ],
 "metadata": {
  "kernelspec": {
   "display_name": "Python 3",
   "language": "python",
   "name": "python3"
  },
  "language_info": {
   "codemirror_mode": {
    "name": "ipython",
    "version": 3
   },
   "file_extension": ".py",
   "mimetype": "text/x-python",
   "name": "python",
   "nbconvert_exporter": "python",
   "pygments_lexer": "ipython3",
   "version": "3.6.6"
  }
 },
 "nbformat": 4,
 "nbformat_minor": 2
}
