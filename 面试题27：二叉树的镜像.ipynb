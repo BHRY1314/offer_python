{
 "cells": [
  {
   "cell_type": "markdown",
   "metadata": {},
   "source": [
    "# 题目\n",
    "\n",
    "### 请完成一个函数，输入一个二叉树，该函数输出它的镜像"
   ]
  },
  {
   "cell_type": "raw",
   "metadata": {},
   "source": [
    "二叉树的镜像定义：源二叉树 \n",
    "    \t    8\n",
    "    \t   /  \\\n",
    "    \t  6   10\n",
    "    \t / \\  / \\\n",
    "    \t5  7 9 11\n",
    "    \t镜像二叉树\n",
    "    \t    8\n",
    "    \t   /  \\\n",
    "    \t  10   6\n",
    "    \t / \\  / \\\n",
    "    \t11 9 7  5"
   ]
  },
  {
   "cell_type": "code",
   "execution_count": null,
   "metadata": {},
   "outputs": [],
   "source": [
    "class TreeNode:\n",
    "    def __init__(self, x):\n",
    "        self.val = x\n",
    "        self.left = None\n",
    "        self.right = None"
   ]
  },
  {
   "cell_type": "code",
   "execution_count": null,
   "metadata": {},
   "outputs": [],
   "source": [
    "'''\n",
    "思路：\n",
    "\n",
    "画图之后就可以看出镜像其实很简单，互为镜像的树根节点一样，交换非叶节点的左右节点即可\n",
    "'''\n",
    "def MirrorRecursively(pNode):\n",
    "    if not pNode:\n",
    "        return None\n",
    "    if not pNode.left and not pNode.right:\n",
    "        return None\n",
    "    pTemp=pNode.left\n",
    "    pNode.left=pNode.right\n",
    "    pNode.right=pTemp\n",
    "    if pNode.left:\n",
    "        MirrorRecursively(pNode.left)\n",
    "    if pNode.right:\n",
    "        MirrorRecursively(pNode.right)\n",
    "    "
   ]
  },
  {
   "cell_type": "code",
   "execution_count": null,
   "metadata": {},
   "outputs": [],
   "source": [
    "'''\n",
    "非递归的版本\n",
    "'''\n",
    "def Mirror(root):\n",
    "    if not root:\n",
    "        return None\n",
    "    tree=[]\n",
    "    tree.append(root)\n",
    "    pNode=root\n",
    "    while tree:\n",
    "        root=tree.pop(0)\n",
    "        root.left,root.right=root.right,root.left\n",
    "        if root.left:\n",
    "            tree.append(root.left)\n",
    "        if root.right:\n",
    "            tree.append(root.right)\n",
    "    return pNode"
   ]
  }
 ],
 "metadata": {
  "kernelspec": {
   "display_name": "Python 3",
   "language": "python",
   "name": "python3"
  },
  "language_info": {
   "codemirror_mode": {
    "name": "ipython",
    "version": 3
   },
   "file_extension": ".py",
   "mimetype": "text/x-python",
   "name": "python",
   "nbconvert_exporter": "python",
   "pygments_lexer": "ipython3",
   "version": "3.6.6"
  }
 },
 "nbformat": 4,
 "nbformat_minor": 2
}
